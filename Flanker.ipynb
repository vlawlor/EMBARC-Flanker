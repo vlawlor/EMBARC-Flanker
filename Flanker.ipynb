{
 "cells": [
  {
   "cell_type": "markdown",
   "metadata": {},
   "source": [
    "# Analysis of EMBARC Flanker Data"
   ]
  },
  {
   "cell_type": "code",
   "execution_count": 1,
   "metadata": {
    "collapsed": false
   },
   "outputs": [
    {
     "name": "stderr",
     "output_type": "stream",
     "text": [
      "/Users/mlm2/anaconda/envs/pythonthreefive/lib/python3.5/site-packages/IPython/parallel.py:13: ShimWarning: The `IPython.parallel` package has been deprecated. You should import from ipyparallel instead.\n",
      "  \"You should import from ipyparallel instead.\", ShimWarning)\n",
      "/Users/mlm2/anaconda/envs/pythonthreefive/lib/python3.5/site-packages/IPython/html.py:14: ShimWarning: The `IPython.html` package has been deprecated. You should import from `notebook` instead. `IPython.html.widgets` has moved to `ipywidgets`.\n",
      "  \"`IPython.html.widgets` has moved to `ipywidgets`.\", ShimWarning)\n"
     ]
    },
    {
     "name": "stdout",
     "output_type": "stream",
     "text": [
      "/Users/mlm2/Work/Expts/EMBARC\n"
     ]
    }
   ],
   "source": [
    "import datetime, mmap,os,re, sys, decimal, hddm\n",
    "import numpy as np \n",
    "import pandas as pd\n",
    "import seaborn as sns \n",
    "import matplotlib.pyplot as plt\n",
    "import scipy as sp\n",
    "from scipy.stats import pearsonr,shapiro,sem,ttest_ind\n",
    "from patsy import dmatrix\n",
    "import warnings \n",
    "warnings.filterwarnings('ignore')# I'm sick of all the red.\n",
    "os.environ['R_HOME'] = '/Users/mlm2/anaconda/envs/pythonthreefive/lib/R' # couldn't find R in this environment for some reason\n",
    "% matplotlib inline \n",
    "% load_ext rpy2.ipython\n",
    "%R library(lsmeans)\n",
    "%R library(afex)\n",
    "%R library(ppcor)\n",
    "%cd /Users/mlm2/Work/Expts/EMBARC/\n",
    "import Flanker_proc"
   ]
  },
  {
   "cell_type": "markdown",
   "metadata": {},
   "source": [
    "## Getting Data Together"
   ]
  },
  {
   "cell_type": "code",
   "execution_count": 3,
   "metadata": {
    "collapsed": true
   },
   "outputs": [],
   "source": [
    "uname = !whoami\n",
    "uname = uname[0]\n",
    "path2analysis = '/Users/' + uname + '/Work/Expts/EMBARC/' # also where git repo lives\n",
    "today = datetime.datetime.today().strftime(\"%m_%d_%Y\")"
   ]
  },
  {
   "cell_type": "code",
   "execution_count": 4,
   "metadata": {
    "collapsed": false
   },
   "outputs": [
    {
     "data": {
      "text/html": [
       "<div>\n",
       "<table border=\"1\" class=\"dataframe\">\n",
       "  <thead>\n",
       "    <tr style=\"text-align: right;\">\n",
       "      <th></th>\n",
       "      <th>ProjectSpecificID</th>\n",
       "      <th>feasibility</th>\n",
       "      <th>shaps_total_dichotomous</th>\n",
       "      <th>shaps_total_continuous</th>\n",
       "      <th>severity1</th>\n",
       "      <th>partic_age</th>\n",
       "      <th>partic_gender</th>\n",
       "      <th>masq2_29</th>\n",
       "      <th>hamd_09</th>\n",
       "    </tr>\n",
       "  </thead>\n",
       "  <tbody>\n",
       "    <tr>\n",
       "      <th>1</th>\n",
       "      <td>TX0001</td>\n",
       "      <td>2.0</td>\n",
       "      <td>0.0</td>\n",
       "      <td>15.0</td>\n",
       "      <td>1.0</td>\n",
       "      <td>58.0</td>\n",
       "      <td>Female</td>\n",
       "      <td>5.0</td>\n",
       "      <td>0.0</td>\n",
       "    </tr>\n",
       "    <tr>\n",
       "      <th>3</th>\n",
       "      <td>TX0005</td>\n",
       "      <td>2.0</td>\n",
       "      <td>6.0</td>\n",
       "      <td>34.0</td>\n",
       "      <td>0.0</td>\n",
       "      <td>42.0</td>\n",
       "      <td>Female</td>\n",
       "      <td>4.0</td>\n",
       "      <td>0.0</td>\n",
       "    </tr>\n",
       "    <tr>\n",
       "      <th>5</th>\n",
       "      <td>TX0006</td>\n",
       "      <td>2.0</td>\n",
       "      <td>9.0</td>\n",
       "      <td>40.0</td>\n",
       "      <td>1.0</td>\n",
       "      <td>52.0</td>\n",
       "      <td>Female</td>\n",
       "      <td>5.0</td>\n",
       "      <td>0.0</td>\n",
       "    </tr>\n",
       "    <tr>\n",
       "      <th>7</th>\n",
       "      <td>TX0007</td>\n",
       "      <td>2.0</td>\n",
       "      <td>0.0</td>\n",
       "      <td>16.0</td>\n",
       "      <td>2.0</td>\n",
       "      <td>20.0</td>\n",
       "      <td>Female</td>\n",
       "      <td>1.0</td>\n",
       "      <td>0.0</td>\n",
       "    </tr>\n",
       "    <tr>\n",
       "      <th>9</th>\n",
       "      <td>TX0008</td>\n",
       "      <td>2.0</td>\n",
       "      <td>4.0</td>\n",
       "      <td>31.0</td>\n",
       "      <td>2.0</td>\n",
       "      <td>28.0</td>\n",
       "      <td>Male</td>\n",
       "      <td>3.0</td>\n",
       "      <td>0.0</td>\n",
       "    </tr>\n",
       "  </tbody>\n",
       "</table>\n",
       "</div>"
      ],
      "text/plain": [
       "  ProjectSpecificID  feasibility  shaps_total_dichotomous  \\\n",
       "1            TX0001          2.0                      0.0   \n",
       "3            TX0005          2.0                      6.0   \n",
       "5            TX0006          2.0                      9.0   \n",
       "7            TX0007          2.0                      0.0   \n",
       "9            TX0008          2.0                      4.0   \n",
       "\n",
       "   shaps_total_continuous  severity1  partic_age partic_gender  masq2_29  \\\n",
       "1                    15.0        1.0        58.0        Female       5.0   \n",
       "3                    34.0        0.0        42.0        Female       4.0   \n",
       "5                    40.0        1.0        52.0        Female       5.0   \n",
       "7                    16.0        2.0        20.0        Female       1.0   \n",
       "9                    31.0        2.0        28.0          Male       3.0   \n",
       "\n",
       "   hamd_09  \n",
       "1      0.0  \n",
       "3      0.0  \n",
       "5      0.0  \n",
       "7      0.0  \n",
       "9      0.0  "
      ]
     },
     "execution_count": 4,
     "metadata": {},
     "output_type": "execute_result"
    }
   ],
   "source": [
    "# getting in the clinical data that tells us which group the participant is in\n",
    "\n",
    "clin_data = pd.read_csv(path2analysis + 'Data/groups.csv', encoding=\"latin-1\")\n",
    "clin_data = clin_data[['ProjectSpecificID', 'feasibility', 'shaps_total_dichotomous', \n",
    "                       'shaps_total_continuous', 'severity1','partic_age', 'partic_gender', \n",
    "                       'masq2_29', 'hamd_09']] \n",
    "clin_data = clin_data[pd.notnull(clin_data['feasibility'])] # only care where there is a val for feasibility\n",
    "clin_data.head()"
   ]
  },
  {
   "cell_type": "code",
   "execution_count": 5,
   "metadata": {
    "collapsed": false
   },
   "outputs": [
    {
     "data": {
      "text/html": [
       "<div>\n",
       "<table border=\"1\" class=\"dataframe\">\n",
       "  <thead>\n",
       "    <tr style=\"text-align: right;\">\n",
       "      <th></th>\n",
       "      <th>ProjectSpecificID</th>\n",
       "      <th>feasibility</th>\n",
       "      <th>shaps_total_dichotomous</th>\n",
       "      <th>shaps_total_continuous</th>\n",
       "      <th>severity1</th>\n",
       "      <th>partic_age</th>\n",
       "      <th>partic_gender</th>\n",
       "      <th>masq2_29</th>\n",
       "      <th>hamd_09</th>\n",
       "    </tr>\n",
       "  </thead>\n",
       "  <tbody>\n",
       "    <tr>\n",
       "      <th>707</th>\n",
       "      <td>CU0132</td>\n",
       "      <td>1.0</td>\n",
       "      <td>9.0</td>\n",
       "      <td>38.0</td>\n",
       "      <td>0.0</td>\n",
       "      <td>24.0</td>\n",
       "      <td>Female</td>\n",
       "      <td>5.0</td>\n",
       "      <td>0.0</td>\n",
       "    </tr>\n",
       "    <tr>\n",
       "      <th>709</th>\n",
       "      <td>CU0133</td>\n",
       "      <td>1.0</td>\n",
       "      <td>5.0</td>\n",
       "      <td>32.0</td>\n",
       "      <td>1.0</td>\n",
       "      <td>24.0</td>\n",
       "      <td>Female</td>\n",
       "      <td>4.0</td>\n",
       "      <td>0.0</td>\n",
       "    </tr>\n",
       "    <tr>\n",
       "      <th>711</th>\n",
       "      <td>CU0134</td>\n",
       "      <td>1.0</td>\n",
       "      <td>0.0</td>\n",
       "      <td>16.0</td>\n",
       "      <td>0.0</td>\n",
       "      <td>64.0</td>\n",
       "      <td>Female</td>\n",
       "      <td>5.0</td>\n",
       "      <td>0.0</td>\n",
       "    </tr>\n",
       "    <tr>\n",
       "      <th>713</th>\n",
       "      <td>CU0135</td>\n",
       "      <td>1.0</td>\n",
       "      <td>7.0</td>\n",
       "      <td>36.0</td>\n",
       "      <td>1.0</td>\n",
       "      <td>23.0</td>\n",
       "      <td>Female</td>\n",
       "      <td>5.0</td>\n",
       "      <td>0.0</td>\n",
       "    </tr>\n",
       "    <tr>\n",
       "      <th>715</th>\n",
       "      <td>CU0071</td>\n",
       "      <td>5.0</td>\n",
       "      <td>2.0</td>\n",
       "      <td>24.0</td>\n",
       "      <td>0.0</td>\n",
       "      <td>18.0</td>\n",
       "      <td>Female</td>\n",
       "      <td>5.0</td>\n",
       "      <td>0.0</td>\n",
       "    </tr>\n",
       "  </tbody>\n",
       "</table>\n",
       "</div>"
      ],
      "text/plain": [
       "    ProjectSpecificID  feasibility  shaps_total_dichotomous  \\\n",
       "707            CU0132          1.0                      9.0   \n",
       "709            CU0133          1.0                      5.0   \n",
       "711            CU0134          1.0                      0.0   \n",
       "713            CU0135          1.0                      7.0   \n",
       "715            CU0071          5.0                      2.0   \n",
       "\n",
       "     shaps_total_continuous  severity1  partic_age partic_gender  masq2_29  \\\n",
       "707                    38.0        0.0        24.0        Female       5.0   \n",
       "709                    32.0        1.0        24.0        Female       4.0   \n",
       "711                    16.0        0.0        64.0        Female       5.0   \n",
       "713                    36.0        1.0        23.0        Female       5.0   \n",
       "715                    24.0        0.0        18.0        Female       5.0   \n",
       "\n",
       "     hamd_09  \n",
       "707      0.0  \n",
       "709      0.0  \n",
       "711      0.0  \n",
       "713      0.0  \n",
       "715      0.0  "
      ]
     },
     "execution_count": 5,
     "metadata": {},
     "output_type": "execute_result"
    }
   ],
   "source": [
    "clin_data.tail()"
   ]
  },
  {
   "cell_type": "code",
   "execution_count": 4,
   "metadata": {
    "collapsed": false
   },
   "outputs": [
    {
     "name": "stdout",
     "output_type": "stream",
     "text": [
      "cp: /Users/mlm2/Work/Expts/EMBARC/Data/Misc/Overwritten_by_TCs/Flanker_EMBARC_01172012-0018-1.txt: No such file or directory\n",
      "cp: /Users/mlm2/Work/Expts/EMBARC/Data/Misc/Overwritten_by_TCs/Flanker_EMBARC_01172012-0019-1.txt: No such file or directory\n",
      "cp: /Users/mlm2/Work/Expts/EMBARC/Data/Misc/Overwritten_by_TCs/Flanker_EMBARC_01172012-0026-1.txt: No such file or directory\n",
      "cp: /Users/mlm2/Work/Expts/EMBARC/Data/Misc/Overwritten_by_TCs/Flanker_EMBARC_01172012-0033-1.txt: No such file or directory\n"
     ]
    }
   ],
   "source": [
    "## Preventive maintenance: clean up files with problems before starting the processing\n",
    "\n",
    "## Rename file for Michigan subject 79, session 2 (subject and session were swapped)\n",
    "\n",
    "!mv /Users/mlm2/Work/Expts/EMBARC/Data/Flanker/Michigan/EprimeOutFiles/Flanker_EMBARC_121312-2-0079.txt \\\n",
    "/Users/mlm2/Work/Expts/EMBARC/Data/Flanker/Michigan/EprimeOutFiles/Flanker_EMBARC_121312-0079-2.txt\n",
    "\n",
    "# Now correct the Subject and Session information for Michigan subject 79, session 2\n",
    "\n",
    "!sed -e 's/Subject: 2/Subject: 79/' -e 's/Session: 0079/Session: 2/' \\\n",
    "/Users/mlm2/Work/Expts/EMBARC/Data/Flanker/Michigan/EprimeOutFiles/Flanker_EMBARC_121312-0079-2.txt > \\\n",
    "/Users/mlm2/Work/Expts/EMBARC/Data/Flanker/Michigan/EprimeOutFiles/temp.txt\n",
    "\n",
    "!mv /Users/mlm2/Work/Expts/EMBARC/Data/Flanker/Michigan/EprimeOutFiles/temp.txt \\\n",
    "/Users/mlm2/Work/Expts/EMBARC/Data/Flanker/Michigan/EprimeOutFiles/Flanker_EMBARC_121312-0079-2.txt\n",
    "\n",
    "## Correct the subject number for Texas subject 61 (subject was entered as 695, session as 61)\n",
    "\n",
    "!sed -e 's/Subject: 695/Subject: 0061/' -e 's/Session: 0061/Session: 1/' < \\\n",
    "/Users/mlm2/Work/Expts/EMBARC/Data/Flanker/Texas/EprimeOutFiles/Flanker_EMBARC_01172012-0061-1.txt > \\\n",
    "/Users/mlm2/Work/Expts/EMBARC/Data/Flanker/Texas/EprimeOutFiles/temp.txt\n",
    "\n",
    "!mv /Users/mlm2/Work/Expts/EMBARC/Data/Flanker/Texas/EprimeOutFiles/temp.txt \\\n",
    "/Users/mlm2/Work/Expts/EMBARC/Data/Flanker/Texas/EprimeOutFiles/Flanker_EMBARC_01172012-0061-1.txt\n",
    "\n",
    "## Remove file labeled '038' for Texas; they are binary files, and there are already fine '0038' files\n",
    "\n",
    "!rm /Users/mlm2/Work/Expts/EMBARC/Data/Flanker/Texas/EprimeOutFiles/Flanker_EMBARC_01172012-038-1.txt\n",
    "\n",
    "## Correct the Subject and Session information for Texas subject 6, session 1 (they were reversed).\n",
    "## File also ends with *1txt.txt, so overwrite it with a file ending *1.txt.\n",
    "\n",
    "!sed -e 's/Subject: 1/Subject: 0006/' -e 's/Session: 0006/Session: 1/' < \\\n",
    "/Users/mlm2/Work/Expts/EMBARC/Data/Flanker/Texas/EprimeOutFiles/Flanker_EMBARC_04292011-0006-1.txt.txt > \\\n",
    "/Users/mlm2/Work/Expts/EMBARC/Data/Flanker/Texas/EprimeOutFiles/temp.txt\n",
    "\n",
    "!rm /Users/mlm2/Work/Expts/EMBARC/Data/Flanker/Texas/EprimeOutFiles/Flanker_EMBARC_04292011-0006-1.txt.txt\n",
    "\n",
    "!mv /Users/mlm2/Work/Expts/EMBARC/Data/Flanker/Texas/EprimeOutFiles/temp.txt \\\n",
    "/Users/mlm2/Work/Expts/EMBARC/Data/Flanker/Texas/EprimeOutFiles/Flanker_EMBARC_04292011-0006-1.txt\n",
    "\n",
    "## Correct the Subject information for Michigan subject 37, session 1. It is correct in the filename and in one\n",
    "## line of the file, but is '0028' on another line, which will cause the processed data to be labeled as 0028.\n",
    "## Since there are multiple other files for Michigan subject 37 and no others for Michigan subject 28, I am sticking\n",
    "## with 37 as the correct subject number.\n",
    "\n",
    "!sed -e 's/Subject: 0028/Subject: 0037/' < \\\n",
    "/Users/mlm2/Work/Expts/EMBARC/Data/Flanker/Michigan/EprimeOutFiles/Flanker_EMBARC_121312-0037-1.txt > \\\n",
    "/Users/mlm2/Work/Expts/EMBARC/Data/Flanker/Michigan/EprimeOutFiles/temp.txt\n",
    "\n",
    "!mv /Users/mlm2/Work/Expts/EMBARC/Data/Flanker/Michigan/EprimeOutFiles/temp.txt \\\n",
    "/Users/mlm2/Work/Expts/EMBARC/Data/Flanker/Michigan/EprimeOutFiles/Flanker_EMBARC_121312-0037-1.txt\n",
    "\n",
    "## Replace files that were accidentally overwritten when traveling controls were processed. These are files for:\n",
    "# MG subject 26, session 1\n",
    "# NY subject 18, session 1\n",
    "# NY subject 19, session 1\n",
    "# TX subject 33, session 1\n",
    "\n",
    "!cp /Users/mlm2/Work/Expts/EMBARC/Data/Misc/Overwritten_by_TCs/Flanker_EMBARC_01172012-0018-1.txt \\\n",
    "/Users/mlm2/Work/Expts/EMBARC/Data/Flanker/New_York/EprimeOutFiles\n",
    "\n",
    "!cp /Users/mlm2/Work/Expts/EMBARC/Data/Misc/Overwritten_by_TCs/Flanker_EMBARC_01172012-0019-1.txt \\\n",
    "/Users/mlm2/Work/Expts/EMBARC/Data/Flanker/New_York/EprimeOutFiles\n",
    "\n",
    "!cp /Users/mlm2/Work/Expts/EMBARC/Data/Misc/Overwritten_by_TCs/Flanker_EMBARC_01172012-0026-1.txt \\\n",
    "/Users/mlm2/Work/Expts/EMBARC/Data/Flanker/Massachusetts/EprimeOutFiles\n",
    "\n",
    "!cp /Users/mlm2/Work/Expts/EMBARC/Data/Misc/Overwritten_by_TCs/Flanker_EMBARC_01172012-0033-1.txt \\\n",
    "/Users/mlm2/Work/Expts/EMBARC/Data/Flanker/Texas/EprimeOutFiles"
   ]
  },
  {
   "cell_type": "code",
   "execution_count": 5,
   "metadata": {
    "collapsed": false
   },
   "outputs": [
    {
     "name": "stdout",
     "output_type": "stream",
     "text": [
      "/Users/mlm2/Work/Expts/EMBARC/Data/Flanker\n"
     ]
    }
   ],
   "source": [
    "%cd /Users/mlm2/Work/Expts/EMBARC/Data/Flanker/\n",
    "\n",
    "# Regex definitions\n",
    "\n",
    "site_d = re.compile('Site:\\s([A-Za-z]+\\s*[A-Za-z]+)')\n",
    "sub_d = re.compile('Subject:\\s(\\d+)')\n",
    "sess_d = re.compile('Session:\\s([12])') # Excluding any session 3 data as that should always correspond to traveling ctrl\n",
    "\n",
    "# Work on files from each site separately, as the filenames may overlap\n",
    "\n",
    "sites = ['Massachusetts','Michigan','New_York','Texas']\n",
    "\n",
    "for site in sites:\n",
    "    # Grab files, omitting practice and 'output' files, as well as any labeled as session 3 (i.e., traveling ctrls)\n",
    "    # Also omit CU0004 files labeled 'org', which were from an aborted, 'original' run that was re-run \n",
    "    file_list = !ls $site/EprimeOutFiles/*txt | grep 'Flanker_EMBARC_[0-9]' | grep -v '3.txt$' | grep -v 'org'\n",
    "    \n",
    "    for current_file in file_list:\n",
    "               \n",
    "        site = 'NA'\n",
    "        sub = np.nan\n",
    "        sess = np.nan\n",
    "        \n",
    "        with open(current_file,'r', encoding=\"latin-1\") as f:\n",
    "        \n",
    "            for line in f:\n",
    "                \n",
    "                site_m = site_d.search(line)\n",
    "                sub_m = sub_d.search(line)\n",
    "                sess_m = sess_d.search(line)\n",
    "                \n",
    "                # Site\n",
    "                if site_m:\n",
    "                    site = site_m.group(1)\n",
    "                    \n",
    "                    if site == 'Massachusetts':\n",
    "                        site = 'MG'\n",
    "                    \n",
    "                    elif site == 'Michigan':\n",
    "                        site = 'UM'\n",
    "                    \n",
    "                    elif site == 'New York':\n",
    "                        site = 'CU'\n",
    "                    \n",
    "                    elif site == 'Texas':\n",
    "                        site = 'TX'\n",
    "                             \n",
    "                # Subject\n",
    "                if sub_m:\n",
    "                    subject = sub_m.group(1)\n",
    "                    subject = subject.zfill(4) # Subject should always be width=4\n",
    "        \n",
    "                # Session\n",
    "                if sess_m:\n",
    "                    session = sess_m.group(1)\n",
    "                    \n",
    "        fname = site + '_' + subject + '_' + str(session) + '.txt'           \n",
    "        !cp $current_file /Users/mlm2/Work/Expts/EMBARC/Data/Flanker/Raw/$fname "
   ]
  },
  {
   "cell_type": "code",
   "execution_count": 9,
   "metadata": {
    "collapsed": false,
    "scrolled": false
   },
   "outputs": [
    {
     "name": "stdout",
     "output_type": "stream",
     "text": [
      "/Users/mlm2/Work/Expts/EMBARC/Data/Flanker/Raw\n"
     ]
    }
   ],
   "source": [
    "## Push raw data through processing stream in order to get (a) CSV files that could be used\n",
    "## for DDM analysis and (b) summary files with interference, gratton, and rab/lam effects\n",
    "\n",
    "%cd /Users/mlm2/Work/Expts/EMBARC/Data/Flanker/Raw/\n",
    "\n",
    "# Iterate over files, extracting site, subject, and session information from filenames\n",
    "# Place single-subject trial-level and summary into 'ddm_pieces' and 'sum_pieces', respectively\n",
    "# Write out single-subject trial-level CSV and group summary CSV for safe-keeping\n",
    "\n",
    "ddm_pieces = []\n",
    "sum_pieces = []\n",
    "\n",
    "file_list = !ls *txt\n",
    "\n",
    "for current_file in file_list:\n",
    "    \n",
    "    site = current_file.split('_')[0]\n",
    "    sub = current_file.split('_')[1]\n",
    "    sess = current_file.split('_')[2]\n",
    "    sess = sess.split('.')[0]\n",
    "    #print(sub)\n",
    "    \n",
    "    fname = site + '_' + sub + '_' + sess + '.csv'\n",
    "                        \n",
    "    # Output clean CSV for the DDM, also append it to 'ddm_pieces'\n",
    "    clean_df = Flanker_proc.clean(current_file)\n",
    "    clean_df['site'] = site\n",
    "    clean_df = clean_df[['site','subject','session','block','trial','stimulus','response','accuracy','rt','feedback',\n",
    "                         'ln_rt','outlier','rab_lam','gratton']]\n",
    "    try:\n",
    "        clean_df.to_csv('/Users/mlm2/Work/Expts/EMBARC/Data/Flanker/Processed/' + fname, index=False)\n",
    "    except:\n",
    "        print ('didnt work')\n",
    "    ddm_pieces.append(clean_df)\n",
    "    \n",
    "    # Generate the summary and place it in 'sum_pieces'\n",
    "    \n",
    "    sum_frame = Flanker_proc.summarize(clean_df)\n",
    "    sum_frame['site'] = site\n",
    "    sum_frame['subject'] = sub\n",
    "    sum_frame['session'] = sess\n",
    "    \n",
    "    sum_pieces.append(sum_frame)\n",
    " \n",
    "# Concatenate pieces into dfs\n",
    "\n",
    "trial_summary = pd.concat(ddm_pieces)\n",
    "trial_summary.sort(['site','subject','session'],inplace=True)\n",
    "trial_summary\n",
    "\n",
    "flanker_summary = pd.concat(sum_pieces)   \n",
    "flanker_summary.sort(columns=['site','subject','session'],inplace=True)\n",
    "\n",
    "# For the Flanker Summary, create and add ProjectSpecificID for merge with PA clin file.\n",
    "\n",
    "new_subject = []\n",
    "\n",
    "flanker_summary['subject'] = flanker_summary['subject'].astype(str)\n",
    "\n",
    "for i, row_i in flanker_summary.iterrows():\n",
    "    new_subject.append(row_i['subject'].zfill(4))\n",
    "\n",
    "flanker_summary['subject'] = new_subject\n",
    "flanker_summary['ProjectSpecificID'] = flanker_summary['site'] + flanker_summary['subject']\n",
    "\n",
    "# Put the summary columns in a nicer order\n",
    "\n",
    "# flanker_summary = flanker_summary[['ProjectSpecificID', 'site', 'subject', 'session','num_outs', 'num_noresp', \n",
    "#                                    'num_con_trls', 'con_acc', 'con_corr_rt', 'num_inc_trls', 'inc_acc', 'inc_corr_rt', \n",
    "#                                    'num_post_inc_err', 'flanker_qc', 'gratton_qc', 'rab_lam_qc', 'flanker_acc', \n",
    "#                                    'flanker_rt', 'gratton_acc', 'gratton_rt', 'rab_lam_acc', 'rab_lam_rt']]\n",
    "\n",
    "flanker_summary = flanker_summary[['ProjectSpecificID', 'site', 'subject', 'session', 'num_outs', 'num_noresp', \n",
    "                                   'num_con_trls', 'con_acc', 'con_corr_rt', 'num_inc_trls', 'inc_acc', \n",
    "                                   'inc_corr_rt', 'con_inc_acc', 'con_inc_rt', 'inc_inc_acc', 'inc_inc_rt', \n",
    "                                   'post_err_acc', 'post_err_rt', 'post_corr_acc', 'post_corr_rt', \n",
    "                                   'num_post_inc_err', 'flanker_qc', 'gratton_qc', 'rab_lam_qc', 'flanker_acc', \n",
    "                                   'flanker_rt', 'gratton_acc', 'gratton_rt', 'rab_lam_acc', 'rab_lam_rt']]\n",
    "\n",
    "# Write trial-level data and group summary to CSV\n",
    "\n",
    "trial_summary.to_csv('/Users/mlm2/Work/Expts/EMBARC/Data/Flanker/Processed/EMBARC_Flk_DDM_'\n",
    "                     + datetime.datetime.now().strftime('%b-%d-%I%M%p-%G') + '.csv',index=False)\n",
    "\n",
    "flanker_summary.to_csv('/Users/mlm2/Work/Expts/EMBARC/Data/Flanker/Processed/EMBARC_Flk_Summary_' \n",
    "                       + datetime.datetime.now().strftime('%b-%d-%I%M%p-%G') + '.csv',index=False)\n"
   ]
  },
  {
   "cell_type": "code",
   "execution_count": 10,
   "metadata": {
    "collapsed": false
   },
   "outputs": [
    {
     "data": {
      "text/plain": [
       "719"
      ]
     },
     "execution_count": 10,
     "metadata": {},
     "output_type": "execute_result"
    }
   ],
   "source": [
    "len(flanker_summary)"
   ]
  },
  {
   "cell_type": "code",
   "execution_count": 11,
   "metadata": {
    "collapsed": false
   },
   "outputs": [
    {
     "data": {
      "text/html": [
       "<div>\n",
       "<table border=\"1\" class=\"dataframe\">\n",
       "  <thead>\n",
       "    <tr style=\"text-align: right;\">\n",
       "      <th></th>\n",
       "      <th>ProjectSpecificID</th>\n",
       "      <th>site</th>\n",
       "      <th>subject</th>\n",
       "      <th>session</th>\n",
       "      <th>num_outs</th>\n",
       "      <th>num_noresp</th>\n",
       "      <th>num_con_trls</th>\n",
       "      <th>con_acc</th>\n",
       "      <th>con_corr_rt</th>\n",
       "      <th>num_inc_trls</th>\n",
       "      <th>...</th>\n",
       "      <th>num_post_inc_err</th>\n",
       "      <th>flanker_qc</th>\n",
       "      <th>gratton_qc</th>\n",
       "      <th>rab_lam_qc</th>\n",
       "      <th>flanker_acc</th>\n",
       "      <th>flanker_rt</th>\n",
       "      <th>gratton_acc</th>\n",
       "      <th>gratton_rt</th>\n",
       "      <th>rab_lam_acc</th>\n",
       "      <th>rab_lam_rt</th>\n",
       "    </tr>\n",
       "  </thead>\n",
       "  <tbody>\n",
       "    <tr>\n",
       "      <th>0</th>\n",
       "      <td>CU0001</td>\n",
       "      <td>CU</td>\n",
       "      <td>0001</td>\n",
       "      <td>1</td>\n",
       "      <td>4</td>\n",
       "      <td>4</td>\n",
       "      <td>224</td>\n",
       "      <td>0.995536</td>\n",
       "      <td>407.587444</td>\n",
       "      <td>118</td>\n",
       "      <td>...</td>\n",
       "      <td>5</td>\n",
       "      <td>1</td>\n",
       "      <td>1</td>\n",
       "      <td>0</td>\n",
       "      <td>0.046383</td>\n",
       "      <td>44.707199</td>\n",
       "      <td>-0.009868</td>\n",
       "      <td>10.944079</td>\n",
       "      <td>0.018018</td>\n",
       "      <td>13.025225</td>\n",
       "    </tr>\n",
       "    <tr>\n",
       "      <th>0</th>\n",
       "      <td>CU0001</td>\n",
       "      <td>CU</td>\n",
       "      <td>0001</td>\n",
       "      <td>2</td>\n",
       "      <td>3</td>\n",
       "      <td>0</td>\n",
       "      <td>230</td>\n",
       "      <td>0.991304</td>\n",
       "      <td>376.175439</td>\n",
       "      <td>117</td>\n",
       "      <td>...</td>\n",
       "      <td>2</td>\n",
       "      <td>1</td>\n",
       "      <td>1</td>\n",
       "      <td>0</td>\n",
       "      <td>0.008398</td>\n",
       "      <td>36.581083</td>\n",
       "      <td>-0.048514</td>\n",
       "      <td>11.536082</td>\n",
       "      <td>0.008772</td>\n",
       "      <td>-12.403509</td>\n",
       "    </tr>\n",
       "    <tr>\n",
       "      <th>0</th>\n",
       "      <td>CU0002</td>\n",
       "      <td>CU</td>\n",
       "      <td>0002</td>\n",
       "      <td>1</td>\n",
       "      <td>3</td>\n",
       "      <td>3</td>\n",
       "      <td>228</td>\n",
       "      <td>0.986842</td>\n",
       "      <td>417.062222</td>\n",
       "      <td>116</td>\n",
       "      <td>...</td>\n",
       "      <td>8</td>\n",
       "      <td>1</td>\n",
       "      <td>1</td>\n",
       "      <td>1</td>\n",
       "      <td>0.055808</td>\n",
       "      <td>93.900741</td>\n",
       "      <td>-0.004758</td>\n",
       "      <td>-40.540048</td>\n",
       "      <td>0.028302</td>\n",
       "      <td>79.365566</td>\n",
       "    </tr>\n",
       "    <tr>\n",
       "      <th>0</th>\n",
       "      <td>CU0002</td>\n",
       "      <td>CU</td>\n",
       "      <td>0002</td>\n",
       "      <td>2</td>\n",
       "      <td>2</td>\n",
       "      <td>0</td>\n",
       "      <td>229</td>\n",
       "      <td>0.995633</td>\n",
       "      <td>385.885965</td>\n",
       "      <td>119</td>\n",
       "      <td>...</td>\n",
       "      <td>13</td>\n",
       "      <td>1</td>\n",
       "      <td>1</td>\n",
       "      <td>1</td>\n",
       "      <td>0.104877</td>\n",
       "      <td>85.661205</td>\n",
       "      <td>0.120000</td>\n",
       "      <td>-19.885000</td>\n",
       "      <td>0.000000</td>\n",
       "      <td>7.757509</td>\n",
       "    </tr>\n",
       "    <tr>\n",
       "      <th>0</th>\n",
       "      <td>CU0003</td>\n",
       "      <td>CU</td>\n",
       "      <td>0003</td>\n",
       "      <td>1</td>\n",
       "      <td>2</td>\n",
       "      <td>23</td>\n",
       "      <td>214</td>\n",
       "      <td>0.953271</td>\n",
       "      <td>326.240196</td>\n",
       "      <td>111</td>\n",
       "      <td>...</td>\n",
       "      <td>41</td>\n",
       "      <td>1</td>\n",
       "      <td>1</td>\n",
       "      <td>1</td>\n",
       "      <td>0.331649</td>\n",
       "      <td>74.817775</td>\n",
       "      <td>0.027299</td>\n",
       "      <td>-11.556034</td>\n",
       "      <td>0.020579</td>\n",
       "      <td>6.974085</td>\n",
       "    </tr>\n",
       "  </tbody>\n",
       "</table>\n",
       "<p>5 rows × 30 columns</p>\n",
       "</div>"
      ],
      "text/plain": [
       "  ProjectSpecificID site subject session  num_outs  num_noresp  num_con_trls  \\\n",
       "0            CU0001   CU    0001       1         4           4           224   \n",
       "0            CU0001   CU    0001       2         3           0           230   \n",
       "0            CU0002   CU    0002       1         3           3           228   \n",
       "0            CU0002   CU    0002       2         2           0           229   \n",
       "0            CU0003   CU    0003       1         2          23           214   \n",
       "\n",
       "    con_acc  con_corr_rt  num_inc_trls     ...      num_post_inc_err  \\\n",
       "0  0.995536   407.587444           118     ...                     5   \n",
       "0  0.991304   376.175439           117     ...                     2   \n",
       "0  0.986842   417.062222           116     ...                     8   \n",
       "0  0.995633   385.885965           119     ...                    13   \n",
       "0  0.953271   326.240196           111     ...                    41   \n",
       "\n",
       "   flanker_qc  gratton_qc  rab_lam_qc  flanker_acc  flanker_rt  gratton_acc  \\\n",
       "0           1           1           0     0.046383   44.707199    -0.009868   \n",
       "0           1           1           0     0.008398   36.581083    -0.048514   \n",
       "0           1           1           1     0.055808   93.900741    -0.004758   \n",
       "0           1           1           1     0.104877   85.661205     0.120000   \n",
       "0           1           1           1     0.331649   74.817775     0.027299   \n",
       "\n",
       "   gratton_rt  rab_lam_acc  rab_lam_rt  \n",
       "0   10.944079     0.018018   13.025225  \n",
       "0   11.536082     0.008772  -12.403509  \n",
       "0  -40.540048     0.028302   79.365566  \n",
       "0  -19.885000     0.000000    7.757509  \n",
       "0  -11.556034     0.020579    6.974085  \n",
       "\n",
       "[5 rows x 30 columns]"
      ]
     },
     "execution_count": 11,
     "metadata": {},
     "output_type": "execute_result"
    }
   ],
   "source": [
    "flanker_summary.head()"
   ]
  },
  {
   "cell_type": "code",
   "execution_count": 12,
   "metadata": {
    "collapsed": false
   },
   "outputs": [
    {
     "data": {
      "text/html": [
       "<div>\n",
       "<table border=\"1\" class=\"dataframe\">\n",
       "  <thead>\n",
       "    <tr style=\"text-align: right;\">\n",
       "      <th></th>\n",
       "      <th>ProjectSpecificID</th>\n",
       "      <th>site</th>\n",
       "      <th>subject</th>\n",
       "      <th>session</th>\n",
       "      <th>num_outs</th>\n",
       "      <th>num_noresp</th>\n",
       "      <th>num_con_trls</th>\n",
       "      <th>con_acc</th>\n",
       "      <th>con_corr_rt</th>\n",
       "      <th>num_inc_trls</th>\n",
       "      <th>...</th>\n",
       "      <th>num_post_inc_err</th>\n",
       "      <th>flanker_qc</th>\n",
       "      <th>gratton_qc</th>\n",
       "      <th>rab_lam_qc</th>\n",
       "      <th>flanker_acc</th>\n",
       "      <th>flanker_rt</th>\n",
       "      <th>gratton_acc</th>\n",
       "      <th>gratton_rt</th>\n",
       "      <th>rab_lam_acc</th>\n",
       "      <th>rab_lam_rt</th>\n",
       "    </tr>\n",
       "  </thead>\n",
       "  <tbody>\n",
       "    <tr>\n",
       "      <th>0</th>\n",
       "      <td>UM0119</td>\n",
       "      <td>UM</td>\n",
       "      <td>0119</td>\n",
       "      <td>2</td>\n",
       "      <td>7</td>\n",
       "      <td>0</td>\n",
       "      <td>227</td>\n",
       "      <td>0.995595</td>\n",
       "      <td>339.743363</td>\n",
       "      <td>116</td>\n",
       "      <td>...</td>\n",
       "      <td>6</td>\n",
       "      <td>1</td>\n",
       "      <td>1</td>\n",
       "      <td>1</td>\n",
       "      <td>0.047319</td>\n",
       "      <td>74.020274</td>\n",
       "      <td>0.063830</td>\n",
       "      <td>-8.336879</td>\n",
       "      <td>0.000000</td>\n",
       "      <td>28.870370</td>\n",
       "    </tr>\n",
       "    <tr>\n",
       "      <th>0</th>\n",
       "      <td>UM0120</td>\n",
       "      <td>UM</td>\n",
       "      <td>0120</td>\n",
       "      <td>1</td>\n",
       "      <td>2</td>\n",
       "      <td>0</td>\n",
       "      <td>228</td>\n",
       "      <td>1.000000</td>\n",
       "      <td>280.864035</td>\n",
       "      <td>120</td>\n",
       "      <td>...</td>\n",
       "      <td>22</td>\n",
       "      <td>1</td>\n",
       "      <td>1</td>\n",
       "      <td>1</td>\n",
       "      <td>0.191667</td>\n",
       "      <td>44.074109</td>\n",
       "      <td>0.000619</td>\n",
       "      <td>-3.655322</td>\n",
       "      <td>-0.014527</td>\n",
       "      <td>-3.774133</td>\n",
       "    </tr>\n",
       "    <tr>\n",
       "      <th>0</th>\n",
       "      <td>UM0120</td>\n",
       "      <td>UM</td>\n",
       "      <td>0120</td>\n",
       "      <td>2</td>\n",
       "      <td>0</td>\n",
       "      <td>0</td>\n",
       "      <td>230</td>\n",
       "      <td>0.995652</td>\n",
       "      <td>265.074236</td>\n",
       "      <td>120</td>\n",
       "      <td>...</td>\n",
       "      <td>25</td>\n",
       "      <td>1</td>\n",
       "      <td>1</td>\n",
       "      <td>1</td>\n",
       "      <td>0.203986</td>\n",
       "      <td>44.715238</td>\n",
       "      <td>0.017822</td>\n",
       "      <td>9.993399</td>\n",
       "      <td>0.031579</td>\n",
       "      <td>4.023158</td>\n",
       "    </tr>\n",
       "    <tr>\n",
       "      <th>0</th>\n",
       "      <td>UM0121</td>\n",
       "      <td>UM</td>\n",
       "      <td>0121</td>\n",
       "      <td>1</td>\n",
       "      <td>3</td>\n",
       "      <td>1</td>\n",
       "      <td>227</td>\n",
       "      <td>1.000000</td>\n",
       "      <td>427.563877</td>\n",
       "      <td>119</td>\n",
       "      <td>...</td>\n",
       "      <td>12</td>\n",
       "      <td>1</td>\n",
       "      <td>1</td>\n",
       "      <td>1</td>\n",
       "      <td>0.100840</td>\n",
       "      <td>116.333320</td>\n",
       "      <td>0.112245</td>\n",
       "      <td>-32.688383</td>\n",
       "      <td>0.000000</td>\n",
       "      <td>-11.724359</td>\n",
       "    </tr>\n",
       "    <tr>\n",
       "      <th>0</th>\n",
       "      <td>UM0121</td>\n",
       "      <td>UM</td>\n",
       "      <td>0121</td>\n",
       "      <td>2</td>\n",
       "      <td>6</td>\n",
       "      <td>0</td>\n",
       "      <td>227</td>\n",
       "      <td>0.995595</td>\n",
       "      <td>419.867257</td>\n",
       "      <td>117</td>\n",
       "      <td>...</td>\n",
       "      <td>6</td>\n",
       "      <td>1</td>\n",
       "      <td>1</td>\n",
       "      <td>1</td>\n",
       "      <td>0.055424</td>\n",
       "      <td>84.514562</td>\n",
       "      <td>-0.007277</td>\n",
       "      <td>6.311704</td>\n",
       "      <td>0.018349</td>\n",
       "      <td>-3.174312</td>\n",
       "    </tr>\n",
       "  </tbody>\n",
       "</table>\n",
       "<p>5 rows × 30 columns</p>\n",
       "</div>"
      ],
      "text/plain": [
       "  ProjectSpecificID site subject session  num_outs  num_noresp  num_con_trls  \\\n",
       "0            UM0119   UM    0119       2         7           0           227   \n",
       "0            UM0120   UM    0120       1         2           0           228   \n",
       "0            UM0120   UM    0120       2         0           0           230   \n",
       "0            UM0121   UM    0121       1         3           1           227   \n",
       "0            UM0121   UM    0121       2         6           0           227   \n",
       "\n",
       "    con_acc  con_corr_rt  num_inc_trls     ...      num_post_inc_err  \\\n",
       "0  0.995595   339.743363           116     ...                     6   \n",
       "0  1.000000   280.864035           120     ...                    22   \n",
       "0  0.995652   265.074236           120     ...                    25   \n",
       "0  1.000000   427.563877           119     ...                    12   \n",
       "0  0.995595   419.867257           117     ...                     6   \n",
       "\n",
       "   flanker_qc  gratton_qc  rab_lam_qc  flanker_acc  flanker_rt  gratton_acc  \\\n",
       "0           1           1           1     0.047319   74.020274     0.063830   \n",
       "0           1           1           1     0.191667   44.074109     0.000619   \n",
       "0           1           1           1     0.203986   44.715238     0.017822   \n",
       "0           1           1           1     0.100840  116.333320     0.112245   \n",
       "0           1           1           1     0.055424   84.514562    -0.007277   \n",
       "\n",
       "   gratton_rt  rab_lam_acc  rab_lam_rt  \n",
       "0   -8.336879     0.000000   28.870370  \n",
       "0   -3.655322    -0.014527   -3.774133  \n",
       "0    9.993399     0.031579    4.023158  \n",
       "0  -32.688383     0.000000  -11.724359  \n",
       "0    6.311704     0.018349   -3.174312  \n",
       "\n",
       "[5 rows x 30 columns]"
      ]
     },
     "execution_count": 12,
     "metadata": {},
     "output_type": "execute_result"
    }
   ],
   "source": [
    "flanker_summary.tail()"
   ]
  },
  {
   "cell_type": "code",
   "execution_count": 13,
   "metadata": {
    "collapsed": false
   },
   "outputs": [
    {
     "data": {
      "text/plain": [
       "251528"
      ]
     },
     "execution_count": 13,
     "metadata": {},
     "output_type": "execute_result"
    }
   ],
   "source": [
    "len(trial_summary)"
   ]
  },
  {
   "cell_type": "code",
   "execution_count": 14,
   "metadata": {
    "collapsed": false
   },
   "outputs": [
    {
     "data": {
      "text/html": [
       "<div>\n",
       "<table border=\"1\" class=\"dataframe\">\n",
       "  <thead>\n",
       "    <tr style=\"text-align: right;\">\n",
       "      <th></th>\n",
       "      <th>site</th>\n",
       "      <th>subject</th>\n",
       "      <th>session</th>\n",
       "      <th>block</th>\n",
       "      <th>trial</th>\n",
       "      <th>stimulus</th>\n",
       "      <th>response</th>\n",
       "      <th>accuracy</th>\n",
       "      <th>rt</th>\n",
       "      <th>feedback</th>\n",
       "      <th>ln_rt</th>\n",
       "      <th>outlier</th>\n",
       "      <th>rab_lam</th>\n",
       "      <th>gratton</th>\n",
       "    </tr>\n",
       "  </thead>\n",
       "  <tbody>\n",
       "    <tr>\n",
       "      <th>0</th>\n",
       "      <td>CU</td>\n",
       "      <td>1</td>\n",
       "      <td>1</td>\n",
       "      <td>1</td>\n",
       "      <td>1</td>\n",
       "      <td>INC</td>\n",
       "      <td>right</td>\n",
       "      <td>1.0</td>\n",
       "      <td>697.0</td>\n",
       "      <td>TOO_SLOW</td>\n",
       "      <td>6.546785</td>\n",
       "      <td>0</td>\n",
       "      <td>0</td>\n",
       "      <td>0</td>\n",
       "    </tr>\n",
       "    <tr>\n",
       "      <th>1</th>\n",
       "      <td>CU</td>\n",
       "      <td>1</td>\n",
       "      <td>1</td>\n",
       "      <td>1</td>\n",
       "      <td>2</td>\n",
       "      <td>CON</td>\n",
       "      <td>left</td>\n",
       "      <td>1.0</td>\n",
       "      <td>402.0</td>\n",
       "      <td>Blank</td>\n",
       "      <td>5.996452</td>\n",
       "      <td>0</td>\n",
       "      <td>2</td>\n",
       "      <td>0</td>\n",
       "    </tr>\n",
       "    <tr>\n",
       "      <th>2</th>\n",
       "      <td>CU</td>\n",
       "      <td>1</td>\n",
       "      <td>1</td>\n",
       "      <td>1</td>\n",
       "      <td>3</td>\n",
       "      <td>INC</td>\n",
       "      <td>left</td>\n",
       "      <td>1.0</td>\n",
       "      <td>390.0</td>\n",
       "      <td>Blank</td>\n",
       "      <td>5.966147</td>\n",
       "      <td>0</td>\n",
       "      <td>0</td>\n",
       "      <td>1</td>\n",
       "    </tr>\n",
       "    <tr>\n",
       "      <th>3</th>\n",
       "      <td>CU</td>\n",
       "      <td>1</td>\n",
       "      <td>1</td>\n",
       "      <td>1</td>\n",
       "      <td>4</td>\n",
       "      <td>CON</td>\n",
       "      <td>right</td>\n",
       "      <td>1.0</td>\n",
       "      <td>342.0</td>\n",
       "      <td>Blank</td>\n",
       "      <td>5.834811</td>\n",
       "      <td>0</td>\n",
       "      <td>2</td>\n",
       "      <td>0</td>\n",
       "    </tr>\n",
       "    <tr>\n",
       "      <th>4</th>\n",
       "      <td>CU</td>\n",
       "      <td>1</td>\n",
       "      <td>1</td>\n",
       "      <td>1</td>\n",
       "      <td>5</td>\n",
       "      <td>INC</td>\n",
       "      <td>left</td>\n",
       "      <td>1.0</td>\n",
       "      <td>406.0</td>\n",
       "      <td>Blank</td>\n",
       "      <td>6.006353</td>\n",
       "      <td>0</td>\n",
       "      <td>0</td>\n",
       "      <td>1</td>\n",
       "    </tr>\n",
       "  </tbody>\n",
       "</table>\n",
       "</div>"
      ],
      "text/plain": [
       "  site  subject  session  block  trial stimulus response  accuracy     rt  \\\n",
       "0   CU        1        1      1      1      INC    right       1.0  697.0   \n",
       "1   CU        1        1      1      2      CON     left       1.0  402.0   \n",
       "2   CU        1        1      1      3      INC     left       1.0  390.0   \n",
       "3   CU        1        1      1      4      CON    right       1.0  342.0   \n",
       "4   CU        1        1      1      5      INC     left       1.0  406.0   \n",
       "\n",
       "   feedback     ln_rt  outlier  rab_lam  gratton  \n",
       "0  TOO_SLOW  6.546785        0        0        0  \n",
       "1     Blank  5.996452        0        2        0  \n",
       "2     Blank  5.966147        0        0        1  \n",
       "3     Blank  5.834811        0        2        0  \n",
       "4     Blank  6.006353        0        0        1  "
      ]
     },
     "execution_count": 14,
     "metadata": {},
     "output_type": "execute_result"
    }
   ],
   "source": [
    "trial_summary.head()"
   ]
  },
  {
   "cell_type": "code",
   "execution_count": 15,
   "metadata": {
    "collapsed": false
   },
   "outputs": [
    {
     "data": {
      "text/html": [
       "<div>\n",
       "<table border=\"1\" class=\"dataframe\">\n",
       "  <thead>\n",
       "    <tr style=\"text-align: right;\">\n",
       "      <th></th>\n",
       "      <th>site</th>\n",
       "      <th>subject</th>\n",
       "      <th>session</th>\n",
       "      <th>block</th>\n",
       "      <th>trial</th>\n",
       "      <th>stimulus</th>\n",
       "      <th>response</th>\n",
       "      <th>accuracy</th>\n",
       "      <th>rt</th>\n",
       "      <th>feedback</th>\n",
       "      <th>ln_rt</th>\n",
       "      <th>outlier</th>\n",
       "      <th>rab_lam</th>\n",
       "      <th>gratton</th>\n",
       "    </tr>\n",
       "  </thead>\n",
       "  <tbody>\n",
       "    <tr>\n",
       "      <th>345</th>\n",
       "      <td>UM</td>\n",
       "      <td>121</td>\n",
       "      <td>2</td>\n",
       "      <td>5</td>\n",
       "      <td>66</td>\n",
       "      <td>INC</td>\n",
       "      <td>left</td>\n",
       "      <td>1.0</td>\n",
       "      <td>529.0</td>\n",
       "      <td>Blank</td>\n",
       "      <td>6.270988</td>\n",
       "      <td>0</td>\n",
       "      <td>0</td>\n",
       "      <td>1</td>\n",
       "    </tr>\n",
       "    <tr>\n",
       "      <th>346</th>\n",
       "      <td>UM</td>\n",
       "      <td>121</td>\n",
       "      <td>2</td>\n",
       "      <td>5</td>\n",
       "      <td>67</td>\n",
       "      <td>INC</td>\n",
       "      <td>right</td>\n",
       "      <td>1.0</td>\n",
       "      <td>547.0</td>\n",
       "      <td>Blank</td>\n",
       "      <td>6.304449</td>\n",
       "      <td>0</td>\n",
       "      <td>2</td>\n",
       "      <td>2</td>\n",
       "    </tr>\n",
       "    <tr>\n",
       "      <th>347</th>\n",
       "      <td>UM</td>\n",
       "      <td>121</td>\n",
       "      <td>2</td>\n",
       "      <td>5</td>\n",
       "      <td>68</td>\n",
       "      <td>CON</td>\n",
       "      <td>right</td>\n",
       "      <td>1.0</td>\n",
       "      <td>429.0</td>\n",
       "      <td>Blank</td>\n",
       "      <td>6.061457</td>\n",
       "      <td>0</td>\n",
       "      <td>2</td>\n",
       "      <td>0</td>\n",
       "    </tr>\n",
       "    <tr>\n",
       "      <th>348</th>\n",
       "      <td>UM</td>\n",
       "      <td>121</td>\n",
       "      <td>2</td>\n",
       "      <td>5</td>\n",
       "      <td>69</td>\n",
       "      <td>CON</td>\n",
       "      <td>right</td>\n",
       "      <td>1.0</td>\n",
       "      <td>355.0</td>\n",
       "      <td>Blank</td>\n",
       "      <td>5.872118</td>\n",
       "      <td>0</td>\n",
       "      <td>0</td>\n",
       "      <td>0</td>\n",
       "    </tr>\n",
       "    <tr>\n",
       "      <th>349</th>\n",
       "      <td>UM</td>\n",
       "      <td>121</td>\n",
       "      <td>2</td>\n",
       "      <td>5</td>\n",
       "      <td>70</td>\n",
       "      <td>CON</td>\n",
       "      <td>left</td>\n",
       "      <td>1.0</td>\n",
       "      <td>453.0</td>\n",
       "      <td>Blank</td>\n",
       "      <td>6.115892</td>\n",
       "      <td>0</td>\n",
       "      <td>0</td>\n",
       "      <td>0</td>\n",
       "    </tr>\n",
       "  </tbody>\n",
       "</table>\n",
       "</div>"
      ],
      "text/plain": [
       "    site  subject  session  block  trial stimulus response  accuracy     rt  \\\n",
       "345   UM      121        2      5     66      INC     left       1.0  529.0   \n",
       "346   UM      121        2      5     67      INC    right       1.0  547.0   \n",
       "347   UM      121        2      5     68      CON    right       1.0  429.0   \n",
       "348   UM      121        2      5     69      CON    right       1.0  355.0   \n",
       "349   UM      121        2      5     70      CON     left       1.0  453.0   \n",
       "\n",
       "    feedback     ln_rt  outlier  rab_lam  gratton  \n",
       "345    Blank  6.270988        0        0        1  \n",
       "346    Blank  6.304449        0        2        2  \n",
       "347    Blank  6.061457        0        2        0  \n",
       "348    Blank  5.872118        0        0        0  \n",
       "349    Blank  6.115892        0        0        0  "
      ]
     },
     "execution_count": 15,
     "metadata": {},
     "output_type": "execute_result"
    }
   ],
   "source": [
    "trial_summary.tail()"
   ]
  },
  {
   "cell_type": "code",
   "execution_count": 31,
   "metadata": {
    "collapsed": true
   },
   "outputs": [],
   "source": [
    "flk_sum = pd.read_csv('/Users/mlm2/Work/Expts/EMBARC/Data/Flanker/Processed/EMBARC_Flk_Summary_Mar-01-0144PM-2017.csv')\n",
    "flk_ddm = pd.read_csv('/Users/mlm2/Work/Expts/EMBARC/Data/Flanker/Processed/EMBARC_Flk_DDM_Mar-01-0144PM-2017.csv')\n",
    "clin_data = pd.read_csv('/Users/mlm2/Work/Expts/EMBARC/Data/Flanker/Processed/EMBARC_Flk_Clin_s1_Mar-01-0150PM-2017.csv')"
   ]
  },
  {
   "cell_type": "code",
   "execution_count": 32,
   "metadata": {
    "collapsed": false
   },
   "outputs": [],
   "source": [
    "# Merge the session 1 flanker summary with the clinical data and write out\n",
    "s1 = flk_sum[(flk_sum['session'] == 1)]\n",
    "flk_clin_s1 = pd.merge(s1,clin_data,on='ProjectSpecificID')\n",
    "flk_clin_s1.to_csv('/Users/mlm2/Work/Expts/EMBARC/Data/Flanker/Processed/EMBARC_Flk_Clin_s1_'\n",
    "                     + datetime.datetime.now().strftime('%b-%d-%I%M%p-%G') + '.csv',index=False)"
   ]
  },
  {
   "cell_type": "code",
   "execution_count": 37,
   "metadata": {
    "collapsed": false
   },
   "outputs": [],
   "source": [
    "# Add group data to the flk_ddm dataframe by merging it with the clinical data, \n",
    "# then select session 1 data for controls and MDD before sending to TW.\n",
    "\n",
    "# Add ProjectSpecificID to flk_ddm\n",
    "new_subs = []\n",
    "flk_ddm['subject'] = flk_ddm['subject'].astype(int)\n",
    "flk_ddm['subject'] = flk_ddm['subject'].astype(str)\n",
    "\n",
    "for i, row_i in flk_ddm.iterrows():\n",
    "    sub = row_i['subject'].zfill(4)\n",
    "    new_subs.append(sub)\n",
    "\n",
    "flk_ddm['subject'] = new_subs\n",
    "flk_ddm['ProjectSpecificID'] = flk_ddm['site']+ flk_ddm['subject']\n",
    "\n",
    "# Match on ProjectSpecificID with clin_data\n",
    "flk_ddm_clin = pd.merge(flk_ddm,clin_data,on='ProjectSpecificID')\n",
    "\n",
    "# Select only control (feasibility = 4.0) and MDD (feasibility = 3.0) subjects\n",
    "flk_ddm_clin = flk_ddm_clin[(flk_ddm_clin.feasibility != 2.0)]\n",
    "flk_ddm_clin.rename(columns={'site_x': 'site', 'subject_x': 'subject', 'session_x': 'session'}, inplace=True)\n",
    "# Group: 0 = controls, 1 = MDD\n",
    "flk_ddm_clin['group'] = flk_ddm_clin['feasibility']\n",
    "flk_ddm_clin['group'].replace(to_replace = 1.0,value = 'MDD', inplace = True) #MDD = 1\n",
    "flk_ddm_clin['group'].replace(to_replace = 3.0,value = 'MDD', inplace = True) #MDD = 1\n",
    "flk_ddm_clin['group'].replace(to_replace = 5.0,value = 'MDD', inplace = True) #MDD = 1\n",
    "flk_ddm_clin['group'].replace(to_replace = 4.0,value = 'CTL', inplace = True) #Ctrl = 0\n",
    "\n",
    "# Now select session 1 data to send to TW\n",
    "flk_ddm_clin_s1 = flk_ddm_clin[flk_ddm_clin['session'] == 1]\n",
    "\n",
    "# Now just write out ProjectSpecific ID, group, and all the flanker columns. I am not writing out everything b/c with\n",
    "# the clinical data repeated on every single line, the file that would be written out would be huge (~200MB).\n",
    "\n",
    "flk_ddm_clin_s1 = flk_ddm_clin_s1[['ProjectSpecificID','site','subject','session','group','block','trial','stimulus',\n",
    "                             'response','accuracy','rt','feedback','ln_rt','outlier','rab_lam','gratton']]\n",
    "\n",
    "# Use lines below to confirm number of subjects in each group. As of June 17, 2014, there are 40 ctrls and 98 mdd.\n",
    "bygroup = flk_ddm_clin_s1.groupby('group')\n",
    "bygroup['ProjectSpecificID'].nunique()\n",
    "\n",
    "# Write out the file for TW\n",
    "flk_ddm_clin_s1.to_csv('/Users/mlm2/Work/Expts/EMBARC/Data/Flanker/Processed/EMBARC_Flk_DDM_Clin_s1_'\n",
    "                     + datetime.datetime.now().strftime('%b-%d-%I%M%p-%G') + '.csv',index=False)"
   ]
  },
  {
   "cell_type": "markdown",
   "metadata": {},
   "source": [
    "## Analysis"
   ]
  },
  {
   "cell_type": "code",
   "execution_count": 2,
   "metadata": {
    "collapsed": false
   },
   "outputs": [],
   "source": [
    "# Working with 'flk_clin_s1' as the bash-like summary file merged with the latest PA spreadsheet\n",
    "# First select the controls (feasibility = 4) and the mdds (feasibility = 3), add 'group' col, and re-label groups\n",
    "flk_clin_s1 = pd.read_csv('/Users/mlm2/Work/Expts/EMBARC/Data/Flanker/Processed/EMBARC_Flk_Clin_s1_Mar-01-0150PM-2017.csv')\n",
    "flk_clin_s1 = flk_clin_s1[(flk_clin_s1.feasibility != 2.0)]\n",
    "flk_clin_s1['group'] = flk_clin_s1['feasibility']\n",
    "flk_clin_s1['group'].replace(to_replace = 1.0,value = 'MDD', inplace = True) #MDD = 1\n",
    "flk_clin_s1['group'].replace(to_replace = 3.0,value = 'MDD', inplace = True) #MDD = 1\n",
    "flk_clin_s1['group'].replace(to_replace = 5.0,value = 'MDD', inplace = True) #MDD = 1\n",
    "flk_clin_s1['group'].replace(to_replace = 4.0,value = 'CTL', inplace = True) #Ctrl = 0"
   ]
  },
  {
   "cell_type": "code",
   "execution_count": 3,
   "metadata": {
    "collapsed": false
   },
   "outputs": [
    {
     "data": {
      "text/html": [
       "<div>\n",
       "<table border=\"1\" class=\"dataframe\">\n",
       "  <thead>\n",
       "    <tr style=\"text-align: right;\">\n",
       "      <th></th>\n",
       "      <th>ProjectSpecificID</th>\n",
       "      <th>site</th>\n",
       "      <th>subject</th>\n",
       "      <th>session</th>\n",
       "      <th>num_outs</th>\n",
       "      <th>num_noresp</th>\n",
       "      <th>num_con_trls</th>\n",
       "      <th>con_acc</th>\n",
       "      <th>con_corr_rt</th>\n",
       "      <th>num_inc_trls</th>\n",
       "      <th>...</th>\n",
       "      <th>rab_lam_rt</th>\n",
       "      <th>feasibility</th>\n",
       "      <th>shaps_total_dichotomous</th>\n",
       "      <th>shaps_total_continuous</th>\n",
       "      <th>severity1</th>\n",
       "      <th>partic_age</th>\n",
       "      <th>partic_gender</th>\n",
       "      <th>masq2_29</th>\n",
       "      <th>hamd_09</th>\n",
       "      <th>group</th>\n",
       "    </tr>\n",
       "  </thead>\n",
       "  <tbody>\n",
       "    <tr>\n",
       "      <th>347</th>\n",
       "      <td>UM0117</td>\n",
       "      <td>UM</td>\n",
       "      <td>117</td>\n",
       "      <td>1</td>\n",
       "      <td>2</td>\n",
       "      <td>0</td>\n",
       "      <td>228</td>\n",
       "      <td>0.991228</td>\n",
       "      <td>334.557522</td>\n",
       "      <td>120</td>\n",
       "      <td>...</td>\n",
       "      <td>34.410487</td>\n",
       "      <td>1.0</td>\n",
       "      <td>0.0</td>\n",
       "      <td>28.0</td>\n",
       "      <td>0.0</td>\n",
       "      <td>45.0</td>\n",
       "      <td>Male</td>\n",
       "      <td>3.0</td>\n",
       "      <td>0.0</td>\n",
       "      <td>MDD</td>\n",
       "    </tr>\n",
       "    <tr>\n",
       "      <th>348</th>\n",
       "      <td>UM0118</td>\n",
       "      <td>UM</td>\n",
       "      <td>118</td>\n",
       "      <td>1</td>\n",
       "      <td>2</td>\n",
       "      <td>1</td>\n",
       "      <td>228</td>\n",
       "      <td>0.986842</td>\n",
       "      <td>340.906667</td>\n",
       "      <td>119</td>\n",
       "      <td>...</td>\n",
       "      <td>-1.619048</td>\n",
       "      <td>1.0</td>\n",
       "      <td>3.0</td>\n",
       "      <td>32.0</td>\n",
       "      <td>0.0</td>\n",
       "      <td>19.0</td>\n",
       "      <td>Female</td>\n",
       "      <td>5.0</td>\n",
       "      <td>2.0</td>\n",
       "      <td>MDD</td>\n",
       "    </tr>\n",
       "    <tr>\n",
       "      <th>349</th>\n",
       "      <td>UM0119</td>\n",
       "      <td>UM</td>\n",
       "      <td>119</td>\n",
       "      <td>1</td>\n",
       "      <td>9</td>\n",
       "      <td>1</td>\n",
       "      <td>224</td>\n",
       "      <td>1.000000</td>\n",
       "      <td>336.991071</td>\n",
       "      <td>116</td>\n",
       "      <td>...</td>\n",
       "      <td>-7.355346</td>\n",
       "      <td>1.0</td>\n",
       "      <td>2.0</td>\n",
       "      <td>29.0</td>\n",
       "      <td>0.0</td>\n",
       "      <td>32.0</td>\n",
       "      <td>Male</td>\n",
       "      <td>5.0</td>\n",
       "      <td>0.0</td>\n",
       "      <td>MDD</td>\n",
       "    </tr>\n",
       "    <tr>\n",
       "      <th>350</th>\n",
       "      <td>UM0120</td>\n",
       "      <td>UM</td>\n",
       "      <td>120</td>\n",
       "      <td>1</td>\n",
       "      <td>2</td>\n",
       "      <td>0</td>\n",
       "      <td>228</td>\n",
       "      <td>1.000000</td>\n",
       "      <td>280.864035</td>\n",
       "      <td>120</td>\n",
       "      <td>...</td>\n",
       "      <td>-3.774133</td>\n",
       "      <td>1.0</td>\n",
       "      <td>0.0</td>\n",
       "      <td>26.0</td>\n",
       "      <td>0.0</td>\n",
       "      <td>20.0</td>\n",
       "      <td>Female</td>\n",
       "      <td>4.0</td>\n",
       "      <td>0.0</td>\n",
       "      <td>MDD</td>\n",
       "    </tr>\n",
       "    <tr>\n",
       "      <th>351</th>\n",
       "      <td>UM0121</td>\n",
       "      <td>UM</td>\n",
       "      <td>121</td>\n",
       "      <td>1</td>\n",
       "      <td>3</td>\n",
       "      <td>1</td>\n",
       "      <td>227</td>\n",
       "      <td>1.000000</td>\n",
       "      <td>427.563877</td>\n",
       "      <td>119</td>\n",
       "      <td>...</td>\n",
       "      <td>-11.724359</td>\n",
       "      <td>1.0</td>\n",
       "      <td>8.0</td>\n",
       "      <td>36.0</td>\n",
       "      <td>0.0</td>\n",
       "      <td>56.0</td>\n",
       "      <td>Female</td>\n",
       "      <td>5.0</td>\n",
       "      <td>0.0</td>\n",
       "      <td>MDD</td>\n",
       "    </tr>\n",
       "  </tbody>\n",
       "</table>\n",
       "<p>5 rows × 39 columns</p>\n",
       "</div>"
      ],
      "text/plain": [
       "    ProjectSpecificID site  subject  session  num_outs  num_noresp  \\\n",
       "347            UM0117   UM      117        1         2           0   \n",
       "348            UM0118   UM      118        1         2           1   \n",
       "349            UM0119   UM      119        1         9           1   \n",
       "350            UM0120   UM      120        1         2           0   \n",
       "351            UM0121   UM      121        1         3           1   \n",
       "\n",
       "     num_con_trls   con_acc  con_corr_rt  num_inc_trls  ...    rab_lam_rt  \\\n",
       "347           228  0.991228   334.557522           120  ...     34.410487   \n",
       "348           228  0.986842   340.906667           119  ...     -1.619048   \n",
       "349           224  1.000000   336.991071           116  ...     -7.355346   \n",
       "350           228  1.000000   280.864035           120  ...     -3.774133   \n",
       "351           227  1.000000   427.563877           119  ...    -11.724359   \n",
       "\n",
       "     feasibility  shaps_total_dichotomous  shaps_total_continuous  severity1  \\\n",
       "347          1.0                      0.0                    28.0        0.0   \n",
       "348          1.0                      3.0                    32.0        0.0   \n",
       "349          1.0                      2.0                    29.0        0.0   \n",
       "350          1.0                      0.0                    26.0        0.0   \n",
       "351          1.0                      8.0                    36.0        0.0   \n",
       "\n",
       "     partic_age  partic_gender  masq2_29  hamd_09  group  \n",
       "347        45.0           Male       3.0      0.0    MDD  \n",
       "348        19.0         Female       5.0      2.0    MDD  \n",
       "349        32.0           Male       5.0      0.0    MDD  \n",
       "350        20.0         Female       4.0      0.0    MDD  \n",
       "351        56.0         Female       5.0      0.0    MDD  \n",
       "\n",
       "[5 rows x 39 columns]"
      ]
     },
     "execution_count": 3,
     "metadata": {},
     "output_type": "execute_result"
    }
   ],
   "source": [
    "flk_clin_s1.tail()"
   ]
  },
  {
   "cell_type": "code",
   "execution_count": 4,
   "metadata": {
    "collapsed": false
   },
   "outputs": [
    {
     "data": {
      "text/plain": [
       "site  group\n",
       "CU    CTL       9\n",
       "      MDD      86\n",
       "MG    CTL      10\n",
       "      MDD      52\n",
       "TX    CTL       9\n",
       "      MDD      97\n",
       "UM    CTL      10\n",
       "      MDD      57\n",
       "Name: ProjectSpecificID, dtype: int64"
      ]
     },
     "execution_count": 4,
     "metadata": {},
     "output_type": "execute_result"
    }
   ],
   "source": [
    "flk_clin_s1.groupby(['site', 'group'])['ProjectSpecificID'].nunique()"
   ]
  },
  {
   "cell_type": "code",
   "execution_count": 5,
   "metadata": {
    "collapsed": false
   },
   "outputs": [
    {
     "data": {
      "text/plain": [
       "group\n",
       "CTL     38\n",
       "MDD    292\n",
       "Name: ProjectSpecificID, dtype: int64"
      ]
     },
     "execution_count": 5,
     "metadata": {},
     "output_type": "execute_result"
    }
   ],
   "source": [
    "flk_clin_s1.groupby(['group'])['ProjectSpecificID'].nunique()"
   ]
  },
  {
   "cell_type": "code",
   "execution_count": 6,
   "metadata": {
    "collapsed": false
   },
   "outputs": [
    {
     "name": "stdout",
     "output_type": "stream",
     "text": [
      "Missing from ours: TX0165\n",
      "Missing from ours: CU0018\n",
      "Missing from ours: TX0033\n",
      "Not included in Christians: CU0019\n",
      "Not included in Christians: CU0021\n",
      "Not included in Christians: CU0060\n",
      "Not included in Christians: CU0062\n",
      "Not included in Christians: CU0064\n",
      "Not included in Christians: CU0113\n",
      "Not included in Christians: CU0125\n",
      "Not included in Christians: CU0126\n",
      "Not included in Christians: CU0133\n",
      "Not included in Christians: MG0008\n",
      "Not included in Christians: MG0021\n",
      "Not included in Christians: MG0026\n",
      "Not included in Christians: MG0116\n",
      "Not included in Christians: MG0182\n",
      "Not included in Christians: MG0185\n",
      "Not included in Christians: MG0238\n",
      "Not included in Christians: MG0242\n",
      "Not included in Christians: MG0246\n",
      "Not included in Christians: MG0257\n",
      "Not included in Christians: TX0011\n",
      "Not included in Christians: TX0016\n",
      "Not included in Christians: TX0020\n",
      "Not included in Christians: TX0050\n",
      "Not included in Christians: TX0060\n",
      "Not included in Christians: TX0066\n",
      "Not included in Christians: TX0097\n",
      "Not included in Christians: TX0119\n",
      "Not included in Christians: TX0127\n",
      "Not included in Christians: TX0142\n",
      "Not included in Christians: TX0147\n",
      "Not included in Christians: TX0153\n",
      "Not included in Christians: TX0178\n",
      "Not included in Christians: TX0188\n",
      "Not included in Christians: UM0034\n",
      "Not included in Christians: UM0056\n",
      "Not included in Christians: UM0058\n",
      "Not included in Christians: UM0066\n",
      "Not included in Christians: UM0090\n",
      "Not included in Christians: UM0094\n"
     ]
    }
   ],
   "source": [
    "# Compare these with the PRT people. Need to look into each one and see why they weren't included\n",
    "df_christian = pd.read_csv('/Users/mlm2/Work/Expts/EMBARC/Data/christian_included.txt', header = None)    \n",
    "christian_list = df_christian[0].astype(str)\n",
    "\n",
    "# are we missing anything?\n",
    "for subject in christian_list:\n",
    "    if subject in flk_clin_s1.ProjectSpecificID.unique():\n",
    "        pass\n",
    "    else:\n",
    "        print('Missing from ours: '+ subject)\n",
    "\n",
    "# do we have anything extra?\n",
    "for subject in flk_clin_s1.ProjectSpecificID:\n",
    "    if subject in christian_list.unique():\n",
    "        pass\n",
    "    else:\n",
    "        print('Not included in Christians: ' + subject)"
   ]
  },
  {
   "cell_type": "code",
   "execution_count": 7,
   "metadata": {
    "collapsed": false
   },
   "outputs": [
    {
     "data": {
      "text/plain": [
       "group\n",
       "CTL     35\n",
       "MDD    266\n",
       "Name: ProjectSpecificID, dtype: int64"
      ]
     },
     "execution_count": 7,
     "metadata": {},
     "output_type": "execute_result"
    }
   ],
   "source": [
    "# Now select only those subjects who pass the Flanker QC check at session 1\n",
    "flk_use = flk_clin_s1[flk_clin_s1.flanker_qc == 1]\n",
    "bygroup = flk_use.groupby('group')\n",
    "bygroup.ProjectSpecificID.nunique()"
   ]
  },
  {
   "cell_type": "code",
   "execution_count": 8,
   "metadata": {
    "collapsed": false
   },
   "outputs": [
    {
     "name": "stdout",
     "output_type": "stream",
     "text": [
      "CU0017 was excluded based on flanker QC fail\n",
      "CU0025 was excluded based on flanker QC fail\n",
      "CU0060 was excluded based on flanker QC fail\n",
      "CU0062 was excluded based on flanker QC fail\n",
      "CU0110 was excluded based on flanker QC fail\n",
      "CU0116 was excluded based on flanker QC fail\n",
      "MG0007 was excluded based on flanker QC fail\n",
      "MG0116 was excluded based on flanker QC fail\n",
      "MG0125 was excluded based on flanker QC fail\n",
      "MG0182 was excluded based on flanker QC fail\n",
      "MG0206 was excluded based on flanker QC fail\n",
      "MG0209 was excluded based on flanker QC fail\n",
      "MG0238 was excluded based on flanker QC fail\n",
      "MG0251 was excluded based on flanker QC fail\n",
      "TX0037 was excluded based on flanker QC fail\n",
      "TX0050 was excluded based on flanker QC fail\n",
      "TX0062 was excluded based on flanker QC fail\n",
      "TX0068 was excluded based on flanker QC fail\n",
      "TX0101 was excluded based on flanker QC fail\n",
      "TX0124 was excluded based on flanker QC fail\n",
      "TX0139 was excluded based on flanker QC fail\n",
      "TX0147 was excluded based on flanker QC fail\n",
      "TX0188 was excluded based on flanker QC fail\n",
      "UM0037 was excluded based on flanker QC fail\n",
      "UM0056 was excluded based on flanker QC fail\n",
      "UM0077 was excluded based on flanker QC fail\n",
      "UM0090 was excluded based on flanker QC fail\n",
      "UM0107 was excluded based on flanker QC fail\n",
      "UM0114 was excluded based on flanker QC fail\n"
     ]
    }
   ],
   "source": [
    "# Which subjects get excluded based on flanker QC fails?\n",
    "flk_qc_fails = []\n",
    "\n",
    "flk_ids = flk_clin_s1.ProjectSpecificID.unique()\n",
    "flk_ids = flk_ids.tolist()\n",
    "\n",
    "flk_use_ids = flk_use.ProjectSpecificID.unique()\n",
    "flk_use_ids = flk_use_ids.tolist()\n",
    "\n",
    "for sub in flk_ids:\n",
    "    if sub not in flk_use_ids:\n",
    "        print (sub + ' was excluded based on flanker QC fail')\n",
    "        flk_qc_fails.append(sub)"
   ]
  },
  {
   "cell_type": "markdown",
   "metadata": {},
   "source": [
    "## Descriptive data and group comparisons on demographics, Flanker interference, Gratton, and Rabbit/Laming effects"
   ]
  },
  {
   "cell_type": "code",
   "execution_count": 9,
   "metadata": {
    "collapsed": false
   },
   "outputs": [],
   "source": [
    "%Rpush flk_use"
   ]
  },
  {
   "cell_type": "markdown",
   "metadata": {},
   "source": [
    "**Age**  \n",
    "No group difference"
   ]
  },
  {
   "cell_type": "code",
   "execution_count": 10,
   "metadata": {
    "collapsed": false
   },
   "outputs": [
    {
     "data": {
      "text/plain": [
       "group       \n",
       "CTL    count     35.000000\n",
       "       mean      36.400000\n",
       "       std       14.637181\n",
       "       min       18.000000\n",
       "       25%       25.000000\n",
       "       50%       31.000000\n",
       "       75%       52.000000\n",
       "       max       62.000000\n",
       "MDD    count    266.000000\n",
       "       mean      37.056391\n",
       "       std       13.011483\n",
       "       min       18.000000\n",
       "       25%       26.000000\n",
       "       50%       34.000000\n",
       "       75%       47.000000\n",
       "       max       65.000000\n",
       "Name: partic_age, dtype: float64"
      ]
     },
     "execution_count": 10,
     "metadata": {},
     "output_type": "execute_result"
    }
   ],
   "source": [
    "bygroup['partic_age'].describe()"
   ]
  },
  {
   "cell_type": "code",
   "execution_count": 11,
   "metadata": {
    "collapsed": false
   },
   "outputs": [
    {
     "data": {
      "text/plain": [
       "\n",
       "\tWelch Two Sample t-test\n",
       "\n",
       "data:  partic_age by group\n",
       "t = -0.2525, df = 41.38, p-value = 0.8019\n",
       "alternative hypothesis: true difference in means is not equal to 0\n",
       "95 percent confidence interval:\n",
       " -5.904880  4.592098\n",
       "sample estimates:\n",
       "mean in group CTL mean in group MDD \n",
       "         36.40000          37.05639 \n",
       "\n"
      ]
     },
     "metadata": {},
     "output_type": "display_data"
    }
   ],
   "source": [
    "%R print(t.test(partic_age ~ group,flk_use))"
   ]
  },
  {
   "cell_type": "markdown",
   "metadata": {},
   "source": [
    "**Gender**  \n",
    "No group difference"
   ]
  },
  {
   "cell_type": "code",
   "execution_count": 12,
   "metadata": {
    "collapsed": false
   },
   "outputs": [
    {
     "name": "stdout",
     "output_type": "stream",
     "text": [
      "group  partic_gender\n",
      "CTL    Female            21\n",
      "       Male              14\n",
      "MDD    Female           174\n",
      "       Male              92\n",
      "Name: partic_gender, dtype: int64\n"
     ]
    }
   ],
   "source": [
    "print (bygroup['partic_gender'].value_counts())"
   ]
  },
  {
   "cell_type": "code",
   "execution_count": 13,
   "metadata": {
    "collapsed": false
   },
   "outputs": [
    {
     "name": "stdout",
     "output_type": "stream",
     "text": [
      "Chi-square on Gender: chi-square = 0.40; df = 1.00; p = 0.53\n"
     ]
    }
   ],
   "source": [
    "obs = np.array([[21,14],[174,92]])\n",
    "chi2, p, dof, expected = sp.stats.chi2_contingency(obs,correction=False)\n",
    "print (\"Chi-square on Gender: chi-square = \" + \"{:.2f}\".format(chi2) + \"; df = \" + \"{:.2f}\".format(dof) + \\\n",
    "\"; p = \" + \"{:.2f}\".format(p))"
   ]
  },
  {
   "cell_type": "markdown",
   "metadata": {},
   "source": [
    "### Flanker interference "
   ]
  },
  {
   "cell_type": "code",
   "execution_count": 14,
   "metadata": {
    "collapsed": false
   },
   "outputs": [
    {
     "data": {
      "text/plain": [
       "group       \n",
       "CTL    count     35.000000\n",
       "       mean       0.215206\n",
       "       std        0.124715\n",
       "       min        0.033898\n",
       "       25%        0.109499\n",
       "       50%        0.191667\n",
       "       75%        0.291150\n",
       "       max        0.491667\n",
       "MDD    count    266.000000\n",
       "       mean       0.192571\n",
       "       std        0.112452\n",
       "       min       -0.004425\n",
       "       25%        0.113902\n",
       "       50%        0.181920\n",
       "       75%        0.249781\n",
       "       max        0.473576\n",
       "Name: flanker_acc, dtype: float64"
      ]
     },
     "execution_count": 14,
     "metadata": {},
     "output_type": "execute_result"
    }
   ],
   "source": [
    "# No group difference in accuracy\n",
    "bygroup['flanker_acc'].describe()"
   ]
  },
  {
   "cell_type": "code",
   "execution_count": 15,
   "metadata": {
    "collapsed": false
   },
   "outputs": [
    {
     "data": {
      "text/plain": [
       "group       \n",
       "CTL    count     35.000000\n",
       "       mean       0.987746\n",
       "       std        0.012436\n",
       "       min        0.964126\n",
       "       25%        0.977974\n",
       "       50%        0.991228\n",
       "       75%        1.000000\n",
       "       max        1.000000\n",
       "MDD    count    266.000000\n",
       "       mean       0.984663\n",
       "       std        0.026325\n",
       "       min        0.715596\n",
       "       25%        0.981879\n",
       "       50%        0.991266\n",
       "       75%        1.000000\n",
       "       max        1.000000\n",
       "Name: con_acc, dtype: float64"
      ]
     },
     "execution_count": 15,
     "metadata": {},
     "output_type": "execute_result"
    }
   ],
   "source": [
    "# Accuracy on CON trials is very similar across groups\n",
    "bygroup['con_acc'].describe()"
   ]
  },
  {
   "cell_type": "code",
   "execution_count": 16,
   "metadata": {
    "collapsed": false
   },
   "outputs": [
    {
     "data": {
      "text/plain": [
       "group       \n",
       "CTL    count     35.000000\n",
       "       mean       0.772539\n",
       "       std        0.127243\n",
       "       min        0.508333\n",
       "       25%        0.702836\n",
       "       50%        0.788136\n",
       "       75%        0.885122\n",
       "       max        0.966102\n",
       "MDD    count    266.000000\n",
       "       mean       0.792092\n",
       "       std        0.116430\n",
       "       min        0.504202\n",
       "       25%        0.726523\n",
       "       50%        0.805904\n",
       "       75%        0.872881\n",
       "       max        1.000000\n",
       "Name: inc_acc, dtype: float64"
      ]
     },
     "execution_count": 16,
     "metadata": {},
     "output_type": "execute_result"
    }
   ],
   "source": [
    "# INC accuracy is slightly higher in MDDs\n",
    "bygroup['inc_acc'].describe()"
   ]
  },
  {
   "cell_type": "code",
   "execution_count": 17,
   "metadata": {
    "collapsed": false
   },
   "outputs": [
    {
     "data": {
      "text/plain": [
       "group       \n",
       "CTL    count     35.000000\n",
       "       mean      86.775766\n",
       "       std       21.246150\n",
       "       min       55.906337\n",
       "       25%       72.455585\n",
       "       50%       84.915119\n",
       "       75%       95.206870\n",
       "       max      159.605979\n",
       "MDD    count    266.000000\n",
       "       mean      92.410056\n",
       "       std       21.752345\n",
       "       min       37.341151\n",
       "       25%       79.214792\n",
       "       50%       93.169638\n",
       "       75%      105.274141\n",
       "       max      169.608911\n",
       "Name: flanker_rt, dtype: float64"
      ]
     },
     "execution_count": 17,
     "metadata": {},
     "output_type": "execute_result"
    }
   ],
   "source": [
    "# Looking for group difference in RT\n",
    "bygroup['flanker_rt'].describe()"
   ]
  },
  {
   "cell_type": "code",
   "execution_count": 18,
   "metadata": {
    "collapsed": false
   },
   "outputs": [
    {
     "data": {
      "text/plain": [
       "group       \n",
       "CTL    count     35.000000\n",
       "       mean     359.971081\n",
       "       std       43.773767\n",
       "       min      294.875556\n",
       "       25%      328.433881\n",
       "       50%      356.632743\n",
       "       75%      388.156132\n",
       "       max      499.517544\n",
       "MDD    count    266.000000\n",
       "       mean     377.597464\n",
       "       std       52.555303\n",
       "       min      271.885463\n",
       "       25%      340.290000\n",
       "       50%      368.076038\n",
       "       75%      406.799559\n",
       "       max      574.513761\n",
       "Name: con_corr_rt, dtype: float64"
      ]
     },
     "execution_count": 18,
     "metadata": {},
     "output_type": "execute_result"
    }
   ],
   "source": [
    "# Controls are faster than MDDs with respect to correct CON RT\n",
    "bygroup['con_corr_rt'].describe()"
   ]
  },
  {
   "cell_type": "code",
   "execution_count": 19,
   "metadata": {
    "collapsed": false
   },
   "outputs": [
    {
     "data": {
      "text/plain": [
       "group       \n",
       "CTL    count     35.000000\n",
       "       mean     446.746847\n",
       "       std       46.097367\n",
       "       min      378.672131\n",
       "       25%      410.016758\n",
       "       50%      443.597938\n",
       "       75%      464.131616\n",
       "       max      574.802326\n",
       "MDD    count    266.000000\n",
       "       mean     470.007520\n",
       "       std       57.848143\n",
       "       min      324.938144\n",
       "       25%      429.519792\n",
       "       50%      462.475121\n",
       "       75%      504.617527\n",
       "       max      712.000000\n",
       "Name: inc_corr_rt, dtype: float64"
      ]
     },
     "execution_count": 19,
     "metadata": {},
     "output_type": "execute_result"
    }
   ],
   "source": [
    "# Controls are also faster than depressed with respect to INC correct RT\n",
    "bygroup['inc_corr_rt'].describe()"
   ]
  },
  {
   "cell_type": "code",
   "execution_count": 20,
   "metadata": {
    "collapsed": false
   },
   "outputs": [
    {
     "data": {
      "text/plain": [
       "<matplotlib.axes._subplots.AxesSubplot at 0x1171bbb38>"
      ]
     },
     "execution_count": 20,
     "metadata": {},
     "output_type": "execute_result"
    },
    {
     "data": {
      "image/png": "[encoded data removed]",
      "text/plain": [
       "<matplotlib.figure.Figure at 0x11336f128>"
      ]
     },
     "metadata": {},
     "output_type": "display_data"
    }
   ],
   "source": [
    "# boxplot showing interference effect on accuracy by group\n",
    "sns.boxplot(flk_use['flanker_acc'],groupby=flk_use['group'],names=['Control','MDD'])"
   ]
  },
  {
   "cell_type": "code",
   "execution_count": 21,
   "metadata": {
    "collapsed": false
   },
   "outputs": [
    {
     "data": {
      "text/plain": [
       "<matplotlib.axes._subplots.AxesSubplot at 0x11af6d630>"
      ]
     },
     "execution_count": 21,
     "metadata": {},
     "output_type": "execute_result"
    },
    {
     "data": {
      "image/png": "[encoded data removed]",
      "text/plain": [
       "<matplotlib.figure.Figure at 0x11af3b5f8>"
      ]
     },
     "metadata": {},
     "output_type": "display_data"
    }
   ],
   "source": [
    "# boxplot showing interference effect on RT by group\n",
    "sns.boxplot(flk_use['flanker_rt'],groupby=flk_use['group'],names=['Control','MDD'])"
   ]
  },
  {
   "cell_type": "code",
   "execution_count": 22,
   "metadata": {
    "collapsed": false
   },
   "outputs": [
    {
     "data": {
      "text/plain": [
       "group       \n",
       "CTL    count     35.000000\n",
       "       mean       3.342857\n",
       "       std        1.570741\n",
       "       min        0.000000\n",
       "       25%        2.000000\n",
       "       50%        3.000000\n",
       "       75%        4.000000\n",
       "       max        7.000000\n",
       "MDD    count    266.000000\n",
       "       mean       3.545113\n",
       "       std        2.221642\n",
       "       min        0.000000\n",
       "       25%        2.000000\n",
       "       50%        3.000000\n",
       "       75%        5.000000\n",
       "       max       18.000000\n",
       "Name: num_outs, dtype: float64"
      ]
     },
     "execution_count": 22,
     "metadata": {},
     "output_type": "execute_result"
    }
   ],
   "source": [
    "# How about number of outliers per group? Slightly higher in MDD, but not much of a difference.\n",
    "bygroup.num_outs.describe()"
   ]
  },
  {
   "cell_type": "code",
   "execution_count": 23,
   "metadata": {
    "collapsed": false
   },
   "outputs": [
    {
     "data": {
      "text/plain": [
       "\n",
       "\tOne Sample t-test\n",
       "\n",
       "data:  flk_use.ctrl$flanker_acc\n",
       "t = 10.209, df = 34, p-value = 6.855e-12\n",
       "alternative hypothesis: true mean is not equal to 0\n",
       "95 percent confidence interval:\n",
       " 0.1723654 0.2580473\n",
       "sample estimates:\n",
       "mean of x \n",
       "0.2152064 \n",
       "\n"
      ]
     },
     "metadata": {},
     "output_type": "display_data"
    },
    {
     "data": {
      "text/plain": [
       "\n",
       "\tOne Sample t-test\n",
       "\n",
       "data:  flk_use.mdd$flanker_acc\n",
       "t = 27.93, df = 265, p-value < 2.2e-16\n",
       "alternative hypothesis: true mean is not equal to 0\n",
       "95 percent confidence interval:\n",
       " 0.1789954 0.2061468\n",
       "sample estimates:\n",
       "mean of x \n",
       "0.1925711 \n",
       "\n"
      ]
     },
     "metadata": {},
     "output_type": "display_data"
    },
    {
     "data": {
      "text/plain": [
       "\n",
       "\tWelch Two Sample t-test\n",
       "\n",
       "data:  flanker_acc by group\n",
       "t = 1.0205, df = 41.602, p-value = 0.3134\n",
       "alternative hypothesis: true difference in means is not equal to 0\n",
       "95 percent confidence interval:\n",
       " -0.02213750  0.06740807\n",
       "sample estimates:\n",
       "mean in group CTL mean in group MDD \n",
       "        0.2152064         0.1925711 \n",
       "\n"
      ]
     },
     "metadata": {},
     "output_type": "display_data"
    }
   ],
   "source": [
    "# For interference effect on accuracy, confirm that effect is greater than zero in each group, and then check group diff.\n",
    "%R flk_use.ctrl <- subset(flk_use,group == 'CTL')\n",
    "%R flk_use.mdd <- subset(flk_use,group == 'MDD')\n",
    "%R print(t.test(flk_use.ctrl$flanker_acc,mu=0)) # Controls, p < 0.001\n",
    "%R print(t.test(flk_use.mdd$flanker_acc,mu=0)) # MDD, p < 0.001\n",
    "%R print(t.test(flanker_acc ~ group,flk_use)) # ****The trend found with the first half of the data is gone here*****"
   ]
  },
  {
   "cell_type": "code",
   "execution_count": 24,
   "metadata": {
    "collapsed": false
   },
   "outputs": [
    {
     "data": {
      "text/plain": [
       "\n",
       "\tOne Sample t-test\n",
       "\n",
       "data:  flk_use.ctrl$flanker_rt\n",
       "t = 24.163, df = 34, p-value < 2.2e-16\n",
       "alternative hypothesis: true mean is not equal to 0\n",
       "95 percent confidence interval:\n",
       " 79.47746 94.07407\n",
       "sample estimates:\n",
       "mean of x \n",
       " 86.77577 \n",
       "\n"
      ]
     },
     "metadata": {},
     "output_type": "display_data"
    },
    {
     "data": {
      "text/plain": [
       "\n",
       "\tOne Sample t-test\n",
       "\n",
       "data:  flk_use.mdd$flanker_rt\n",
       "t = 69.287, df = 265, p-value < 2.2e-16\n",
       "alternative hypothesis: true mean is not equal to 0\n",
       "95 percent confidence interval:\n",
       " 89.78402 95.03610\n",
       "sample estimates:\n",
       "mean of x \n",
       " 92.41006 \n",
       "\n"
      ]
     },
     "metadata": {},
     "output_type": "display_data"
    },
    {
     "data": {
      "text/plain": [
       "\n",
       "\tWelch Two Sample t-test\n",
       "\n",
       "data:  flanker_rt by group\n",
       "t = -1.4707, df = 43.918, p-value = 0.1485\n",
       "alternative hypothesis: true difference in means is not equal to 0\n",
       "95 percent confidence interval:\n",
       " -13.355402   2.086821\n",
       "sample estimates:\n",
       "mean in group CTL mean in group MDD \n",
       "         86.77577          92.41006 \n",
       "\n"
      ]
     },
     "metadata": {},
     "output_type": "display_data"
    }
   ],
   "source": [
    "# For interference effect on RT, confirm that effect is greater than zero in each group, and then check group diff.\n",
    "%R print(t.test(flk_use.ctrl$flanker_rt,mu=0)) # Controls, p < 0.001\n",
    "%R print(t.test(flk_use.mdd$flanker_rt,mu=0)) # MDD, p < 0.001\n",
    "%R print(t.test(flanker_rt ~ group,flk_use)) #  p = 0.149"
   ]
  },
  {
   "cell_type": "code",
   "execution_count": 25,
   "metadata": {
    "collapsed": false
   },
   "outputs": [
    {
     "data": {
      "text/plain": [
       "group       \n",
       "CTL    count     35.000000\n",
       "       mean       0.069278\n",
       "       std        0.098367\n",
       "       min       -0.111111\n",
       "       25%        0.003882\n",
       "       50%        0.054545\n",
       "       75%        0.136324\n",
       "       max        0.274561\n",
       "MDD    count    266.000000\n",
       "       mean       0.069786\n",
       "       std        0.114277\n",
       "       min       -0.328462\n",
       "       25%        0.001052\n",
       "       50%        0.069954\n",
       "       75%        0.138947\n",
       "       max        0.435354\n",
       "Name: gratton_acc, dtype: float64"
      ]
     },
     "execution_count": 25,
     "metadata": {},
     "output_type": "execute_result"
    }
   ],
   "source": [
    "# Gratton effect on accuracy--looks the same\n",
    "bygroup.gratton_acc.describe()"
   ]
  },
  {
   "cell_type": "code",
   "execution_count": 26,
   "metadata": {
    "collapsed": false
   },
   "outputs": [
    {
     "data": {
      "text/plain": [
       "group       \n",
       "CTL    count     35.000000\n",
       "       mean      -8.003311\n",
       "       std       21.848722\n",
       "       min      -65.165789\n",
       "       25%      -18.141826\n",
       "       50%       -4.196285\n",
       "       75%        5.739958\n",
       "       max       22.560606\n",
       "MDD    count    266.000000\n",
       "       mean      -2.910442\n",
       "       std       21.578954\n",
       "       min      -60.111111\n",
       "       25%      -18.144889\n",
       "       50%       -2.238752\n",
       "       75%       10.784784\n",
       "       max       73.210870\n",
       "Name: gratton_rt, dtype: float64"
      ]
     },
     "execution_count": 26,
     "metadata": {},
     "output_type": "execute_result"
    }
   ],
   "source": [
    "# Gratton effect on RT--negative is better, and it looks more negative in controls\n",
    "bygroup.gratton_rt.describe()"
   ]
  },
  {
   "cell_type": "code",
   "execution_count": 27,
   "metadata": {
    "collapsed": false
   },
   "outputs": [
    {
     "data": {
      "text/plain": [
       "<matplotlib.axes._subplots.AxesSubplot at 0x11b474278>"
      ]
     },
     "execution_count": 27,
     "metadata": {},
     "output_type": "execute_result"
    },
    {
     "data": {
      "image/png": "[encoded data removed]",
      "text/plain": [
       "<matplotlib.figure.Figure at 0x117156908>"
      ]
     },
     "metadata": {},
     "output_type": "display_data"
    }
   ],
   "source": [
    "# Gratton accuracy effect\n",
    "sns.boxplot(flk_use.gratton_acc,groupby=flk_use.group,names=['Control','MDD'])"
   ]
  },
  {
   "cell_type": "code",
   "execution_count": 28,
   "metadata": {
    "collapsed": false
   },
   "outputs": [
    {
     "data": {
      "text/plain": [
       "<matplotlib.axes._subplots.AxesSubplot at 0x11b580358>"
      ]
     },
     "execution_count": 28,
     "metadata": {},
     "output_type": "execute_result"
    },
    {
     "data": {
      "image/png": "[encoded data removed]",
      "text/plain": [
       "<matplotlib.figure.Figure at 0x11b530828>"
      ]
     },
     "metadata": {},
     "output_type": "display_data"
    }
   ],
   "source": [
    "# Gratton RT effect\n",
    "sns.boxplot(flk_use.gratton_rt,groupby=flk_use.group,names=['Control','MDD'])"
   ]
  },
  {
   "cell_type": "code",
   "execution_count": 29,
   "metadata": {
    "collapsed": false
   },
   "outputs": [
    {
     "data": {
      "text/plain": [
       "\n",
       "\tOne Sample t-test\n",
       "\n",
       "data:  flk_use.ctrl$gratton_acc\n",
       "t = 4.1666, df = 34, p-value = 0.0002004\n",
       "alternative hypothesis: true mean is not equal to 0\n",
       "95 percent confidence interval:\n",
       " 0.03548761 0.10306813\n",
       "sample estimates:\n",
       " mean of x \n",
       "0.06927787 \n",
       "\n"
      ]
     },
     "metadata": {},
     "output_type": "display_data"
    },
    {
     "data": {
      "text/plain": [
       "\n",
       "\tOne Sample t-test\n",
       "\n",
       "data:  flk_use.mdd$gratton_acc\n",
       "t = 9.9598, df = 265, p-value < 2.2e-16\n",
       "alternative hypothesis: true mean is not equal to 0\n",
       "95 percent confidence interval:\n",
       " 0.05599023 0.08358227\n",
       "sample estimates:\n",
       " mean of x \n",
       "0.06978625 \n",
       "\n"
      ]
     },
     "metadata": {},
     "output_type": "display_data"
    },
    {
     "data": {
      "text/plain": [
       "\n",
       "\tWelch Two Sample t-test\n",
       "\n",
       "data:  gratton_acc by group\n",
       "t = -0.028176, df = 46.958, p-value = 0.9776\n",
       "alternative hypothesis: true difference in means is not equal to 0\n",
       "95 percent confidence interval:\n",
       " -0.03680731  0.03579054\n",
       "sample estimates:\n",
       "mean in group CTL mean in group MDD \n",
       "       0.06927787        0.06978625 \n",
       "\n"
      ]
     },
     "metadata": {},
     "output_type": "display_data"
    }
   ],
   "source": [
    "# For Gratton effect on accuracy, see if effect is greater than zero in each group, and then check group diff.\n",
    "%R print(t.test(flk_use.ctrl$gratton_acc,mu=0)) # Controls, p < .001\n",
    "%R print(t.test(flk_use.mdd$gratton_acc,mu=0)) # MDD, p < .001\n",
    "%R print(t.test(gratton_acc ~ group,flk_use)) # No group difference, p = 0.98"
   ]
  },
  {
   "cell_type": "code",
   "execution_count": 30,
   "metadata": {
    "collapsed": false
   },
   "outputs": [
    {
     "data": {
      "text/plain": [
       "\n",
       "\tOne Sample t-test\n",
       "\n",
       "data:  flk_use.ctrl$gratton_rt\n",
       "t = -2.1671, df = 34, p-value = 0.03732\n",
       "alternative hypothesis: true mean is not equal to 0\n",
       "95 percent confidence interval:\n",
       " -15.5086102  -0.4980127\n",
       "sample estimates:\n",
       "mean of x \n",
       "-8.003311 \n",
       "\n"
      ]
     },
     "metadata": {},
     "output_type": "display_data"
    },
    {
     "data": {
      "text/plain": [
       "\n",
       "\tOne Sample t-test\n",
       "\n",
       "data:  flk_use.mdd$gratton_rt\n",
       "t = -2.1997, df = 265, p-value = 0.02869\n",
       "alternative hypothesis: true mean is not equal to 0\n",
       "95 percent confidence interval:\n",
       " -5.5155497 -0.3053347\n",
       "sample estimates:\n",
       "mean of x \n",
       "-2.910442 \n",
       "\n"
      ]
     },
     "metadata": {},
     "output_type": "display_data"
    },
    {
     "data": {
      "text/plain": [
       "\n",
       "\tWelch Two Sample t-test\n",
       "\n",
       "data:  gratton_rt by group\n",
       "t = -1.2982, df = 43.197, p-value = 0.2011\n",
       "alternative hypothesis: true difference in means is not equal to 0\n",
       "95 percent confidence interval:\n",
       " -13.003231   2.817493\n",
       "sample estimates:\n",
       "mean in group CTL mean in group MDD \n",
       "        -8.003311         -2.910442 \n",
       "\n"
      ]
     },
     "metadata": {},
     "output_type": "display_data"
    }
   ],
   "source": [
    "# For Gratton effect on RT, see if effect is less than zero in each group, and then check group diff.\n",
    "%R print(t.test(flk_use.ctrl$gratton_rt,mu=0)) # Controls, p = .03\n",
    "%R print(t.test(flk_use.mdd$gratton_rt,mu=0)) # MDD, p = .029\n",
    "%R print(t.test(gratton_rt ~ group,flk_use)) # No group difference, p = 0.20"
   ]
  },
  {
   "cell_type": "code",
   "execution_count": 31,
   "metadata": {
    "collapsed": false
   },
   "outputs": [
    {
     "data": {
      "text/plain": [
       "group\n",
       "CTL     34\n",
       "MDD    247\n",
       "Name: ProjectSpecificID, dtype: int64"
      ]
     },
     "execution_count": 31,
     "metadata": {},
     "output_type": "execute_result"
    }
   ],
   "source": [
    "# For the Rabbitt/Laming effects, first need to select only those subjects with usable data\n",
    "# We lose 1 CTL and 19 MDDs\n",
    "flk_rl_use = flk_clin_s1[flk_clin_s1.rab_lam_qc == 1]\n",
    "rl_bygroup = flk_rl_use.groupby('group')\n",
    "rl_bygroup.ProjectSpecificID.nunique()"
   ]
  },
  {
   "cell_type": "code",
   "execution_count": 32,
   "metadata": {
    "collapsed": false
   },
   "outputs": [
    {
     "data": {
      "text/plain": [
       "group       \n",
       "CTL    count     34.000000\n",
       "       mean       0.005931\n",
       "       std        0.039132\n",
       "       min       -0.095450\n",
       "       25%       -0.015406\n",
       "       50%        0.009353\n",
       "       75%        0.031110\n",
       "       max        0.073789\n",
       "MDD    count    247.000000\n",
       "       mean      -0.004933\n",
       "       std        0.048828\n",
       "       min       -0.313337\n",
       "       25%       -0.027431\n",
       "       50%        0.003492\n",
       "       75%        0.022780\n",
       "       max        0.101010\n",
       "Name: rab_lam_acc, dtype: float64"
      ]
     },
     "execution_count": 32,
     "metadata": {},
     "output_type": "execute_result"
    }
   ],
   "source": [
    "# Rab/Lam effect on accuracy--effects are very small, but more positive in controls\n",
    "rl_bygroup.rab_lam_acc.describe()"
   ]
  },
  {
   "cell_type": "code",
   "execution_count": 33,
   "metadata": {
    "collapsed": false
   },
   "outputs": [
    {
     "data": {
      "text/plain": [
       "group       \n",
       "CTL    count     34.000000\n",
       "       mean       5.676535\n",
       "       std       21.764181\n",
       "       min      -30.693860\n",
       "       25%       -7.930425\n",
       "       50%        2.798416\n",
       "       75%       16.245899\n",
       "       max       58.799722\n",
       "MDD    count    247.000000\n",
       "       mean       9.759232\n",
       "       std       27.436156\n",
       "       min      -70.129979\n",
       "       25%       -7.935279\n",
       "       50%        8.464286\n",
       "       75%       23.106480\n",
       "       max      118.571429\n",
       "Name: rab_lam_rt, dtype: float64"
      ]
     },
     "execution_count": 33,
     "metadata": {},
     "output_type": "execute_result"
    }
   ],
   "source": [
    "# Rab/Lam effect on RT--effects are again small, but RT is more positive in the MDD group\n",
    "rl_bygroup.rab_lam_rt.describe()"
   ]
  },
  {
   "cell_type": "code",
   "execution_count": 34,
   "metadata": {
    "collapsed": false
   },
   "outputs": [
    {
     "data": {
      "text/plain": [
       "<matplotlib.axes._subplots.AxesSubplot at 0x11b591fd0>"
      ]
     },
     "execution_count": 34,
     "metadata": {},
     "output_type": "execute_result"
    },
    {
     "data": {
      "image/png": "[encoded data removed]",
      "text/plain": [
       "<matplotlib.figure.Figure at 0x11b776550>"
      ]
     },
     "metadata": {},
     "output_type": "display_data"
    }
   ],
   "source": [
    "# Rab/Lam accuracy effect\n",
    "sns.boxplot(flk_rl_use.rab_lam_acc,groupby=flk_rl_use.group,names=['Control','MDD'])"
   ]
  },
  {
   "cell_type": "code",
   "execution_count": 35,
   "metadata": {
    "collapsed": false
   },
   "outputs": [
    {
     "data": {
      "text/plain": [
       "<matplotlib.axes._subplots.AxesSubplot at 0x11b7834e0>"
      ]
     },
     "execution_count": 35,
     "metadata": {},
     "output_type": "execute_result"
    },
    {
     "data": {
      "image/png": "[encoded data removed]",
      "text/plain": [
       "<matplotlib.figure.Figure at 0x1171a8ef0>"
      ]
     },
     "metadata": {},
     "output_type": "display_data"
    }
   ],
   "source": [
    "# Rab/Lam RT effect\n",
    "sns.boxplot(flk_rl_use.rab_lam_rt,groupby=flk_rl_use.group,names=['Control','MDD'])"
   ]
  },
  {
   "cell_type": "code",
   "execution_count": 36,
   "metadata": {
    "collapsed": true
   },
   "outputs": [],
   "source": [
    "%Rpush flk_rl_use"
   ]
  },
  {
   "cell_type": "code",
   "execution_count": 37,
   "metadata": {
    "collapsed": false
   },
   "outputs": [
    {
     "data": {
      "text/plain": [
       "\n",
       "\tOne Sample t-test\n",
       "\n",
       "data:  flk_rl_use.ctrl$rab_lam_acc\n",
       "t = 0.88374, df = 33, p-value = 0.3832\n",
       "alternative hypothesis: true mean is not equal to 0\n",
       "95 percent confidence interval:\n",
       " -0.007722999  0.019584833\n",
       "sample estimates:\n",
       "  mean of x \n",
       "0.005930917 \n",
       "\n"
      ]
     },
     "metadata": {},
     "output_type": "display_data"
    },
    {
     "data": {
      "text/plain": [
       "\n",
       "\tOne Sample t-test\n",
       "\n",
       "data:  flk_rl_use.mdd$rab_lam_acc\n",
       "t = -1.5877, df = 246, p-value = 0.1136\n",
       "alternative hypothesis: true mean is not equal to 0\n",
       "95 percent confidence interval:\n",
       " -0.011052353  0.001186524\n",
       "sample estimates:\n",
       "   mean of x \n",
       "-0.004932915 \n",
       "\n"
      ]
     },
     "metadata": {},
     "output_type": "display_data"
    },
    {
     "data": {
      "text/plain": [
       "\n",
       "\tWelch Two Sample t-test\n",
       "\n",
       "data:  rab_lam_acc by group\n",
       "t = 1.469, df = 48.362, p-value = 0.1483\n",
       "alternative hypothesis: true difference in means is not equal to 0\n",
       "95 percent confidence interval:\n",
       " -0.004002741  0.025730405\n",
       "sample estimates:\n",
       "mean in group CTL mean in group MDD \n",
       "      0.005930917      -0.004932915 \n",
       "\n"
      ]
     },
     "metadata": {},
     "output_type": "display_data"
    }
   ],
   "source": [
    "# For Rab/Lam effect on accuracy, see if effect is greater than zero in each group, and then check group diff.\n",
    "%R flk_rl_use.ctrl <- subset(flk_rl_use,group == 'CTL')\n",
    "%R flk_rl_use.mdd <- subset(flk_rl_use,group == 'MDD')\n",
    "%R print(t.test(flk_rl_use.ctrl$rab_lam_acc,mu=0)) # Controls, p = .38\n",
    "%R print(t.test(flk_rl_use.mdd$rab_lam_acc,mu=0)) # MDD, p = .11\n",
    "%R print(t.test(rab_lam_acc ~ group,flk_rl_use)) # No group difference, p = 0.15"
   ]
  },
  {
   "cell_type": "code",
   "execution_count": 38,
   "metadata": {
    "collapsed": false
   },
   "outputs": [
    {
     "data": {
      "text/plain": [
       "\n",
       "\tOne Sample t-test\n",
       "\n",
       "data:  flk_rl_use.ctrl$rab_lam_rt\n",
       "t = 1.5208, df = 33, p-value = 0.1378\n",
       "alternative hypothesis: true mean is not equal to 0\n",
       "95 percent confidence interval:\n",
       " -1.917347 13.270416\n",
       "sample estimates:\n",
       "mean of x \n",
       " 5.676535 \n",
       "\n"
      ]
     },
     "metadata": {},
     "output_type": "display_data"
    },
    {
     "data": {
      "text/plain": [
       "\n",
       "\tOne Sample t-test\n",
       "\n",
       "data:  flk_rl_use.mdd$rab_lam_rt\n",
       "t = 5.5904, df = 246, p-value = 6.006e-08\n",
       "alternative hypothesis: true mean is not equal to 0\n",
       "95 percent confidence interval:\n",
       "  6.320765 13.197698\n",
       "sample estimates:\n",
       "mean of x \n",
       " 9.759232 \n",
       "\n"
      ]
     },
     "metadata": {},
     "output_type": "display_data"
    },
    {
     "data": {
      "text/plain": [
       "\n",
       "\tWelch Two Sample t-test\n",
       "\n",
       "data:  rab_lam_rt by group\n",
       "t = -0.9908, df = 48.704, p-value = 0.3267\n",
       "alternative hypothesis: true difference in means is not equal to 0\n",
       "95 percent confidence interval:\n",
       " -12.36461   4.19922\n",
       "sample estimates:\n",
       "mean in group CTL mean in group MDD \n",
       "         5.676535          9.759232 \n",
       "\n"
      ]
     },
     "metadata": {},
     "output_type": "display_data"
    }
   ],
   "source": [
    "# For Rab/Lam effect on RT, see if effect is greater than zero in each group, and then check group diff.\n",
    "%R print(t.test(flk_rl_use.ctrl$rab_lam_rt,mu=0)) # Controls, p = .14\n",
    "%R print(t.test(flk_rl_use.mdd$rab_lam_rt,mu=0)) # MDD, p < .001 (evidence of post-error slowing)\n",
    "%R print(t.test(rab_lam_rt ~ group,flk_rl_use)) # No group difference, p = 0.33"
   ]
  },
  {
   "cell_type": "code",
   "execution_count": 39,
   "metadata": {
    "collapsed": false
   },
   "outputs": [],
   "source": [
    "flk_ddm_clin_s1 = pd.read_csv('/Users/mlm2/Work/Expts/EMBARC/Data/Flanker/Processed/EMBARC_Flk_DDM_Clin_s1_Mar-01-0207PM-2017.csv')"
   ]
  },
  {
   "cell_type": "code",
   "execution_count": 40,
   "metadata": {
    "collapsed": false
   },
   "outputs": [],
   "source": [
    "# Get trial-level data for subjects who pass the flanker qc check\n",
    "flk_ddm_use = flk_ddm_clin_s1[~flk_ddm_clin_s1.ProjectSpecificID.isin(flk_qc_fails)]"
   ]
  },
  {
   "cell_type": "code",
   "execution_count": 42,
   "metadata": {
    "collapsed": false
   },
   "outputs": [
    {
     "data": {
      "text/plain": [
       "105350"
      ]
     },
     "execution_count": 42,
     "metadata": {},
     "output_type": "execute_result"
    }
   ],
   "source": [
    "len(flk_ddm_use)"
   ]
  },
  {
   "cell_type": "code",
   "execution_count": 43,
   "metadata": {
    "collapsed": false
   },
   "outputs": [
    {
     "data": {
      "text/plain": [
       "group\n",
       "CTL     35\n",
       "MDD    266\n",
       "Name: ProjectSpecificID, dtype: int64"
      ]
     },
     "execution_count": 43,
     "metadata": {},
     "output_type": "execute_result"
    }
   ],
   "source": [
    "# Confirming we have trial-level data from 35 controls and 266 depressed (with flanker_qc == 1)\n",
    "bygroup = flk_ddm_use.groupby('group')\n",
    "bygroup.ProjectSpecificID.nunique()"
   ]
  },
  {
   "cell_type": "code",
   "execution_count": 55,
   "metadata": {
    "collapsed": true
   },
   "outputs": [],
   "source": [
    "# For any trial-level analysis of Gratton or Rab/Lam, no need to worry about outliers or no-response trials b/c\n",
    "# Flanker_proc.clean() handles them. But you do need to exclude those trials for the flanker interferene analyses.\n",
    "# So let's create a df with no outliers and no no-response trials\n",
    "flk_ddm_use_clean = flk_ddm_use[~(flk_ddm_use.outlier == 1.0) & ~(pd.isnull(flk_ddm_use.rt))]\n",
    "flk_ddm_use_clean.to_csv('/Users/mlm2/Work/Expts/EMBARC/Data/Flanker/Processed/flk_ddm_use_clean.csv')"
   ]
  },
  {
   "cell_type": "code",
   "execution_count": 56,
   "metadata": {
    "collapsed": false
   },
   "outputs": [
    {
     "data": {
      "text/plain": [
       "103801"
      ]
     },
     "execution_count": 56,
     "metadata": {},
     "output_type": "execute_result"
    }
   ],
   "source": [
    "len(flk_ddm_use_clean)"
   ]
  },
  {
   "cell_type": "code",
   "execution_count": 46,
   "metadata": {
    "collapsed": false
   },
   "outputs": [
    {
     "data": {
      "text/plain": [
       "group  stimulus\n",
       "CTL    CON         0.987780\n",
       "       INC         0.772006\n",
       "MDD    CON         0.984785\n",
       "       INC         0.791639\n",
       "Name: accuracy, dtype: float64"
      ]
     },
     "execution_count": 46,
     "metadata": {},
     "output_type": "execute_result"
    }
   ],
   "source": [
    "# Give me mean accuracy by Stimulus for each group\n",
    "by_grp_stim = flk_ddm_use_clean.groupby(['group','stimulus'])\n",
    "by_grp_stim['accuracy'].mean()"
   ]
  },
  {
   "cell_type": "code",
   "execution_count": 47,
   "metadata": {
    "collapsed": false
   },
   "outputs": [
    {
     "data": {
      "text/plain": [
       "<matplotlib.axes._subplots.AxesSubplot at 0x120b1c710>"
      ]
     },
     "execution_count": 47,
     "metadata": {},
     "output_type": "execute_result"
    },
    {
     "data": {
      "image/png": "[encoded data removed]",
      "text/plain": [
       "<matplotlib.figure.Figure at 0x11b771160>"
      ]
     },
     "metadata": {},
     "output_type": "display_data"
    }
   ],
   "source": [
    "\n",
    "## Now boxplots of Group x Stimulus for accuracy . . . \n",
    "\n",
    "ctrl_con_acc = []\n",
    "ctrl_inc_acc = []\n",
    "mdd_con_acc = []\n",
    "mdd_inc_acc = []\n",
    "\n",
    "flk_acc_grpd = flk_ddm_use_clean.groupby(['group','stimulus','ProjectSpecificID'])['accuracy'].mean()\n",
    "\n",
    "for key in flk_acc_grpd.keys():\n",
    "    if key[0] == 'CTL' and key[1] == 'CON':\n",
    "        ctrl_con_acc.append(flk_acc_grpd[key])\n",
    "    elif key[0] == 'CTL' and key[1] == 'INC':\n",
    "        ctrl_inc_acc.append(flk_acc_grpd[key])\n",
    "    elif key[0] == 'MDD' and key[1] == 'CON':\n",
    "        mdd_con_acc.append(flk_acc_grpd[key])\n",
    "    elif key[0] == 'MDD' and key[1] == 'INC':\n",
    "        mdd_inc_acc.append(flk_acc_grpd[key])\n",
    "\n",
    "flk_acc_4plot = [ctrl_con_acc,ctrl_inc_acc,mdd_con_acc,mdd_inc_acc]\n",
    "#ctrl_con_acc\n",
    "sns.boxplot(data = flk_acc_4plot,names=['Ctrl:CON','Ctrl:INC','MDD:CON','MDD:INC'])"
   ]
  },
  {
   "cell_type": "code",
   "execution_count": 48,
   "metadata": {
    "collapsed": false
   },
   "outputs": [
    {
     "data": {
      "image/png": "[encoded data removed]",
      "text/plain": [
       "<matplotlib.figure.Figure at 0x10ce68630>"
      ]
     },
     "metadata": {},
     "output_type": "display_data"
    }
   ],
   "source": [
    "## Now boxplots of Group x Stimulus for accuracy. Initially very excited about factorplot (below), but having trouble\n",
    "# getting it to plot a couple of things. More importantly, the SEM bars it generates are almost certainly not taking\n",
    "# into account the number of subjects in each condition, but are instead working with N data points. That would \n",
    "# mislead most readers. Developed a better solution here--saved as Figure 2 for Psychological Medicine.\n",
    "\n",
    "sns.set_style('whitegrid')\n",
    "sns.set_context('paper')\n",
    "\n",
    "## Plotting accuracy (Group x Stimulus)\n",
    "\n",
    "ctrl_con_acc = []\n",
    "ctrl_inc_acc = []\n",
    "mdd_con_acc = []\n",
    "mdd_inc_acc = []\n",
    "\n",
    "flk_acc_means = flk_ddm_use_clean.groupby(['group','stimulus','ProjectSpecificID'])['accuracy'].mean()\n",
    "\n",
    "for key in flk_acc_means.keys():\n",
    "    if key[0] == 'CTL' and key[1] == 'CON':\n",
    "        ctrl_con_acc.append(flk_acc_means[key])\n",
    "            \n",
    "    elif key[0] == 'CTL' and key[1] == 'INC':\n",
    "        ctrl_inc_acc.append(flk_acc_means[key])\n",
    "            \n",
    "    elif key[0] == 'MDD' and key[1] == 'CON':\n",
    "        mdd_con_acc.append(flk_acc_means[key])\n",
    "            \n",
    "    elif key[0] == 'MDD' and key[1] == 'INC':\n",
    "        mdd_inc_acc.append(flk_acc_means[key])\n",
    "        \n",
    "ctrl_con_acc_se = sp.stats.sem(ctrl_con_acc)\n",
    "ctrl_inc_acc_se = sp.stats.sem(ctrl_inc_acc)\n",
    "mdd_con_acc_se = sp.stats.sem(mdd_con_acc)\n",
    "mdd_inc_acc_se = sp.stats.sem(mdd_inc_acc)\n",
    "\n",
    "ctrl_acc_means = [np.mean(ctrl_con_acc), np.mean(ctrl_inc_acc)]\n",
    "ctrl_acc_se = [ctrl_con_acc_se, ctrl_inc_acc_se]\n",
    "\n",
    "mdd_acc_means = [np.mean(mdd_con_acc),np.mean(mdd_inc_acc)]\n",
    "mdd_acc_se = [mdd_con_acc_se, mdd_inc_acc_se]\n",
    "\n",
    "# Plot accuracy\n",
    "index = [0.1,0.6]\n",
    "index = np.asarray(index)\n",
    "width = 0.15\n",
    "\n",
    "fig = plt.figure()\n",
    "ax1 = fig.add_subplot(133)\n",
    "ax1.set_ylim([0.7,1.0])\n",
    "ax1.set_xlim([0,1])\n",
    "ctrl_acc_bars = ax1.bar(index,ctrl_acc_means,width,yerr=ctrl_acc_se,color='#C3C3C3',ecolor='black',label='Control')\n",
    "mdd_acc_bars = ax1.bar(index+width,mdd_acc_means,width,yerr=mdd_acc_se,color='#767676',ecolor='black',label='MDD')\n",
    "ax1.set_xticks([0.25,0.75])\n",
    "ax1.set_xticklabels(['CON','INC'])\n",
    "ax1.set_ylabel('Accuracy (Percent Correct)')\n",
    "#ax1.text(-0.3,1.01,'A',fontweight='bold') # I like the flexibility of text vs. set_title, but cannot get it to plot ax2\n",
    "ax1.set_title('C',loc='left',fontweight='bold')\n",
    "acc_legend = ax1.legend(loc='upper right')\n",
    "\n",
    "## Plotting RT (Stimulus x Accuracy): Controls\n",
    "\n",
    "ctrl_con0_rt = []\n",
    "ctrl_con1_rt = []\n",
    "ctrl_inc0_rt = []\n",
    "ctrl_inc1_rt = []\n",
    "\n",
    "flk_rt_means = flk_ddm_use_clean.groupby(['group','stimulus','accuracy','ProjectSpecificID'])['rt'].mean()\n",
    "\n",
    "for key in flk_rt_means.keys():\n",
    "    if key[0] == 'CTL' and key[1] == 'CON' and key[2] == 0.0:\n",
    "        ctrl_con0_rt.append(flk_rt_means[key])\n",
    "            \n",
    "    elif key[0] == 'CTL' and key[1] == 'CON' and key[2] == 1.0:\n",
    "        ctrl_con1_rt.append(flk_rt_means[key])\n",
    "            \n",
    "    elif key[0] == 'CTL' and key[1] == 'INC' and key[2] == 0.0:\n",
    "        ctrl_inc0_rt.append(flk_rt_means[key])\n",
    "            \n",
    "    elif key[0] == 'CTL' and key[1] == 'INC' and key[2] == 1.0:\n",
    "        ctrl_inc1_rt.append(flk_rt_means[key])\n",
    "        \n",
    "ctrl_con0_rt_se = sp.stats.sem(ctrl_con0_rt)\n",
    "ctrl_con1_rt_se = sp.stats.sem(ctrl_con1_rt)\n",
    "ctrl_inc0_rt_se = sp.stats.sem(ctrl_inc0_rt)\n",
    "ctrl_inc1_rt_se = sp.stats.sem(ctrl_inc1_rt)\n",
    "\n",
    "ctrl_corr_rt_means = [np.mean(ctrl_con1_rt), np.mean(ctrl_inc1_rt)]\n",
    "ctrl_corr_rt_se = [ctrl_con1_rt_se, ctrl_inc1_rt_se]\n",
    "\n",
    "ctrl_err_rt_means = [np.mean(ctrl_con0_rt), np.mean(ctrl_inc0_rt)]\n",
    "ctrl_err_rt_se = [ctrl_con0_rt_se, ctrl_inc0_rt_se]\n",
    "\n",
    "# Now plot RT for the controls\n",
    "ax2 = fig.add_subplot(131)\n",
    "ax2.set_ylim([250,500])\n",
    "ax2.set_xlim([0,1])\n",
    "ctrl_corr_rt_bars = ax2.bar(index,ctrl_corr_rt_means,width,yerr=ctrl_corr_rt_se,\n",
    "                           color='#C3C3C3',ecolor='black',label='Correct')\n",
    "ctrl_err_rt_bars = ax2.bar(index+width,ctrl_err_rt_means,width,yerr=ctrl_err_rt_se,\n",
    "                          color='#767676',ecolor='black',label='Error')\n",
    "ax2.set_xticks([0.25,0.75])\n",
    "ax2.set_xticklabels(['CON','INC'])\n",
    "ax2.set_ylabel('RT (ms)')\n",
    "ax2.set_title('A',loc='left',fontweight='bold')\n",
    "acc_legend = ax2.legend(loc='upper left', title='Controls')\n",
    "\n",
    "## Plotting RT (Stimulus x Accuracy): MDD\n",
    "\n",
    "mdd_con0_rt = []\n",
    "mdd_con1_rt = []\n",
    "mdd_inc0_rt = []\n",
    "mdd_inc1_rt = []\n",
    "\n",
    "for key in flk_rt_means.keys():\n",
    "    if key[0] == 'MDD' and key[1] == 'CON' and key[2] == 0.0:\n",
    "        mdd_con0_rt.append(flk_rt_means[key])\n",
    "            \n",
    "    elif key[0] == 'MDD' and key[1] == 'CON' and key[2] == 1.0:\n",
    "        mdd_con1_rt.append(flk_rt_means[key])\n",
    "            \n",
    "    elif key[0] == 'MDD' and key[1] == 'INC' and key[2] == 0.0:\n",
    "        mdd_inc0_rt.append(flk_rt_means[key])\n",
    "            \n",
    "    elif key[0] == 'MDD' and key[1] == 'INC' and key[2] == 1.0:\n",
    "        mdd_inc1_rt.append(flk_rt_means[key])\n",
    "        \n",
    "mdd_con0_rt_se = sp.stats.sem(mdd_con0_rt)\n",
    "mdd_con1_rt_se = sp.stats.sem(mdd_con1_rt)\n",
    "mdd_inc0_rt_se = sp.stats.sem(mdd_inc0_rt)\n",
    "mdd_inc1_rt_se = sp.stats.sem(mdd_inc1_rt)\n",
    "\n",
    "mdd_corr_rt_means = [np.mean(mdd_con1_rt), np.mean(mdd_inc1_rt)]\n",
    "mdd_corr_rt_se = [mdd_con1_rt_se, mdd_inc1_rt_se]\n",
    "\n",
    "mdd_err_rt_means = [np.mean(mdd_con0_rt), np.mean(mdd_inc0_rt)]\n",
    "mdd_err_rt_se = [mdd_con0_rt_se, mdd_inc0_rt_se]\n",
    "\n",
    "# Now plot RT for the MDD group\n",
    "ax3 = fig.add_subplot(132)\n",
    "ax3.set_ylim([250,500])\n",
    "ax3.set_xlim([0,1])\n",
    "mdd_corr_rt_bars = ax3.bar(index,mdd_corr_rt_means,width,yerr=mdd_corr_rt_se,\n",
    "                           color='#C3C3C3',ecolor='black',label='Correct')\n",
    "mdd_err_rt_bars = ax3.bar(index+width,mdd_err_rt_means,width,yerr=mdd_err_rt_se,\n",
    "                          color='#767676',ecolor='black',label='Error')\n",
    "ax3.set_xticks([0.25,0.75])\n",
    "ax3.set_xticklabels(['CON','INC'])\n",
    "ax3.set_ylabel('RT (ms)')\n",
    "ax3.set_title('B',loc='left',fontweight='bold')\n",
    "acc_legend = ax3.legend(loc='upper left', title='Depressed')\n",
    "\n",
    "## Space the subplots correctly, show, and save\n",
    "plt.tight_layout()\n",
    "#plt.savefig('/Users/danieldillon/Work/Expts/EMBARC/Manuscripts/Flanker/Figures/Fig2.eps',format='eps',transparent=True)\n",
    "plt.show()"
   ]
  },
  {
   "cell_type": "code",
   "execution_count": 49,
   "metadata": {
    "collapsed": false
   },
   "outputs": [
    {
     "name": "stdout",
     "output_type": "stream",
     "text": [
      "Ctrls: CON and INC acc, r = 0.25, p = 0.15\n",
      "MDD: CON and INC acc, r = 0.26, p = 0.00\n"
     ]
    }
   ],
   "source": [
    "# Correlation b/w CON and INC accuracy in each group\n",
    "ctrl_acc_correl = pearsonr(ctrl_con_acc,ctrl_inc_acc)\n",
    "mdd_acc_correl = pearsonr(mdd_con_acc,mdd_inc_acc)\n",
    "\n",
    "print ('Ctrls: CON and INC acc, r = ' + '{:.2f}'.format(ctrl_acc_correl[0]) + ', p = ' + '{:.2f}'.format(ctrl_acc_correl[1]))\n",
    "print ('MDD: CON and INC acc, r = ' + '{:.2f}'.format(mdd_acc_correl[0]) + ', p = ' + '{:.2f}'.format(mdd_acc_correl[1]))"
   ]
  },
  {
   "cell_type": "code",
   "execution_count": 53,
   "metadata": {
    "collapsed": false
   },
   "outputs": [
    {
     "data": {
      "text/plain": [
       "['ProjectSpecificID',\n",
       " 'site',\n",
       " 'subject',\n",
       " 'session',\n",
       " 'group',\n",
       " 'block',\n",
       " 'trial',\n",
       " 'stimulus',\n",
       " 'response',\n",
       " 'accuracy',\n",
       " 'rt',\n",
       " 'feedback',\n",
       " 'ln_rt',\n",
       " 'outlier',\n",
       " 'rab_lam',\n",
       " 'gratton']"
      ]
     },
     "execution_count": 53,
     "metadata": {},
     "output_type": "execute_result"
    }
   ],
   "source": [
    "list(flk_ddm_use_clean) #this is already pretty clean but it's killing rpy2"
   ]
  },
  {
   "cell_type": "code",
   "execution_count": 67,
   "metadata": {
    "collapsed": false
   },
   "outputs": [
    {
     "data": {
      "text/html": [
       "<div>\n",
       "<table border=\"1\" class=\"dataframe\">\n",
       "  <thead>\n",
       "    <tr style=\"text-align: right;\">\n",
       "      <th></th>\n",
       "      <th>ProjectSpecificID</th>\n",
       "      <th>site</th>\n",
       "      <th>group</th>\n",
       "      <th>stimulus</th>\n",
       "      <th>accuracy</th>\n",
       "    </tr>\n",
       "  </thead>\n",
       "  <tbody>\n",
       "    <tr>\n",
       "      <th>0</th>\n",
       "      <td>CU0009</td>\n",
       "      <td>CU</td>\n",
       "      <td>CTL</td>\n",
       "      <td>INC</td>\n",
       "      <td>1.0</td>\n",
       "    </tr>\n",
       "    <tr>\n",
       "      <th>1</th>\n",
       "      <td>CU0009</td>\n",
       "      <td>CU</td>\n",
       "      <td>CTL</td>\n",
       "      <td>CON</td>\n",
       "      <td>1.0</td>\n",
       "    </tr>\n",
       "    <tr>\n",
       "      <th>2</th>\n",
       "      <td>CU0009</td>\n",
       "      <td>CU</td>\n",
       "      <td>CTL</td>\n",
       "      <td>INC</td>\n",
       "      <td>0.0</td>\n",
       "    </tr>\n",
       "    <tr>\n",
       "      <th>3</th>\n",
       "      <td>CU0009</td>\n",
       "      <td>CU</td>\n",
       "      <td>CTL</td>\n",
       "      <td>CON</td>\n",
       "      <td>1.0</td>\n",
       "    </tr>\n",
       "    <tr>\n",
       "      <th>4</th>\n",
       "      <td>CU0009</td>\n",
       "      <td>CU</td>\n",
       "      <td>CTL</td>\n",
       "      <td>INC</td>\n",
       "      <td>1.0</td>\n",
       "    </tr>\n",
       "  </tbody>\n",
       "</table>\n",
       "</div>"
      ],
      "text/plain": [
       "  ProjectSpecificID site group stimulus  accuracy\n",
       "0            CU0009   CU   CTL      INC       1.0\n",
       "1            CU0009   CU   CTL      CON       1.0\n",
       "2            CU0009   CU   CTL      INC       0.0\n",
       "3            CU0009   CU   CTL      CON       1.0\n",
       "4            CU0009   CU   CTL      INC       1.0"
      ]
     },
     "execution_count": 67,
     "metadata": {},
     "output_type": "execute_result"
    }
   ],
   "source": [
    "flk_ddm_use_clean_tight = flk_ddm_use_clean[['ProjectSpecificID', 'site','group', 'stimulus','accuracy']]\n",
    "flk_ddm_use_clean_tight.head()"
   ]
  },
  {
   "cell_type": "code",
   "execution_count": 57,
   "metadata": {
    "collapsed": false
   },
   "outputs": [
    {
     "data": {
      "text/plain": [
       "Generalized linear mixed model fit by maximum likelihood (Laplace\n",
       "  Approximation) [glmerMod]\n",
       " Family: binomial  ( logit )\n",
       "Formula: accuracy ~ site + group * stimulus + (1 | ProjectSpecificID)\n",
       "   Data: flk_ddm_use_clean\n",
       "\n",
       "     AIC      BIC   logLik deviance df.resid \n",
       " 44838.6  44915.0 -22411.3  44822.6   103793 \n",
       "\n",
       "Scaled residuals: \n",
       "     Min       1Q   Median       3Q      Max \n",
       "-22.8119   0.0902   0.1221   0.2649   1.5184 \n",
       "\n",
       "Random effects:\n",
       " Groups            Name        Variance Std.Dev.\n",
       " ProjectSpecificID (Intercept) 0.5635   0.7507  \n",
       "Number of obs: 103801, groups:  ProjectSpecificID, 301\n",
       "\n",
       "Fixed effects:\n",
       "                     Estimate Std. Error z value Pr(>|z|)    \n",
       "(Intercept)            4.4523     0.1807  24.633  < 2e-16 ***\n",
       "siteMG                 0.1515     0.1362   1.113  0.26589    \n",
       "siteTX                 0.2463     0.1153   2.136  0.03264 *  \n",
       "siteUM                 0.2554     0.1311   1.948  0.05140 .  \n",
       "groupMDD              -0.1826     0.1739  -1.050  0.29381    \n",
       "stimulusINC           -3.2667     0.1088 -30.020  < 2e-16 ***\n",
       "groupMDD:stimulusINC   0.3304     0.1147   2.880  0.00397 ** \n",
       "---\n",
       "Signif. codes:  0 ‘***’ 0.001 ‘**’ 0.01 ‘*’ 0.05 ‘.’ 0.1 ‘ ’ 1\n",
       "\n",
       "Correlation of Fixed Effects:\n",
       "            (Intr) siteMG siteTX siteUM grpMDD stmINC\n",
       "siteMG      -0.333                                   \n",
       "siteTX      -0.324  0.437                            \n",
       "siteUM      -0.347  0.390  0.453                     \n",
       "groupMDD    -0.873  0.062 -0.005  0.067              \n",
       "stimulusINC -0.530 -0.002  0.001 -0.001  0.550       \n",
       "grpMDD:sINC  0.502  0.002 -0.002  0.000 -0.579 -0.948\n"
      ]
     },
     "metadata": {},
     "output_type": "display_data"
    }
   ],
   "source": [
    "# Using the trial-level data, let's run a linear mixed-model in which we predict accuracy with Site and Group*Stimulus\n",
    "# Group*Stimulus would ideally show that INC trials are especially tough for MDD subjects; based on the boxplots, \n",
    "# seems more likely to show that MDDs are worse than controls on CON trials (and maybe better on INC trials).\n",
    "# I have ProjectSpecificID as a random effect: each subject gets his or her own intercept\n",
    "# The two stimulus conditions--CON and INC--are exhaustive, so Stimulus is a fixed effect\n",
    "# The two groups are exhaustive for this study, so Group is a fixed effect\n",
    "# The four sites are exhaustive for this study, so Site is a fixed effect. I could imagine it being random b/c these\n",
    "# four sites are not exhaustive in the same way that the two groups and stimuli are, but I think this approach is ok.\n",
    "# Our hypothesis is that Group and Stimulus interact, but Site is not expected to and would be uninterpretable.\n",
    "# So no interaction with Site is specified.\n",
    "# Returns an effect of Stimulus (INC < CON) and Group x Stimulus, due to MDD > Ctrl for INC (but reverse for CON)\n",
    "\n",
    "%Rpush flk_ddm_use_clean\n",
    "%R library(lmerTest)\n",
    "%R flk_ddm_use_clean$group <- as.factor(flk_ddm_use_clean$group)\n",
    "%R flk_ddm_use_clean$site <- as.factor(flk_ddm_use_clean$site)\n",
    "%R flk_ddm_use_clean$stimulus <- as.factor(flk_ddm_use_clean$stimulus)\n",
    "\n",
    "# Create the model\n",
    "%R flk_ddm_use_clean.acc1 = glmer(accuracy ~ site + group*stimulus + (1|ProjectSpecificID), data=flk_ddm_use_clean, family=binomial)\n",
    "\n",
    "# Print the results:\n",
    "%R print(summary(flk_ddm_use_clean.acc1)) # takes a while (~20 mins), just let it run"
   ]
  },
  {
   "cell_type": "code",
   "execution_count": 58,
   "metadata": {
    "collapsed": false
   },
   "outputs": [
    {
     "data": {
      "text/plain": [
       "Analysis of Variance Table\n",
       "               Df Sum Sq Mean Sq   F value\n",
       "site            3    4.6     1.5    1.5416\n",
       "group           1    2.0     2.0    1.9914\n",
       "stimulus        1 7235.2  7235.2 7235.1510\n",
       "group:stimulus  1    8.1     8.1    8.0845\n"
      ]
     },
     "metadata": {},
     "output_type": "display_data"
    }
   ],
   "source": [
    "%R print(lmerTest::anova(flk_ddm_use_clean.acc1)) "
   ]
  },
  {
   "cell_type": "code",
   "execution_count": null,
   "metadata": {
    "collapsed": true
   },
   "outputs": [],
   "source": [
    "# One concern with the model above is that PSID is nested (not crossed) within Group, but the model does not reflect that.\n",
    "# This second model does. However, this model also crashes the computer, so I'm pretty sure it's off:)\n",
    "\n",
    "%R flk_ddm_use.acc2 = lmer(accuracy ~ site + group*stimulus + (ProjectSpecificID|group), data=flk_ddm_use)\n",
    "%R print(summary(flk_ddm_use.acc2)) \n",
    "\n",
    "# VL: I didn't try running this, because I didn't want the computer to crash"
   ]
  },
  {
   "cell_type": "code",
   "execution_count": 54,
   "metadata": {
    "collapsed": false
   },
   "outputs": [
    {
     "data": {
      "text/plain": [
       "Anova Table (Type 3 tests)\n",
       "\n",
       "Response: accuracy\n",
       "               Effect     df  MSE          F p.value\n",
       "1                site 3, 293 0.01       0.52     .67\n",
       "2               group 1, 293 0.01       0.45     .50\n",
       "3          site:group 3, 293 0.01     3.49 *     .02\n",
       "4            stimulus 1, 293 0.01 404.55 ***  <.0001\n",
       "5       site:stimulus 3, 293 0.01       0.97     .41\n",
       "6      group:stimulus 1, 293 0.01       1.14     .29\n",
       "7 site:group:stimulus 3, 293 0.01    4.33 **    .005\n"
      ]
     },
     "metadata": {},
     "output_type": "display_data"
    }
   ],
   "source": [
    "# Okay, let's run the more traditional Site x Group x Stim ANOVA\n",
    "\n",
    "%Rpush flk_ddm_use_clean\n",
    "%R library(afex)\n",
    "%R flk_ddm_aov.acc <- aov_ez(\"ProjectSpecificID\", dv = \"accuracy\", data = flk_ddm_use_clean, between = c(\"site\",\"group\"),within=\"stimulus\",anova_table=list(correction=\"none\", es = \"none\"))\n",
    "%R print(flk_ddm_aov.acc)\n",
    "\n",
    "# The stim finding was the same as the first half of the data, but the site x group x stimulus interaction is new"
   ]
  },
  {
   "cell_type": "code",
   "execution_count": 167,
   "metadata": {
    "collapsed": false
   },
   "outputs": [
    {
     "data": {
      "text/plain": [
       "array(['phia', 'car', 'lmerTest', 'ppcor', 'MASS', 'afex', 'reshape2',\n",
       "       'lme4', 'Matrix', 'lsmeans', 'estimability', 'tools', 'stats',\n",
       "       'graphics', 'grDevices', 'utils', 'datasets', 'methods', 'base'], \n",
       "      dtype='<U12')"
      ]
     },
     "execution_count": 167,
     "metadata": {},
     "output_type": "execute_result"
    }
   ],
   "source": [
    "# To examine the interaction, trying out the Post-Hoc Interaction Analysis (PHIA) package from R\n",
    "%R library(phia)"
   ]
  },
  {
   "cell_type": "code",
   "execution_count": 168,
   "metadata": {
    "collapsed": false
   },
   "outputs": [
    {
     "data": {
      "text/plain": [
       "   site group stimulus adjusted mean  SE of link\n",
       "1    CU   CTL      CON     0.9809230 0.009407767\n",
       "2    MG   CTL      CON     0.9825210 0.009744311\n",
       "3    TX   CTL      CON     0.9928069 0.009350329\n",
       "4    UM   CTL      CON     0.9937687 0.009515912\n",
       "5    CU   MDD      CON     0.9779901 0.005102439\n",
       "6    MG   MDD      CON     0.9795882 0.006612292\n",
       "7    TX   MDD      CON     0.9898741 0.004886478\n",
       "8    UM   MDD      CON     0.9908359 0.006238465\n",
       "9    CU   CTL      INC     0.7653502 0.009793914\n",
       "10   MG   CTL      INC     0.7669483 0.010117464\n",
       "11   TX   CTL      INC     0.7772342 0.009738552\n",
       "12   UM   CTL      INC     0.7781959 0.009897235\n",
       "13   CU   MDD      INC     0.7850066 0.005197145\n",
       "14   MG   MDD      INC     0.7866046 0.006686027\n",
       "15   TX   MDD      INC     0.7968905 0.004985865\n",
       "16   UM   MDD      INC     0.7978523 0.006316499\n"
      ]
     },
     "metadata": {},
     "output_type": "display_data"
    }
   ],
   "source": [
    "# Print adjusted means for the Group x Site x Stimulus interaction. TODO: Need to follow up on this\n",
    "# Note that these adjusted means are not identical to the raw means.\n",
    "%R print(interactionMeans(flk_ddm_use_clean.acc1, factors=c('group','stimulus','site')))"
   ]
  },
  {
   "cell_type": "code",
   "execution_count": 169,
   "metadata": {
    "collapsed": false
   },
   "outputs": [
    {
     "data": {
      "text/plain": [
       "Chisq Test: \n",
       "P-value adjustment method: holm\n",
       "      Value Df Chisq Pr(>Chisq)    \n",
       "CTL 0.21557  1  1960  < 2.2e-16 ***\n",
       "MDD 0.19298  1 11905  < 2.2e-16 ***\n",
       "---\n",
       "Signif. codes:  0 ‘***’ 0.001 ‘**’ 0.01 ‘*’ 0.05 ‘.’ 0.1 ‘ ’ 1\n"
      ]
     },
     "metadata": {},
     "output_type": "display_data"
    }
   ],
   "source": [
    "# Simple effect of Stimulus at each Group (should be highly sig). Yup, looks fine.\n",
    "%R print(testInteractions(flk_ddm_use_clean.acc1,fixed='group',across='stimulus'))"
   ]
  },
  {
   "cell_type": "code",
   "execution_count": 170,
   "metadata": {
    "collapsed": false
   },
   "outputs": [
    {
     "data": {
      "text/plain": [
       "Chisq Test: \n",
       "P-value adjustment method: holm\n",
       "         Value Df  Chisq Pr(>Chisq)  \n",
       "CON  0.0029328  1 0.1126    0.73717  \n",
       "INC -0.0196564  1 4.5584    0.06551 .\n",
       "---\n",
       "Signif. codes:  0 ‘***’ 0.001 ‘**’ 0.01 ‘*’ 0.05 ‘.’ 0.1 ‘ ’ 1\n"
      ]
     },
     "metadata": {},
     "output_type": "display_data"
    }
   ],
   "source": [
    "# Now try simple effect of Group at each level of Stimulus. Possible difference on INC trials.\n",
    "# ***The strong group difference at the first point of analysis has reduced to a trend here***\n",
    "%R print(testInteractions(flk_ddm_use_clean.acc1,fixed='stimulus',across='group'))"
   ]
  },
  {
   "cell_type": "code",
   "execution_count": 175,
   "metadata": {
    "collapsed": false
   },
   "outputs": [
    {
     "data": {
      "text/plain": [
       "<matplotlib.axes._subplots.AxesSubplot at 0x12b9ca550>"
      ]
     },
     "execution_count": 175,
     "metadata": {},
     "output_type": "execute_result"
    },
    {
     "data": {
      "image/png": "[encoded data removed]",
      "text/plain": [
       "<matplotlib.figure.Figure at 0x1418d8cc0>"
      ]
     },
     "metadata": {},
     "output_type": "display_data"
    }
   ],
   "source": [
    "# Now a boxplot on RT--see below. Interesting, shows that RT is faster for correct vs. incorrect CON trials, while\n",
    "# RT is slower for correct vs. incorrect INC trials. Similar pattern in both groups\n",
    "\n",
    "# First, group the RT data\n",
    "flk_rt_grpd = flk_ddm_use_clean.groupby(['group','stimulus','accuracy','ProjectSpecificID'])['rt'].mean()\n",
    "\n",
    "# Set-up containers for summary stats by Group x Stimulus x Accuracy\n",
    "ctrl_con_err = []\n",
    "ctrl_con_corr = []\n",
    "ctrl_inc_err = []\n",
    "ctrl_inc_corr = []\n",
    "\n",
    "mdd_con_err = []\n",
    "mdd_con_corr = []\n",
    "mdd_inc_err = []\n",
    "mdd_inc_corr = []\n",
    "\n",
    "# Fill the containers\n",
    "for key in flk_rt_grpd.keys():\n",
    "    \n",
    "    # Gather the controls' data\n",
    "    if key[0] == 'CTL' and key[1] == 'CON' and key[2] == 0.0:\n",
    "        ctrl_con_err.append(flk_rt_grpd[key])\n",
    "    elif key[0] == 'CTL' and key[1] == 'CON' and key[2] == 1.0:\n",
    "        ctrl_con_corr.append(flk_rt_grpd[key])\n",
    "    elif key[0] == 'CTL' and key[1] == 'INC' and key[2] == 0.0:\n",
    "        ctrl_inc_err.append(flk_rt_grpd[key])\n",
    "    elif key[0] == 'CTL' and key[1] == 'INC' and key[2] == 1.0:\n",
    "        ctrl_inc_corr.append(flk_rt_grpd[key])\n",
    "        \n",
    "    # Now the MDD data\n",
    "    if key[0] == 'MDD' and key[1] == 'CON' and key[2] == 0.0:\n",
    "        mdd_con_err.append(flk_rt_grpd[key])\n",
    "    elif key[0] == 'MDD' and key[1] == 'CON' and key[2] == 1.0:\n",
    "        mdd_con_corr.append(flk_rt_grpd[key])\n",
    "    elif key[0] == 'MDD' and key[1] == 'INC' and key[2] == 0.0:\n",
    "        mdd_inc_err.append(flk_rt_grpd[key])\n",
    "    elif key[0] == 'MDD' and key[1] == 'INC' and key[2] == 1.0:\n",
    "        mdd_inc_corr.append(flk_rt_grpd[key])\n",
    "\n",
    "flk_rt_4plot = [ctrl_con_err, ctrl_con_corr, ctrl_inc_err, ctrl_inc_corr, \n",
    "                mdd_con_err, mdd_con_corr, mdd_inc_err, mdd_inc_corr]\n",
    "\n",
    "sns.boxplot(data = flk_rt_4plot,names=['C_con_0','C_con_1','C_inc_0','C_inc_1', \n",
    "                'D_con_0','D_con_1','D_inc_0','D_inc_1'])"
   ]
  },
  {
   "cell_type": "code",
   "execution_count": 177,
   "metadata": {
    "collapsed": false
   },
   "outputs": [
    {
     "data": {
      "text/plain": [
       "Linear mixed model fit by REML t-tests use Satterthwaite approximations to\n",
       "  degrees of freedom [lmerMod]\n",
       "Formula: rt ~ site + group * stimulus * accuracy + (1 | ProjectSpecificID)\n",
       "   Data: flk_ddm_use_clean\n",
       "\n",
       "REML criterion at convergence: 1160931\n",
       "\n",
       "Scaled residuals: \n",
       "    Min      1Q  Median      3Q     Max \n",
       "-5.5096 -0.5855 -0.1275  0.4258 11.9223 \n",
       "\n",
       "Random effects:\n",
       " Groups            Name        Variance Std.Dev.\n",
       " ProjectSpecificID (Intercept) 2600     50.99   \n",
       " Residual                      4152     64.43   \n",
       "Number of obs: 103801, groups:  ProjectSpecificID, 301\n",
       "\n",
       "Fixed effects:\n",
       "                                Estimate Std. Error         df t value Pr(>|t|)\n",
       "(Intercept)                    3.925e+02  1.196e+01  6.020e+02  32.806  < 2e-16\n",
       "siteMG                         7.267e-01  8.845e+00  2.960e+02   0.082  0.93457\n",
       "siteTX                         8.496e+00  7.502e+00  2.960e+02   1.133  0.25834\n",
       "siteUM                        -1.967e+01  8.523e+00  2.960e+02  -2.308  0.02168\n",
       "groupMDD                      -5.953e+00  1.154e+01  7.140e+02  -0.516  0.60604\n",
       "stimulusINC                   -6.755e+01  6.895e+00  1.035e+05  -9.797  < 2e-16\n",
       "accuracy                      -2.901e+01  6.609e+00  1.035e+05  -4.390 1.14e-05\n",
       "groupMDD:stimulusINC           1.521e+01  7.268e+00  1.035e+05   2.092  0.03644\n",
       "groupMDD:accuracy              2.084e+01  6.959e+00  1.035e+05   2.994  0.00275\n",
       "stimulusINC:accuracy           1.541e+02  7.029e+00  1.035e+05  21.925  < 2e-16\n",
       "groupMDD:stimulusINC:accuracy -9.494e+00  7.412e+00  1.035e+05  -1.281  0.20024\n",
       "                                 \n",
       "(Intercept)                   ***\n",
       "siteMG                           \n",
       "siteTX                           \n",
       "siteUM                        *  \n",
       "groupMDD                         \n",
       "stimulusINC                   ***\n",
       "accuracy                      ***\n",
       "groupMDD:stimulusINC          *  \n",
       "groupMDD:accuracy             ** \n",
       "stimulusINC:accuracy          ***\n",
       "groupMDD:stimulusINC:accuracy    \n",
       "---\n",
       "Signif. codes:  0 ‘***’ 0.001 ‘**’ 0.01 ‘*’ 0.05 ‘.’ 0.1 ‘ ’ 1\n",
       "\n",
       "Correlation of Fixed Effects:\n",
       "            (Intr) siteMG siteTX siteUM grpMDD stmINC accrcy grMDD:INC grMDD:\n",
       "siteMG      -0.334                                                           \n",
       "siteTX      -0.320  0.442                                                    \n",
       "siteUM      -0.344  0.396  0.458                                             \n",
       "groupMDD    -0.875  0.064 -0.007  0.065                                      \n",
       "stimulusINC -0.522  0.000  0.000  0.000  0.542                               \n",
       "accuracy    -0.546  0.000  0.000  0.000  0.566  0.946                        \n",
       "grpMDD:sINC  0.495  0.000  0.001  0.000 -0.569 -0.949 -0.897                 \n",
       "grpMDD:ccrc  0.518  0.000  0.000  0.000 -0.596 -0.898 -0.950  0.944          \n",
       "stmlsINC:cc  0.512  0.000  0.001  0.000 -0.531 -0.981 -0.939  0.931     0.892\n",
       "grpMDD:INC: -0.486  0.000 -0.001  0.000  0.558  0.931  0.890 -0.981    -0.937\n",
       "            stINC:\n",
       "siteMG            \n",
       "siteTX            \n",
       "siteUM            \n",
       "groupMDD          \n",
       "stimulusINC       \n",
       "accuracy          \n",
       "grpMDD:sINC       \n",
       "grpMDD:ccrc       \n",
       "stmlsINC:cc       \n",
       "grpMDD:INC: -0.948\n"
      ]
     },
     "metadata": {},
     "output_type": "display_data"
    }
   ],
   "source": [
    "# Now let's run a linear mixed-model in which we predict RT with Site and Group*Stimulus*Accuracy\n",
    "\n",
    "# Create the model\n",
    "%R flk_ddm_use_clean.rt = lmer(rt ~ site + group*stimulus*accuracy + (1|ProjectSpecificID), data=flk_ddm_use_clean)\n",
    "\n",
    "# Print the results: \n",
    "%R print(summary(flk_ddm_use_clean.rt))\n",
    "# ***Pretty much the same as time 1, except siteUM is significant here***"
   ]
  },
  {
   "cell_type": "code",
   "execution_count": 179,
   "metadata": {
    "collapsed": false
   },
   "outputs": [
    {
     "data": {
      "text/plain": [
       "Linear mixed model fit by REML t-tests use Satterthwaite approximations to\n",
       "  degrees of freedom [lmerMod]\n",
       "Formula: rt ~ site + group * stimulus * accuracy + (1 | ProjectSpecificID)\n",
       "   Data: flk_ddm_use_clean\n",
       "\n",
       "REML criterion at convergence: 1160931\n",
       "\n",
       "Scaled residuals: \n",
       "    Min      1Q  Median      3Q     Max \n",
       "-5.5096 -0.5855 -0.1275  0.4258 11.9223 \n",
       "\n",
       "Random effects:\n",
       " Groups            Name        Variance Std.Dev.\n",
       " ProjectSpecificID (Intercept) 2600     50.99   \n",
       " Residual                      4152     64.43   \n",
       "Number of obs: 103801, groups:  ProjectSpecificID, 301\n",
       "\n",
       "Fixed effects:\n",
       "                                 Estimate Std. Error         df t value\n",
       "(Intercept)                     3.925e+02  1.196e+01  6.020e+02  32.806\n",
       "siteMG                          7.267e-01  8.845e+00  2.960e+02   0.082\n",
       "siteTX                          8.496e+00  7.502e+00  2.960e+02   1.133\n",
       "siteUM                         -1.967e+01  8.523e+00  2.960e+02  -2.308\n",
       "groupMDD                       -5.953e+00  1.154e+01  7.140e+02  -0.516\n",
       "stimulusINC                    -6.755e+01  6.895e+00  1.035e+05  -9.797\n",
       "accuracy1                      -2.901e+01  6.609e+00  1.035e+05  -4.390\n",
       "groupMDD:stimulusINC            1.521e+01  7.268e+00  1.035e+05   2.092\n",
       "groupMDD:accuracy1              2.084e+01  6.959e+00  1.035e+05   2.994\n",
       "stimulusINC:accuracy1           1.541e+02  7.029e+00  1.035e+05  21.925\n",
       "groupMDD:stimulusINC:accuracy1 -9.494e+00  7.412e+00  1.035e+05  -1.281\n",
       "                               Pr(>|t|)    \n",
       "(Intercept)                     < 2e-16 ***\n",
       "siteMG                          0.93457    \n",
       "siteTX                          0.25834    \n",
       "siteUM                          0.02168 *  \n",
       "groupMDD                        0.60604    \n",
       "stimulusINC                     < 2e-16 ***\n",
       "accuracy1                      1.14e-05 ***\n",
       "groupMDD:stimulusINC            0.03644 *  \n",
       "groupMDD:accuracy1              0.00275 ** \n",
       "stimulusINC:accuracy1           < 2e-16 ***\n",
       "groupMDD:stimulusINC:accuracy1  0.20024    \n",
       "---\n",
       "Signif. codes:  0 ‘***’ 0.001 ‘**’ 0.01 ‘*’ 0.05 ‘.’ 0.1 ‘ ’ 1\n",
       "\n",
       "Correlation of Fixed Effects:\n",
       "            (Intr) siteMG siteTX siteUM grpMDD stmINC accrc1 grMDD:INC gMDD:1\n",
       "siteMG      -0.334                                                           \n",
       "siteTX      -0.320  0.442                                                    \n",
       "siteUM      -0.344  0.396  0.458                                             \n",
       "groupMDD    -0.875  0.064 -0.007  0.065                                      \n",
       "stimulusINC -0.522  0.000  0.000  0.000  0.542                               \n",
       "accuracy1   -0.546  0.000  0.000  0.000  0.566  0.946                        \n",
       "grpMDD:sINC  0.495  0.000  0.001  0.000 -0.569 -0.949 -0.897                 \n",
       "grpMDD:ccr1  0.518  0.000  0.000  0.000 -0.596 -0.898 -0.950  0.944          \n",
       "stmlsINC:c1  0.512  0.000  0.001  0.000 -0.531 -0.981 -0.939  0.931     0.892\n",
       "grMDD:INC:1 -0.486  0.000 -0.001  0.000  0.558  0.931  0.890 -0.981    -0.937\n",
       "            sINC:1\n",
       "siteMG            \n",
       "siteTX            \n",
       "siteUM            \n",
       "groupMDD          \n",
       "stimulusINC       \n",
       "accuracy1         \n",
       "grpMDD:sINC       \n",
       "grpMDD:ccr1       \n",
       "stmlsINC:c1       \n",
       "grMDD:INC:1 -0.948\n"
      ]
     },
     "metadata": {},
     "output_type": "display_data"
    }
   ],
   "source": [
    "# Does having accuracy as a factor affect the results at all? Let's find out. Nope, doesn't change \n",
    "# the results (would have been strange if it had).\n",
    "\n",
    "%R flk_ddm_use_clean$accuracy <- as.factor(flk_ddm_use_clean$accuracy)\n",
    "\n",
    "# Create the model\n",
    "%R flk_ddm_use_clean.rt2 = lmer(rt ~ site + group*stimulus*accuracy + (1|ProjectSpecificID), data=flk_ddm_use_clean)\n",
    "\n",
    "# Print the results: \n",
    "%R print(summary(flk_ddm_use_clean.rt2))"
   ]
  },
  {
   "cell_type": "code",
   "execution_count": 180,
   "metadata": {
    "collapsed": false
   },
   "outputs": [
    {
     "data": {
      "text/plain": [
       "  group stimulus adjusted mean SE of link\n",
       "1   CTL      CON      375.3587   9.235127\n",
       "2   MDD      CON      379.8245   3.421905\n",
       "3   CTL      INC      384.8699   8.706536\n",
       "4   MDD      INC      399.7945   3.275408\n"
      ]
     },
     "metadata": {},
     "output_type": "display_data"
    }
   ],
   "source": [
    "# Let's look at the means defined by the Group x Stimulus interaction\n",
    "# Again, these are adjusted for the other terms in the model and are not equal to the raw means.\n",
    "%R print(interactionMeans(flk_ddm_use_clean.rt2, factors=c('group','stimulus')))"
   ]
  },
  {
   "cell_type": "code",
   "execution_count": 181,
   "metadata": {
    "collapsed": false
   },
   "outputs": [
    {
     "data": {
      "text/plain": [
       "Chisq Test: \n",
       "P-value adjustment method: holm\n",
       "       Value Df    Chisq Pr(>Chisq)    \n",
       "CTL  -9.5112  1   7.3354   0.006761 ** \n",
       "MDD -19.9700  1 288.7626  < 2.2e-16 ***\n",
       "---\n",
       "Signif. codes:  0 ‘***’ 0.001 ‘**’ 0.01 ‘*’ 0.05 ‘.’ 0.1 ‘ ’ 1\n"
      ]
     },
     "metadata": {},
     "output_type": "display_data"
    }
   ],
   "source": [
    "# First, test the INC vs. CON difference in each group. Should be strong for both. Yup\n",
    "%R print(testInteractions(flk_ddm_use_clean.rt2,fixed='group',across='stimulus'))"
   ]
  },
  {
   "cell_type": "code",
   "execution_count": 182,
   "metadata": {
    "collapsed": false
   },
   "outputs": [
    {
     "data": {
      "text/plain": [
       "Chisq Test: \n",
       "P-value adjustment method: holm\n",
       "       Value Df  Chisq Pr(>Chisq)\n",
       "CON  -4.4658  1 0.2047     0.6509\n",
       "INC -14.9246  1 2.5621     0.2189\n"
      ]
     },
     "metadata": {},
     "output_type": "display_data"
    }
   ],
   "source": [
    "# Now test group differences for INC and CON. Maybe a stronger difference in INC?\n",
    "# *** Went from a trend (p = .07) at the first time of analysis to nothing here***\n",
    "%R print(testInteractions(flk_ddm_use_clean.rt2,fixed='stimulus',across='group'))"
   ]
  },
  {
   "cell_type": "code",
   "execution_count": 183,
   "metadata": {
    "collapsed": false
   },
   "outputs": [
    {
     "data": {
      "text/plain": [
       "  group accuracy adjusted mean SE of link\n",
       "1   CTL        0      356.0916   9.289984\n",
       "2   MDD        0      357.7416   3.443906\n",
       "3   CTL        1      404.1369   8.650409\n",
       "4   MDD        1      421.8774   3.253623\n"
      ]
     },
     "metadata": {},
     "output_type": "display_data"
    }
   ],
   "source": [
    "# Let's look at the means defined by the Group x Accuracy interaction\n",
    "%R print(interactionMeans(flk_ddm_use_clean.rt2, factors=c('group','accuracy')))"
   ]
  },
  {
   "cell_type": "code",
   "execution_count": 184,
   "metadata": {
    "collapsed": false
   },
   "outputs": [
    {
     "data": {
      "text/plain": [
       "Chisq Test: \n",
       "P-value adjustment method: holm\n",
       "      Value Df   Chisq Pr(>Chisq)    \n",
       "CTL -48.045  1  185.91  < 2.2e-16 ***\n",
       "MDD -64.136  1 2940.86  < 2.2e-16 ***\n",
       "---\n",
       "Signif. codes:  0 ‘***’ 0.001 ‘**’ 0.01 ‘*’ 0.05 ‘.’ 0.1 ‘ ’ 1\n"
      ]
     },
     "metadata": {},
     "output_type": "display_data"
    }
   ],
   "source": [
    "# Now test the correct vs. error difference in each group. Should be strong for both. Yup.\n",
    "%R print(testInteractions(flk_ddm_use_clean.rt2,fixed='group',across='accuracy'))"
   ]
  },
  {
   "cell_type": "code",
   "execution_count": 185,
   "metadata": {
    "collapsed": false
   },
   "outputs": [
    {
     "data": {
      "text/plain": [
       "Chisq Test: \n",
       "P-value adjustment method: holm\n",
       "   Value Df  Chisq Pr(>Chisq)\n",
       "0  -1.65  1 0.0276      0.868\n",
       "1 -17.74  1 3.6671      0.111\n"
      ]
     },
     "metadata": {},
     "output_type": "display_data"
    }
   ],
   "source": [
    "# Finally, run b/w group tests for correct vs. error trials. Potential for a difference on correct trials. \n",
    "# *** Was significant (p = .02) at the first time of analysis, now is not***\n",
    "%R print(testInteractions(flk_ddm_use_clean.rt2,fixed='accuracy',across='group'))"
   ]
  },
  {
   "cell_type": "code",
   "execution_count": 187,
   "metadata": {
    "collapsed": false
   },
   "outputs": [
    {
     "data": {
      "text/plain": [
       "Anova Table (Type 3 tests)\n",
       "\n",
       "Response: rt\n",
       "                         Effect     df      MSE          F p.value\n",
       "1                          site 3, 207 11542.30       1.32     .27\n",
       "2                         group 1, 207 11542.30       1.94     .17\n",
       "3                    site:group 3, 207 11542.30       0.96     .41\n",
       "4                      stimulus 1, 207  1428.51     5.49 *     .02\n",
       "5                 site:stimulus 3, 207  1428.51       0.75     .52\n",
       "6                group:stimulus 1, 207  1428.51       0.59     .44\n",
       "7           site:group:stimulus 3, 207  1428.51       0.20     .89\n",
       "8                      accuracy 1, 207  1515.63 147.17 ***  <.0001\n",
       "9                 site:accuracy 3, 207  1515.63       0.42     .74\n",
       "10               group:accuracy 1, 207  1515.63       1.87     .17\n",
       "11          site:group:accuracy 3, 207  1515.63       0.20     .90\n",
       "12            stimulus:accuracy 1, 207  1521.79 334.07 ***  <.0001\n",
       "13       site:stimulus:accuracy 3, 207  1521.79       0.26     .86\n",
       "14      group:stimulus:accuracy 1, 207  1521.79       0.08     .78\n",
       "15 site:group:stimulus:accuracy 3, 207  1521.79       0.12     .95\n"
      ]
     },
     "metadata": {},
     "output_type": "display_data"
    }
   ],
   "source": [
    "# Now let's run the more traditional Site x Group x Stim x Accuracy ANOVA on RT\n",
    "\n",
    "%R flk_ddm_use_clean$accuracy <- as.factor(flk_ddm_use_clean$accuracy)\n",
    "%R flk_ddm_aov.rt <- aov_ez(\"ProjectSpecificID\", dv = \"rt\", data = flk_ddm_use_clean, between = c(\"site\",\"group\"),within=c(\"stimulus\",\"accuracy\"),anova_table=list(correction=\"none\", es = \"none\"))\n",
    "%R print(flk_ddm_aov.rt)"
   ]
  },
  {
   "cell_type": "code",
   "execution_count": 189,
   "metadata": {
    "collapsed": false,
    "scrolled": true
   },
   "outputs": [
    {
     "name": "stdout",
     "output_type": "stream",
     "text": [
      "Subject CU0009 has at least 1 empty cell.\n",
      "Subject CU0019 has at least 1 empty cell.\n",
      "Subject CU0021 has at least 1 empty cell.\n",
      "Subject CU0029 has at least 1 empty cell.\n",
      "Subject CU0030 has at least 1 empty cell.\n",
      "Subject CU0036 has at least 1 empty cell.\n",
      "Subject CU0041 has at least 1 empty cell.\n",
      "Subject CU0069 has at least 1 empty cell.\n",
      "Subject CU0073 has at least 1 empty cell.\n",
      "Subject CU0074 has at least 1 empty cell.\n",
      "Subject CU0077 has at least 1 empty cell.\n",
      "Subject CU0087 has at least 1 empty cell.\n",
      "Subject CU0100 has at least 1 empty cell.\n",
      "Subject CU0102 has at least 1 empty cell.\n",
      "Subject CU0108 has at least 1 empty cell.\n",
      "Subject CU0115 has at least 1 empty cell.\n",
      "Subject CU0121 has at least 1 empty cell.\n",
      "Subject CU0125 has at least 1 empty cell.\n",
      "Subject CU0127 has at least 1 empty cell.\n",
      "Subject CU0130 has at least 1 empty cell.\n",
      "Subject CU0131 has at least 1 empty cell.\n",
      "Subject MG0006 has at least 1 empty cell.\n",
      "Subject MG0021 has at least 1 empty cell.\n",
      "Subject MG0026 has at least 1 empty cell.\n",
      "Subject MG0030 has at least 1 empty cell.\n",
      "Subject MG0064 has at least 1 empty cell.\n",
      "Subject MG0074 has at least 1 empty cell.\n",
      "Subject MG0086 has at least 1 empty cell.\n",
      "Subject MG0106 has at least 1 empty cell.\n",
      "Subject MG0152 has at least 1 empty cell.\n",
      "Subject MG0168 has at least 1 empty cell.\n",
      "Subject MG0187 has at least 1 empty cell.\n",
      "Subject MG0239 has at least 1 empty cell.\n",
      "Subject MG0243 has at least 1 empty cell.\n",
      "Subject MG0253 has at least 1 empty cell.\n",
      "Subject MG0259 has at least 1 empty cell.\n",
      "Subject MG0270 has at least 1 empty cell.\n",
      "Subject TX0011 has at least 1 empty cell.\n",
      "Subject TX0012 has at least 1 empty cell.\n",
      "Subject TX0019 has at least 1 empty cell.\n",
      "Subject TX0029 has at least 1 empty cell.\n",
      "Subject TX0031 has at least 1 empty cell.\n",
      "Subject TX0040 has at least 1 empty cell.\n",
      "Subject TX0041 has at least 1 empty cell.\n",
      "Subject TX0043 has at least 1 empty cell.\n",
      "Subject TX0055 has at least 1 empty cell.\n",
      "Subject TX0063 has at least 1 empty cell.\n",
      "Subject TX0065 has at least 1 empty cell.\n",
      "Subject TX0066 has at least 1 empty cell.\n",
      "Subject TX0067 has at least 1 empty cell.\n",
      "Subject TX0074 has at least 1 empty cell.\n",
      "Subject TX0084 has at least 1 empty cell.\n",
      "Subject TX0097 has at least 1 empty cell.\n",
      "Subject TX0106 has at least 1 empty cell.\n",
      "Subject TX0107 has at least 1 empty cell.\n",
      "Subject TX0108 has at least 1 empty cell.\n",
      "Subject TX0122 has at least 1 empty cell.\n",
      "Subject TX0126 has at least 1 empty cell.\n",
      "Subject TX0127 has at least 1 empty cell.\n",
      "Subject TX0130 has at least 1 empty cell.\n",
      "Subject TX0132 has at least 1 empty cell.\n",
      "Subject TX0133 has at least 1 empty cell.\n",
      "Subject TX0151 has at least 1 empty cell.\n",
      "Subject TX0177 has at least 1 empty cell.\n",
      "Subject TX0182 has at least 1 empty cell.\n",
      "Subject TX0204 has at least 1 empty cell.\n",
      "Subject UM0015 has at least 1 empty cell.\n",
      "Subject UM0021 has at least 1 empty cell.\n",
      "Subject UM0023 has at least 1 empty cell.\n",
      "Subject UM0025 has at least 1 empty cell.\n",
      "Subject UM0042 has at least 1 empty cell.\n",
      "Subject UM0046 has at least 1 empty cell.\n",
      "Subject UM0052 has at least 1 empty cell.\n",
      "Subject UM0060 has at least 1 empty cell.\n",
      "Subject UM0074 has at least 1 empty cell.\n",
      "Subject UM0079 has at least 1 empty cell.\n",
      "Subject UM0092 has at least 1 empty cell.\n",
      "Subject UM0097 has at least 1 empty cell.\n",
      "Subject UM0101 has at least 1 empty cell.\n",
      "Subject UM0110 has at least 1 empty cell.\n",
      "Subject UM0111 has at least 1 empty cell.\n",
      "Subject UM0113 has at least 1 empty cell.\n",
      "Subject UM0115 has at least 1 empty cell.\n",
      "Subject UM0119 has at least 1 empty cell.\n",
      "Subject UM0120 has at least 1 empty cell.\n",
      "Subject UM0121 has at least 1 empty cell.\n"
     ]
    }
   ],
   "source": [
    "# Find out which subjects have empty cells\n",
    "flk_diagnost = flk_ddm_use_clean.groupby(['ProjectSpecificID','stimulus','accuracy'])\n",
    "\n",
    "subs = flk_ddm_use_clean.ProjectSpecificID.unique()\n",
    "bad_subs = []\n",
    "\n",
    "for sub in subs:\n",
    "    \n",
    "    df = flk_ddm_use_clean[(flk_ddm_use_clean.ProjectSpecificID == sub)]\n",
    "    con0_rt = df[(df.stimulus == 'CON') & (df.accuracy == 0.0)]['rt'].mean()\n",
    "    con1_rt = df[(df.stimulus == 'CON') & (df.accuracy == 1.0)]['rt'].mean()\n",
    "    inc0_rt = df[(df.stimulus == 'INC') & (df.accuracy == 0.0)]['rt'].mean()\n",
    "    inc1_rt = df[(df.stimulus == 'INC') & (df.accuracy == 1.0)]['rt'].mean()\n",
    "\n",
    "    if pd.isnull(con0_rt) or pd.isnull(con1_rt) or pd.isnull(inc0_rt) or pd.isnull(inc1_rt):\n",
    "        bad_subs.append(sub)\n",
    "\n",
    "for bsub in bad_subs:\n",
    "    print ('Subject ' + str(bsub) + ' has at least 1 empty cell.')"
   ]
  },
  {
   "cell_type": "code",
   "execution_count": 191,
   "metadata": {
    "collapsed": false
   },
   "outputs": [
    {
     "data": {
      "text/plain": [
       "Anova Table (Type 3 tests)\n",
       "\n",
       "Response: accuracy\n",
       "         Effect     df  MSE         F p.value\n",
       "1         group 1, 299 0.03      0.94     .33\n",
       "2       gratton 1, 299 0.01 47.19 ***  <.0001\n",
       "3 group:gratton 1, 299 0.01      0.00     .98\n"
      ]
     },
     "metadata": {},
     "output_type": "display_data"
    }
   ],
   "source": [
    "# There is a Gratton effect, but it does not interact with Group.\n",
    "\n",
    "%R grt_use = subset(flk_ddm_use_clean, gratton > 0)\n",
    "%R grt_use$gratton <- as.factor(grt_use$gratton)\n",
    "%R grt_use$accuracy <- as.numeric(grt_use$accuracy)\n",
    "\n",
    "%R grt_mod.acc1 <-  aov_ez(\"ProjectSpecificID\", dv = \"accuracy\", data = grt_use, between = c(\"group\"),within=c(\"gratton\"),anova_table=list(correction=\"none\", es = \"none\"))\n",
    "%R print(grt_mod.acc1)\n"
   ]
  },
  {
   "cell_type": "code",
   "execution_count": 192,
   "metadata": {
    "collapsed": false
   },
   "outputs": [
    {
     "data": {
      "text/plain": [
       "group  gratton\n",
       "CTL    1          0.758782\n",
       "       2          0.843177\n",
       "MDD    1          0.779824\n",
       "       2          0.863073\n",
       "Name: accuracy, dtype: float64"
      ]
     },
     "execution_count": 192,
     "metadata": {},
     "output_type": "execute_result"
    }
   ],
   "source": [
    "# Let's get descriptives on the Gratton accuracy effect.\n",
    "# Gratton '1' = con_inc\n",
    "# Gratton '2' = inc_inc\n",
    "\n",
    "grt_use = flk_ddm_use_clean[flk_ddm_use_clean.gratton > 0]\n",
    "grt_grouped = grt_use.groupby(['group','gratton'])\n",
    "grt_grouped['accuracy'].mean() # Confirms the expected effect in both groups. Slightly bigger in controls"
   ]
  },
  {
   "cell_type": "code",
   "execution_count": 194,
   "metadata": {
    "collapsed": false
   },
   "outputs": [
    {
     "data": {
      "text/plain": [
       "<matplotlib.legend.Legend at 0x11a138198>"
      ]
     },
     "execution_count": 194,
     "metadata": {},
     "output_type": "execute_result"
    },
    {
     "data": {
      "image/png": "[encoded data removed]",
      "text/plain": [
       "<matplotlib.figure.Figure at 0x13875e240>"
      ]
     },
     "metadata": {},
     "output_type": "display_data"
    }
   ],
   "source": [
    "# Now a Gratton accuracy barplot; looks similar to the time one analysis\n",
    "grt_grp_acc = grt_use.groupby(['group','gratton','ProjectSpecificID'])['accuracy'].mean()\n",
    "\n",
    "ctrl_grt1_acc = []\n",
    "ctrl_grt2_acc = []\n",
    "mdd_grt1_acc = []\n",
    "mdd_grt2_acc = []\n",
    "\n",
    "for key in grt_grp_acc.keys():\n",
    "    if key[0] == 'CTL' and key[1] == 1:\n",
    "        ctrl_grt1_acc.append(grt_grp_acc[key])\n",
    "    elif key[0] == 'CTL' and key[1] == 2:\n",
    "        ctrl_grt2_acc.append(grt_grp_acc[key])\n",
    "    elif key[0] == 'MDD' and key[1] == 1:\n",
    "        mdd_grt1_acc.append(grt_grp_acc[key])\n",
    "    elif key[0] == 'MDD' and key[1] == 2:\n",
    "        mdd_grt2_acc.append(grt_grp_acc[key])\n",
    "\n",
    "ctrl_grt1_acc_se = sp.stats.sem(ctrl_grt1_acc)\n",
    "ctrl_grt2_acc_se = sp.stats.sem(ctrl_grt2_acc)\n",
    "mdd_grt1_acc_se = sp.stats.sem(mdd_grt1_acc)\n",
    "mdd_grt2_acc_se = sp.stats.sem(mdd_grt2_acc)\n",
    "\n",
    "ctrl_grt_acc_means = [np.mean(ctrl_grt1_acc),np.mean(ctrl_grt2_acc)]\n",
    "ctrl_grt_acc_se = [np.mean(ctrl_grt1_acc_se),np.mean(ctrl_grt2_acc_se)]\n",
    "\n",
    "mdd_grt_acc_means = [np.mean(mdd_grt1_acc),np.mean(mdd_grt2_acc)]\n",
    "mdd_grt_acc_se = [np.mean(mdd_grt1_acc_se),np.mean(mdd_grt2_acc_se)]\n",
    "\n",
    "# Make the figure\n",
    "index = [0.05,0.55]\n",
    "index = np.asarray(index)\n",
    "width = 0.2\n",
    "\n",
    "fig = plt.figure()\n",
    "ax1 = fig.add_subplot(111)\n",
    "ax1.set_ylim([0.7,0.9])\n",
    "ax1.bar(index,ctrl_grt_acc_means,width,color=['#C3C3C3','#B0B0B0'],yerr=ctrl_grt_acc_se,ecolor='black',label='Control')\n",
    "ax1.bar(index+width,mdd_grt_acc_means,width,color=['#767676','#6A6A6A'],yerr=mdd_grt_acc_se,ecolor='black',label='MDD')\n",
    "ax1.set_xticks([0.25,0.75])\n",
    "ax1.set_xticklabels(['Con/Inc','Inc/Inc'],fontsize=14)\n",
    "ax1.legend(loc='upper left') "
   ]
  },
  {
   "cell_type": "code",
   "execution_count": 195,
   "metadata": {
    "collapsed": false
   },
   "outputs": [
    {
     "data": {
      "text/plain": [
       "group  gratton\n",
       "CTL    1          414.955211\n",
       "       2          428.727088\n",
       "MDD    1          438.418450\n",
       "       2          445.938005\n",
       "Name: rt, dtype: float64"
      ]
     },
     "execution_count": 195,
     "metadata": {},
     "output_type": "execute_result"
    }
   ],
   "source": [
    "# Now Gratton RT\n",
    "\n",
    "# Descriptives. Gratton '1' = con/inc and Gratton '2' = inc/inc, so we'd expected to see faster RT on Gratton 2 \n",
    "# which we do not. But this may not actually be that tough to explain . . . look at the plot from the G x S x A\n",
    "# ANOVA: on INC trials, errors are much faster than correct responses. The error rate is significantly higher on\n",
    "# Con/Inc (gratton 1) trials than on Inc/Inc (gratton 2) trials--see the plot above. Since errors are associated\n",
    "# with faster RT than correct responses on INC trials, it is not surprising that the condition with a higher error\n",
    "# rate also has a shorter mean RT. \n",
    "\n",
    "grt_grouped['rt'].mean()"
   ]
  },
  {
   "cell_type": "code",
   "execution_count": 196,
   "metadata": {
    "collapsed": false
   },
   "outputs": [
    {
     "data": {
      "text/plain": [
       "group  gratton\n",
       "CTL    1           35\n",
       "       2           35\n",
       "MDD    1          266\n",
       "       2          266\n",
       "Name: ProjectSpecificID, dtype: int64"
      ]
     },
     "execution_count": 196,
     "metadata": {},
     "output_type": "execute_result"
    }
   ],
   "source": [
    "grt_grouped['ProjectSpecificID'].nunique()"
   ]
  },
  {
   "cell_type": "code",
   "execution_count": 197,
   "metadata": {
    "collapsed": false
   },
   "outputs": [
    {
     "data": {
      "text/plain": [
       "<matplotlib.legend.Legend at 0x1484f4978>"
      ]
     },
     "execution_count": 197,
     "metadata": {},
     "output_type": "execute_result"
    },
    {
     "data": {
      "image/png": "[encoded data removed]",
      "text/plain": [
       "<matplotlib.figure.Figure at 0x115ff6780>"
      ]
     },
     "metadata": {},
     "output_type": "display_data"
    }
   ],
   "source": [
    "# Now a Gratton RT barplot. Looks the same as time 1\n",
    "\n",
    "grt_grp_rt = grt_use.groupby(['group','gratton','ProjectSpecificID'])['rt'].mean()\n",
    "\n",
    "ctrl_grt1_rt = []\n",
    "ctrl_grt2_rt = []\n",
    "mdd_grt1_rt = []\n",
    "mdd_grt2_rt = []\n",
    "\n",
    "for key in grt_grp_rt.keys():\n",
    "    if key[0] == 'CTL' and key[1] == 1:\n",
    "        ctrl_grt1_rt.append(grt_grp_rt[key])\n",
    "    elif key[0] == 'CTL' and key[1] == 2:\n",
    "        ctrl_grt2_rt.append(grt_grp_rt[key])\n",
    "    elif key[0] == 'MDD' and key[1] == 1:\n",
    "        mdd_grt1_rt.append(grt_grp_rt[key])\n",
    "    elif key[0] == 'MDD' and key[1] == 2:\n",
    "        mdd_grt2_rt.append(grt_grp_rt[key])\n",
    "\n",
    "ctrl_grt1_rt_se = sp.stats.sem(ctrl_grt1_rt)\n",
    "ctrl_grt2_rt_se = sp.stats.sem(ctrl_grt2_rt)\n",
    "mdd_grt1_rt_se = sp.stats.sem(mdd_grt1_rt)\n",
    "mdd_grt2_rt_se = sp.stats.sem(mdd_grt2_rt)\n",
    "\n",
    "ctrl_grt_rt_means = [np.mean(ctrl_grt1_rt),np.mean(ctrl_grt2_rt)]\n",
    "mdd_grt_rt_means = [np.mean(mdd_grt1_rt),np.mean(mdd_grt2_rt)]\n",
    "\n",
    "ctrl_grt_rt_se = [ctrl_grt1_rt_se, ctrl_grt2_rt_se]\n",
    "mdd_grt_rt_se = [mdd_grt1_rt_se, mdd_grt2_rt_se]\n",
    "\n",
    "# Plot\n",
    "index = [0.05,0.55]\n",
    "index = np.asarray(index)\n",
    "width = 0.2\n",
    "\n",
    "fig = plt.figure()\n",
    "ax1 = fig.add_subplot(111)\n",
    "ax1.set_ylim([400,500])\n",
    "ax1.bar(index,ctrl_grt_rt_means,width,color=['#C3C3C3','#B0B0B0'],yerr=ctrl_grt_rt_se,ecolor='black',label='Control')\n",
    "ax1.bar(index+width,mdd_grt_rt_means,width,color=['#767676','#6A6A6A'],yerr=mdd_grt_rt_se,ecolor='black',label='MDD')\n",
    "ax1.set_xticks([0.25,0.75])\n",
    "ax1.set_xticklabels(['Con/Inc','Inc/Inc'],fontsize=14)\n",
    "ax1.legend()"
   ]
  },
  {
   "cell_type": "code",
   "execution_count": 198,
   "metadata": {
    "collapsed": false
   },
   "outputs": [
    {
     "data": {
      "text/plain": [
       "<matplotlib.axes._subplots.AxesSubplot at 0x1240532b0>"
      ]
     },
     "execution_count": 198,
     "metadata": {},
     "output_type": "execute_result"
    },
    {
     "data": {
      "image/png": "[encoded data removed]",
      "text/plain": [
       "<matplotlib.figure.Figure at 0x124053be0>"
      ]
     },
     "metadata": {},
     "output_type": "display_data"
    }
   ],
   "source": [
    "# same thing but with seaborn\n",
    "fig = plt.figure()\n",
    "ax1 = fig.add_subplot(111)\n",
    "ax1.set_ylim([400,500])\n",
    "sns.barplot('gratton','rt','group',grt_use)"
   ]
  },
  {
   "cell_type": "code",
   "execution_count": 199,
   "metadata": {
    "collapsed": false
   },
   "outputs": [
    {
     "data": {
      "text/plain": [
       "[415.3887636598426, 423.39207507245322]"
      ]
     },
     "execution_count": 199,
     "metadata": {},
     "output_type": "execute_result"
    }
   ],
   "source": [
    "# Control means when data are averaged by subject first\n",
    "ctrl_grt_rt_means"
   ]
  },
  {
   "cell_type": "code",
   "execution_count": 200,
   "metadata": {
    "collapsed": false
   },
   "outputs": [
    {
     "data": {
      "text/plain": [
       "[438.87270569111428, 441.78314789601274]"
      ]
     },
     "execution_count": 200,
     "metadata": {},
     "output_type": "execute_result"
    }
   ],
   "source": [
    "# MDD means when data are averaged by subject first\n",
    "mdd_grt_rt_means"
   ]
  },
  {
   "cell_type": "code",
   "execution_count": 201,
   "metadata": {
    "collapsed": false
   },
   "outputs": [
    {
     "data": {
      "text/plain": [
       "group  gratton\n",
       "CTL    1          414.955211\n",
       "       2          428.727088\n",
       "MDD    1          438.418450\n",
       "       2          445.938005\n",
       "Name: rt, dtype: float64"
      ]
     },
     "execution_count": 201,
     "metadata": {},
     "output_type": "execute_result"
    }
   ],
   "source": [
    "# Means by Group and Condition, but with no averageing within subjects.\n",
    "grt_grouped['rt'].mean()"
   ]
  },
  {
   "cell_type": "code",
   "execution_count": 202,
   "metadata": {
    "collapsed": false
   },
   "outputs": [
    {
     "data": {
      "text/plain": [
       "Anova Table (Type 3 tests)\n",
       "\n",
       "Response: rt\n",
       "         Effect     df     MSE       F p.value\n",
       "1         group 1, 299 7555.19  3.59 +     .06\n",
       "2       gratton 1, 299  233.49 7.89 **    .005\n",
       "3 group:gratton 1, 299  233.49    1.72     .19\n"
      ]
     },
     "metadata": {},
     "output_type": "display_data"
    }
   ],
   "source": [
    "# Okay, now a Group x TrialType ANOVA on the Gratton RT effect. **This comment doesn't seem to fit the actual ANOVA,right?**\n",
    "# the TrialType effect is a trend at p = .09.\n",
    "# %R grt_use = subset(flk_ddm_use_clean, gratton > 0)\n",
    "# %R grt_use$gratton <- as.factor(grt_use$gratton)\n",
    "# %R grt_use$accuracy <- as.numeric(grt_use$accuracy)\n",
    "\n",
    "%R grt_mod.rt1 <-  aov_ez(\"ProjectSpecificID\", dv = \"rt\", data = grt_use, between = c(\"group\"),within=c(\"gratton\"),anova_table=list(correction=\"none\", es = \"none\"))\n",
    "%R print(grt_mod.rt1)"
   ]
  },
  {
   "cell_type": "code",
   "execution_count": 203,
   "metadata": {
    "collapsed": true
   },
   "outputs": [],
   "source": [
    "# For the Rabbitt/Laming effect, first need to drop subjects who fail the QC check\n",
    "# Identify the subjects who failed the RL QC\n",
    "rl_qc_fail = flk_clin_s1[(flk_clin_s1.rab_lam_qc == 0)]\n",
    "rl_qc_fails = rl_qc_fail.ProjectSpecificID.unique()\n",
    "\n",
    "#Drop them from flk_ddm_use_clean\n",
    "flk_ddm_rl = flk_ddm_use_clean[~(flk_ddm_use_clean.ProjectSpecificID.isin(rl_qc_fails))]"
   ]
  },
  {
   "cell_type": "code",
   "execution_count": 204,
   "metadata": {
    "collapsed": false
   },
   "outputs": [
    {
     "data": {
      "text/plain": [
       "group\n",
       "CTL     34\n",
       "MDD    247\n",
       "Name: ProjectSpecificID, dtype: int64"
      ]
     },
     "execution_count": 204,
     "metadata": {},
     "output_type": "execute_result"
    }
   ],
   "source": [
    "bygroup_rl = flk_ddm_rl.groupby('group')\n",
    "bygroup_rl.ProjectSpecificID.nunique()"
   ]
  },
  {
   "cell_type": "code",
   "execution_count": 206,
   "metadata": {
    "collapsed": false
   },
   "outputs": [
    {
     "data": {
      "text/plain": [
       "Anova Table (Type 3 tests)\n",
       "\n",
       "Response: accuracy\n",
       "         Effect     df  MSE    F p.value\n",
       "1         group 1, 279 0.00 0.69     .41\n",
       "2       rab_lam 1, 279 0.00 0.01     .91\n",
       "3 group:rab_lam 1, 279 0.00 1.54     .21\n"
      ]
     },
     "metadata": {},
     "output_type": "display_data"
    }
   ],
   "source": [
    "# Now run an ANOVA, generate descriptives, and give me a barplot for the Rabbitt/Laming effect on accuracy.\n",
    "# ANOVA returns nothing significant.\n",
    "rl_use = flk_ddm_rl[~(flk_ddm_rl.rab_lam == 0)]\n",
    "%Rpush rl_use\n",
    "%Rpush flk_ddm_rl\n",
    "%R rl_use = subset(flk_ddm_rl, rab_lam > 0)\n",
    "%R rl_use$rab_lam <- as.factor(rl_use$rab_lam)\n",
    "%R rl_use$group <- as.factor(rl_use$group)\n",
    "%R rl_mod.acc1 <- aov_ez(\"ProjectSpecificID\",dv=\"accuracy\", within=c(\"rab_lam\"), between=c(\"group\"), data=rl_use, anova_table=list(correction=\"none\", es = \"none\"))\n",
    "%R print(rl_mod.acc1)"
   ]
  },
  {
   "cell_type": "code",
   "execution_count": 207,
   "metadata": {
    "collapsed": false
   },
   "outputs": [
    {
     "data": {
      "text/plain": [
       "group  rab_lam\n",
       "CTL    1          0.955628\n",
       "       2          0.965957\n",
       "MDD    1          0.948397\n",
       "       2          0.964742\n",
       "Name: accuracy, dtype: float64"
      ]
     },
     "execution_count": 207,
     "metadata": {},
     "output_type": "execute_result"
    }
   ],
   "source": [
    "# Rabbitt/Laming effect on accuracy looks miniscule (not averaged w/in subs)\n",
    "bygroup_rl = rl_use.groupby(['group','rab_lam'])\n",
    "bygroup_rl['accuracy'].mean()"
   ]
  },
  {
   "cell_type": "code",
   "execution_count": 208,
   "metadata": {
    "collapsed": false
   },
   "outputs": [
    {
     "data": {
      "text/plain": [
       "<matplotlib.legend.Legend at 0x1418edda0>"
      ]
     },
     "execution_count": 208,
     "metadata": {},
     "output_type": "execute_result"
    },
    {
     "data": {
      "image/png": "[encoded data removed]",
      "text/plain": [
       "<matplotlib.figure.Figure at 0x14aaffeb8>"
      ]
     },
     "metadata": {},
     "output_type": "display_data"
    }
   ],
   "source": [
    "# Make the 'classic' barplot (averaged w/in subjects); looks the same as at time 1\n",
    "\n",
    "rl_grp_acc = rl_use.groupby(['group','rab_lam','ProjectSpecificID'])['accuracy'].mean()\n",
    "\n",
    "ctrl_rl1_acc = []\n",
    "ctrl_rl2_acc = []\n",
    "mdd_rl1_acc = []\n",
    "mdd_rl2_acc = []\n",
    "\n",
    "for key in rl_grp_acc.keys():\n",
    "    if key[0] == 'CTL' and key[1] == 1:\n",
    "        ctrl_rl1_acc.append(rl_grp_acc[key])\n",
    "    elif key[0] == 'CTL' and key[1] == 2:\n",
    "        ctrl_rl2_acc.append(rl_grp_acc[key])\n",
    "    elif key[0] == 'MDD' and key[1] == 1:\n",
    "        mdd_rl1_acc.append(rl_grp_acc[key])\n",
    "    elif key[0] == 'MDD' and key[1] == 2:\n",
    "        mdd_rl2_acc.append(rl_grp_acc[key])\n",
    "\n",
    "ctrl_rl1_acc_se = sp.stats.sem(ctrl_rl1_acc)\n",
    "ctrl_rl2_acc_se = sp.stats.sem(ctrl_rl2_acc)\n",
    "mdd_rl1_acc_se = sp.stats.sem(mdd_rl1_acc)\n",
    "mdd_rl2_acc_se = sp.stats.sem(mdd_rl2_acc)\n",
    "\n",
    "ctrl_rl_acc_means = [np.mean(ctrl_rl1_acc), np.mean(ctrl_rl2_acc)]\n",
    "ctrl_rl_acc_se = [ctrl_rl1_acc_se,ctrl_rl2_acc_se]\n",
    "\n",
    "mdd_rl_acc_means = [np.mean(mdd_rl1_acc), np.mean(mdd_rl2_acc)]\n",
    "mdd_rl_acc_se = [mdd_rl1_acc_se,mdd_rl2_acc_se]\n",
    "\n",
    "# Plot\n",
    "\n",
    "index = [0.05,0.55]\n",
    "index = np.asarray(index)\n",
    "width = 0.2\n",
    "\n",
    "fig = plt.figure()\n",
    "ax1 = fig.add_subplot(111)\n",
    "ax1.set_ylim([0.9,1.0])\n",
    "ax1.bar(index,ctrl_rl_acc_means,width,color=['#C3C3C3','#B0B0B0'],yerr=ctrl_rl_acc_se,ecolor='black',label='Control')\n",
    "ax1.bar(index+width,mdd_rl_acc_means,width,color=['#767676','#6A6A6A'],yerr=mdd_rl_acc_se,ecolor='black',label='MDD')\n",
    "ax1.set_xticks([0.25,0.75])\n",
    "ax1.set_xticklabels(['post-Error','post-Correct'], fontsize=14)\n",
    "ax1.legend()"
   ]
  },
  {
   "cell_type": "code",
   "execution_count": 211,
   "metadata": {
    "collapsed": false
   },
   "outputs": [
    {
     "name": "stdout",
     "output_type": "stream",
     "text": [
      "Controls, post-error accuracy = 0.97; post-correct accuracy = 0.96\n",
      "MDD, post-error accuracy = 0.96; post-correct accuracy = 0.96\n"
     ]
    }
   ],
   "source": [
    "# Here the means, averaged within subjects; exactly the same as at time 1 \n",
    "print ('Controls, post-error accuracy = ' + '{:.2f}'.format(ctrl_rl_acc_means[0]) + '; post-correct accuracy = ' + '{:.2f}'.format(ctrl_rl_acc_means[1]))\n",
    "print ('MDD, post-error accuracy = ' + '{:.2f}'.format(mdd_rl_acc_means[0]) + '; post-correct accuracy = ' + '{:.2f}'.format(mdd_rl_acc_means[1]))"
   ]
  },
  {
   "cell_type": "code",
   "execution_count": 213,
   "metadata": {
    "collapsed": false
   },
   "outputs": [
    {
     "data": {
      "text/plain": [
       "Anova Table (Type 3 tests)\n",
       "\n",
       "Response: rt\n",
       "         Effect     df     MSE       F p.value\n",
       "1         group 1, 279 5384.66  4.67 *     .03\n",
       "2       rab_lam 1, 279  359.87 9.89 **    .002\n",
       "3 group:rab_lam 1, 279  359.87    0.69     .41\n"
      ]
     },
     "metadata": {},
     "output_type": "display_data"
    }
   ],
   "source": [
    "# Finally, run an ANOVA, generate descriptives, and give me a barplot for the Rabbitt/Laming effect on RT.\n",
    "# ANOVA returns a signficant Rab/Lam effect and a signficant Group effect. ***Same as time 1, rab_lam is more\n",
    "# significant now\n",
    "\n",
    "%R rl_mod.rt1 <- aov_ez(\"ProjectSpecificID\", dv= \"rt\", within=c('rab_lam'), between=c('group'), data=rl_use,anova_table=list(correction=\"none\", es = \"none\"))\n",
    "%R print(rl_mod.rt1)"
   ]
  },
  {
   "cell_type": "code",
   "execution_count": 214,
   "metadata": {
    "collapsed": false
   },
   "outputs": [
    {
     "data": {
      "text/plain": [
       "group  rab_lam\n",
       "CTL    1          357.791126\n",
       "       2          372.491980\n",
       "MDD    1          383.449101\n",
       "       2          390.252432\n",
       "Name: rt, dtype: float64"
      ]
     },
     "execution_count": 214,
     "metadata": {},
     "output_type": "execute_result"
    }
   ],
   "source": [
    "# Descriptives for the RT effect (not averaged within subjects). Looks like there is an effect in both groups\n",
    "# and the depressed folks are slower.\n",
    "bygroup_rl['rt'].mean()"
   ]
  },
  {
   "cell_type": "code",
   "execution_count": 215,
   "metadata": {
    "collapsed": false
   },
   "outputs": [
    {
     "data": {
      "text/plain": [
       "<matplotlib.legend.Legend at 0x117715e80>"
      ]
     },
     "execution_count": 215,
     "metadata": {},
     "output_type": "execute_result"
    },
    {
     "data": {
      "image/png": "[encoded data removed]",
      "text/plain": [
       "<matplotlib.figure.Figure at 0x12404a160>"
      ]
     },
     "metadata": {},
     "output_type": "display_data"
    }
   ],
   "source": [
    "# Generate the 'classic' (averaged within subjects) Rab/Lam RT plot; looks the same as time 1\n",
    "\n",
    "rl_grp_rt = rl_use.groupby(['group','rab_lam','ProjectSpecificID'])['rt'].mean()\n",
    "\n",
    "ctrl_rl1_rt = []\n",
    "ctrl_rl2_rt = []\n",
    "mdd_rl1_rt = []\n",
    "mdd_rl2_rt = []\n",
    "\n",
    "for key in rl_grp_rt.keys():\n",
    "    if key[0] == 'CTL' and key[1] == 1:\n",
    "        ctrl_rl1_rt.append(rl_grp_rt[key])\n",
    "    elif key[0] == 'CTL' and key[1] == 2:\n",
    "        ctrl_rl2_rt.append(rl_grp_rt[key])\n",
    "    elif key[0] == 'MDD' and key[1] == 1:\n",
    "        mdd_rl1_rt.append(rl_grp_rt[key])\n",
    "    elif key[0] == 'MDD' and key[1] == 2:\n",
    "        mdd_rl2_rt.append(rl_grp_rt[key])\n",
    "\n",
    "ctrl_rl1_rt_se = sp.stats.sem(ctrl_rl1_rt)\n",
    "ctrl_rl2_rt_se = sp.stats.sem(ctrl_rl2_rt)\n",
    "mdd_rl1_rt_se = sp.stats.sem(mdd_rl1_rt)\n",
    "mdd_rl2_rt_se = sp.stats.sem(mdd_rl2_rt)\n",
    "\n",
    "ctrl_rl_rt_means = [np.mean(ctrl_rl1_rt), np.mean(ctrl_rl2_rt)]\n",
    "ctrl_rl_rt_se = [ctrl_rl1_rt_se,ctrl_rl2_rt_se]\n",
    "\n",
    "mdd_rl_rt_means = [np.mean(mdd_rl1_rt), np.mean(mdd_rl2_rt)]\n",
    "mdd_rl_rt_se = [mdd_rl1_rt_se,mdd_rl2_rt_se]\n",
    "\n",
    "# Plot\n",
    "\n",
    "index = [0.05,0.55]\n",
    "index = np.asarray(index)\n",
    "width = 0.2\n",
    "\n",
    "fig = plt.figure()\n",
    "ax1 = fig.add_subplot(111)\n",
    "ax1.set_ylim([320,420])\n",
    "ax1.bar(index,ctrl_rl_rt_means,width,color=['#C3C3C3','#B0B0B0'],yerr=ctrl_rl_rt_se,ecolor='black',label='Control')\n",
    "ax1.bar(index+width,mdd_rl_rt_means,width,color=['#767676','#6A6A6A'],yerr=mdd_rl_rt_se,ecolor='black',label='MDD')\n",
    "ax1.set_xticks([0.25,0.75])\n",
    "ax1.set_xticklabels(['post-Error','post-Correct'], fontsize=14)\n",
    "ax1.legend()"
   ]
  },
  {
   "cell_type": "code",
   "execution_count": 219,
   "metadata": {
    "collapsed": false
   },
   "outputs": [
    {
     "name": "stdout",
     "output_type": "stream",
     "text": [
      "Controls: post-error RT = 374.81; post-correct RT = 369.14\n",
      "MDD: post-error RT = 397.36; post-correct RT = 387.60\n"
     ]
    }
   ],
   "source": [
    "# Here are the means averaged within-subjects\n",
    "print ('Controls: post-error RT = ' + '{:.2f}'.format(ctrl_rl_rt_means[0]) + '; post-correct RT = ' + '{:.2f}'.format(ctrl_rl_rt_means[1]))\n",
    "print ('MDD: post-error RT = ' + '{:.2f}'.format(mdd_rl_rt_means[0]) + '; post-correct RT = ' + '{:.2f}'.format(mdd_rl_rt_means[1]))"
   ]
  },
  {
   "cell_type": "code",
   "execution_count": null,
   "metadata": {
    "collapsed": true
   },
   "outputs": [],
   "source": []
  }
 ],
 "metadata": {
  "kernelspec": {
   "display_name": "Python (3.5)",
   "language": "python",
   "name": "myenv"
  },
  "language_info": {
   "codemirror_mode": {
    "name": "ipython",
    "version": 3
   },
   "file_extension": ".py",
   "mimetype": "text/x-python",
   "name": "python",
   "nbconvert_exporter": "python",
   "pygments_lexer": "ipython3",
   "version": "3.5.2"
  }
 },
 "nbformat": 4,
 "nbformat_minor": 2
}
