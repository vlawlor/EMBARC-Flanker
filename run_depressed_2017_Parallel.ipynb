{
 "cells": [
  {
   "cell_type": "markdown",
   "metadata": {},
   "source": [
    "To get the parallel stuff to work, you need to go into the terminal in whichever environment you are in and type 'ipcluster start --n=60' where n is the number of engines. Need to have ipyparallel and ipcluster installed. "
   ]
  },
  {
   "cell_type": "code",
   "execution_count": 1,
   "metadata": {
    "collapsed": false,
    "scrolled": true
   },
   "outputs": [
    {
     "name": "stderr",
     "output_type": "stream",
     "text": [
      "/Users/mlm2/anaconda/envs/pythontwo/lib/python2.7/site-packages/IPython/parallel.py:13: ShimWarning: The `IPython.parallel` package has been deprecated since IPython 4.0. You should import from ipyparallel instead.\n",
      "  \"You should import from ipyparallel instead.\", ShimWarning)\n",
      "/Users/mlm2/anaconda/envs/pythontwo/lib/python2.7/site-packages/IPython/html.py:14: ShimWarning: The `IPython.html` package has been deprecated since IPython 4.0. You should import from `notebook` instead. `IPython.html.widgets` has moved to `ipywidgets`.\n",
      "  \"`IPython.html.widgets` has moved to `ipywidgets`.\", ShimWarning)\n"
     ]
    },
    {
     "data": {
      "text/plain": [
       "array(['ppcor', 'MASS', 'afex', 'reshape2', 'lme4', 'Matrix', 'lsmeans',\n",
       "       'estimability', 'tools', 'stats', 'graphics', 'grDevices', 'utils',\n",
       "       'datasets', 'methods', 'base'], \n",
       "      dtype='|S12')"
      ]
     },
     "execution_count": 1,
     "metadata": {},
     "output_type": "execute_result"
    }
   ],
   "source": [
    "import pandas as pd\n",
    "import hddm\n",
    "import scipy as sp\n",
    "import seaborn as sns\n",
    "import os\n",
    "import warnings \n",
    "warnings.filterwarnings('ignore')# I'm sick of all the red.\n",
    "os.environ['R_HOME'] = '/Users/mlm2/anaconda/envs/pythonthreefive/lib/R' # couldn't find R in this environment for some reason\n",
    "% matplotlib inline \n",
    "% load_ext rpy2.ipython\n",
    "%R library(lsmeans)\n",
    "%R library(afex)\n",
    "%R library(ppcor)"
   ]
  },
  {
   "cell_type": "code",
   "execution_count": 2,
   "metadata": {
    "collapsed": false
   },
   "outputs": [],
   "source": [
    "import ipyparallel as ipp\n",
    "from ipyparallel import Client\n",
    "\n",
    "c = ipp.Client(timeout=100)\n",
    "view = c.load_balanced_view()"
   ]
  },
  {
   "cell_type": "code",
   "execution_count": 5,
   "metadata": {
    "collapsed": false
   },
   "outputs": [],
   "source": [
    "%%px --local\n",
    "# if you don't do this then the 60 nodes can't find accumodel\n",
    "import accumodel\n",
    "#accumodel.set_estimator(accumodel.estimators.OptimizeEstimator(accumodel.models.WaldAntiStopFixedThresh))\n",
    "accumodel.set_estimator(accumodel.estimators.OptimizeEstimator(accumodel.models.WaldAntiStop))"
   ]
  },
  {
   "cell_type": "markdown",
   "metadata": {},
   "source": [
    "# Flanker Depressed"
   ]
  },
  {
   "cell_type": "code",
   "execution_count": 11,
   "metadata": {
    "collapsed": false
   },
   "outputs": [],
   "source": [
    "clin_data = pd.read_csv('/Users/mlm2/Work/Expts/EMBARC/Data/Flanker/Processed/EMBARC_Flk_Clin_s1_Mar-16-1002AM-2017.csv')\n",
    "use = clin_data[clin_data.flanker_qc == 1] # only use these people\n",
    "subs_to_use = use.ProjectSpecificID.unique()"
   ]
  },
  {
   "cell_type": "code",
   "execution_count": 12,
   "metadata": {
    "collapsed": true
   },
   "outputs": [],
   "source": [
    "data = pd.read_csv('/Users/mlm2/Work/Expts/EMBARC/Data/Flanker/Processed/EMBARC_Flk_DDM_Clin_s1_Mar-16-1002AM-2017.csv')"
   ]
  },
  {
   "cell_type": "code",
   "execution_count": 13,
   "metadata": {
    "collapsed": false
   },
   "outputs": [
    {
     "data": {
      "text/plain": [
       "group\n",
       "CTL     40\n",
       "MDD    292\n",
       "Name: ProjectSpecificID, dtype: int64"
      ]
     },
     "execution_count": 13,
     "metadata": {},
     "output_type": "execute_result"
    }
   ],
   "source": [
    "data.groupby('group').ProjectSpecificID.nunique()"
   ]
  },
  {
   "cell_type": "code",
   "execution_count": 14,
   "metadata": {
    "collapsed": true
   },
   "outputs": [],
   "source": [
    "# remove the MDDs included in the 2015 paper\n",
    "\n",
    "dillon_wiecki_sample = pd.read_csv('/Users/mlm2/Work/Expts/EMBARC/depressed_flanker_tw.csv')\n",
    "data_2017 = data.loc[~data.ProjectSpecificID.isin(dillon_wiecki_sample.subj_idx.unique())]\n",
    "data_2017 = data_2017.append(data[data.group == 'CTL'])"
   ]
  },
  {
   "cell_type": "code",
   "execution_count": 15,
   "metadata": {
    "collapsed": false
   },
   "outputs": [
    {
     "data": {
      "text/plain": [
       "group\n",
       "CTL     40\n",
       "MDD    194\n",
       "Name: ProjectSpecificID, dtype: int64"
      ]
     },
     "execution_count": 15,
     "metadata": {},
     "output_type": "execute_result"
    }
   ],
   "source": [
    "# now how many peeps do we have?\n",
    "data_2017.groupby('group').ProjectSpecificID.nunique()"
   ]
  },
  {
   "cell_type": "code",
   "execution_count": 19,
   "metadata": {
    "collapsed": false
   },
   "outputs": [],
   "source": [
    "# put data in the correct format for DDM\n",
    "data_2017['rt'] /= 1000.\n",
    "data_2017['response'] = data_2017.accuracy\n",
    "data_2017['subj_idx'] = data_2017.ProjectSpecificID\n",
    "data_2017['conf'] = False\n",
    "data_2017['cond'] = 'incong'\n",
    "data_2017.loc[data_2017.stimulus == 'CON', 'cond'] = 'cong'\n",
    "data_2017.loc[data_2017.cond == 'incong', 'conf'] = True\n",
    "\n",
    "#data = data[data.outlier == 0] # accumodel has it built in to take out the outliers\n",
    "\n",
    "data_2017 = hddm.utils.flip_errors(data_2017)\n",
    "data_2017.ix[data_2017.conf, 'rt'] *= -1"
   ]
  },
  {
   "cell_type": "code",
   "execution_count": 20,
   "metadata": {
    "collapsed": false
   },
   "outputs": [
    {
     "data": {
      "text/plain": [
       "group\n",
       "CTL     37\n",
       "MDD    174\n",
       "Name: ProjectSpecificID, dtype: int64"
      ]
     },
     "execution_count": 20,
     "metadata": {},
     "output_type": "execute_result"
    }
   ],
   "source": [
    "# remove the people who should be excluded based on qc fails\n",
    "data_2017 = data_2017.loc[data_2017.ProjectSpecificID.isin(subs_to_use)] \n",
    "\n",
    "# now how many are we left with?\n",
    "data_2017.groupby('group').ProjectSpecificID.nunique()"
   ]
  },
  {
   "cell_type": "code",
   "execution_count": 21,
   "metadata": {
    "collapsed": false
   },
   "outputs": [
    {
     "data": {
      "text/html": [
       "<div>\n",
       "<table border=\"1\" class=\"dataframe\">\n",
       "  <thead>\n",
       "    <tr style=\"text-align: right;\">\n",
       "      <th></th>\n",
       "      <th>ProjectSpecificID</th>\n",
       "      <th>site</th>\n",
       "      <th>subject</th>\n",
       "      <th>session</th>\n",
       "      <th>group</th>\n",
       "      <th>block</th>\n",
       "      <th>trial</th>\n",
       "      <th>stimulus</th>\n",
       "      <th>response</th>\n",
       "      <th>accuracy</th>\n",
       "      <th>rt</th>\n",
       "      <th>feedback</th>\n",
       "      <th>ln_rt</th>\n",
       "      <th>outlier</th>\n",
       "      <th>rab_lam</th>\n",
       "      <th>gratton</th>\n",
       "      <th>subj_idx</th>\n",
       "      <th>conf</th>\n",
       "      <th>cond</th>\n",
       "    </tr>\n",
       "  </thead>\n",
       "  <tbody>\n",
       "    <tr>\n",
       "      <th>9800</th>\n",
       "      <td>CU0049</td>\n",
       "      <td>CU</td>\n",
       "      <td>49</td>\n",
       "      <td>1</td>\n",
       "      <td>MDD</td>\n",
       "      <td>1</td>\n",
       "      <td>1</td>\n",
       "      <td>INC</td>\n",
       "      <td>1.0</td>\n",
       "      <td>1.0</td>\n",
       "      <td>-0.483</td>\n",
       "      <td>Blank</td>\n",
       "      <td>6.180017</td>\n",
       "      <td>0</td>\n",
       "      <td>0</td>\n",
       "      <td>0</td>\n",
       "      <td>CU0049</td>\n",
       "      <td>True</td>\n",
       "      <td>incong</td>\n",
       "    </tr>\n",
       "    <tr>\n",
       "      <th>9801</th>\n",
       "      <td>CU0049</td>\n",
       "      <td>CU</td>\n",
       "      <td>49</td>\n",
       "      <td>1</td>\n",
       "      <td>MDD</td>\n",
       "      <td>1</td>\n",
       "      <td>2</td>\n",
       "      <td>CON</td>\n",
       "      <td>1.0</td>\n",
       "      <td>1.0</td>\n",
       "      <td>0.300</td>\n",
       "      <td>Blank</td>\n",
       "      <td>5.703782</td>\n",
       "      <td>0</td>\n",
       "      <td>2</td>\n",
       "      <td>0</td>\n",
       "      <td>CU0049</td>\n",
       "      <td>False</td>\n",
       "      <td>cong</td>\n",
       "    </tr>\n",
       "    <tr>\n",
       "      <th>9802</th>\n",
       "      <td>CU0049</td>\n",
       "      <td>CU</td>\n",
       "      <td>49</td>\n",
       "      <td>1</td>\n",
       "      <td>MDD</td>\n",
       "      <td>1</td>\n",
       "      <td>3</td>\n",
       "      <td>INC</td>\n",
       "      <td>1.0</td>\n",
       "      <td>1.0</td>\n",
       "      <td>-0.495</td>\n",
       "      <td>Blank</td>\n",
       "      <td>6.204558</td>\n",
       "      <td>0</td>\n",
       "      <td>0</td>\n",
       "      <td>1</td>\n",
       "      <td>CU0049</td>\n",
       "      <td>True</td>\n",
       "      <td>incong</td>\n",
       "    </tr>\n",
       "    <tr>\n",
       "      <th>9803</th>\n",
       "      <td>CU0049</td>\n",
       "      <td>CU</td>\n",
       "      <td>49</td>\n",
       "      <td>1</td>\n",
       "      <td>MDD</td>\n",
       "      <td>1</td>\n",
       "      <td>4</td>\n",
       "      <td>CON</td>\n",
       "      <td>1.0</td>\n",
       "      <td>1.0</td>\n",
       "      <td>0.320</td>\n",
       "      <td>Blank</td>\n",
       "      <td>5.768321</td>\n",
       "      <td>0</td>\n",
       "      <td>2</td>\n",
       "      <td>0</td>\n",
       "      <td>CU0049</td>\n",
       "      <td>False</td>\n",
       "      <td>cong</td>\n",
       "    </tr>\n",
       "    <tr>\n",
       "      <th>9804</th>\n",
       "      <td>CU0049</td>\n",
       "      <td>CU</td>\n",
       "      <td>49</td>\n",
       "      <td>1</td>\n",
       "      <td>MDD</td>\n",
       "      <td>1</td>\n",
       "      <td>5</td>\n",
       "      <td>INC</td>\n",
       "      <td>1.0</td>\n",
       "      <td>1.0</td>\n",
       "      <td>-0.449</td>\n",
       "      <td>Blank</td>\n",
       "      <td>6.107023</td>\n",
       "      <td>0</td>\n",
       "      <td>0</td>\n",
       "      <td>1</td>\n",
       "      <td>CU0049</td>\n",
       "      <td>True</td>\n",
       "      <td>incong</td>\n",
       "    </tr>\n",
       "  </tbody>\n",
       "</table>\n",
       "</div>"
      ],
      "text/plain": [
       "     ProjectSpecificID site  subject  session group  block  trial stimulus  \\\n",
       "9800            CU0049   CU       49        1   MDD      1      1      INC   \n",
       "9801            CU0049   CU       49        1   MDD      1      2      CON   \n",
       "9802            CU0049   CU       49        1   MDD      1      3      INC   \n",
       "9803            CU0049   CU       49        1   MDD      1      4      CON   \n",
       "9804            CU0049   CU       49        1   MDD      1      5      INC   \n",
       "\n",
       "      response  accuracy     rt feedback     ln_rt  outlier  rab_lam  gratton  \\\n",
       "9800       1.0       1.0 -0.483    Blank  6.180017        0        0        0   \n",
       "9801       1.0       1.0  0.300    Blank  5.703782        0        2        0   \n",
       "9802       1.0       1.0 -0.495    Blank  6.204558        0        0        1   \n",
       "9803       1.0       1.0  0.320    Blank  5.768321        0        2        0   \n",
       "9804       1.0       1.0 -0.449    Blank  6.107023        0        0        1   \n",
       "\n",
       "     subj_idx   conf    cond  \n",
       "9800   CU0049   True  incong  \n",
       "9801   CU0049  False    cong  \n",
       "9802   CU0049   True  incong  \n",
       "9803   CU0049  False    cong  \n",
       "9804   CU0049   True  incong  "
      ]
     },
     "execution_count": 21,
     "metadata": {},
     "output_type": "execute_result"
    }
   ],
   "source": [
    "data_2017.head()"
   ]
  },
  {
   "cell_type": "code",
   "execution_count": 22,
   "metadata": {
    "collapsed": false
   },
   "outputs": [
    {
     "data": {
      "image/png": "[encoded data removed]",
      "text/plain": [
       "<matplotlib.figure.Figure at 0x116f19690>"
      ]
     },
     "metadata": {},
     "output_type": "display_data"
    }
   ],
   "source": [
    "import seaborn as sns\n",
    "% matplotlib inline \n",
    "ax = sns.plt.subplot(1, 1, 1, xlabel='RT', ylabel='accuracy', title=c)\n",
    "data_2017.ix[data_2017.cond == 'cong', 'rt'].hist(bins=200, histtype='step', range=(-1, 1), normed=True, lw=2, ax=ax);\n",
    "(data_2017.ix[data_2017.cond == 'incong', 'rt']).hist(bins=200, histtype='step', range=(-1, 1), normed=True, lw=2, ax=ax);"
   ]
  },
  {
   "cell_type": "code",
   "execution_count": null,
   "metadata": {
    "collapsed": false
   },
   "outputs": [],
   "source": [
    "# Gets parameters for all subjects and puts in a csv\n",
    "\n",
    "res_dep = view.map_sync(lambda x: accumodel.models.estimate_subj(x), \n",
    "                        data_2017.groupby('subj_idx'))\n",
    "res_dep_df = pd.concat([pd.DataFrame(r).T for r in res_dep])\n",
    "res_dep_df.to_csv('fits_flanker_just_new_2017.csv', index=True)"
   ]
  },
  {
   "cell_type": "code",
   "execution_count": 5,
   "metadata": {
    "collapsed": true
   },
   "outputs": [],
   "source": [
    "def get_param_means(data):\n",
    "    '''Given the parameter csv, returns group means w/ ttests in a more legible format'''\n",
    "    list_of_params = ['t', 'v_pro', 'v_stop', 'v_anti', 't_anti', 'a']\n",
    "    d = {}\n",
    "    for param in list_of_params:\n",
    "        results = sp.stats.ttest_ind(data[(data.feasibility == 'MDD')][param],\n",
    "                data[(data.feasibility == 'CTL')][param])\n",
    "        means = data.groupby('feasibility')[param].mean()\n",
    "        p = {}\n",
    "        p['statistic'] = results[0]\n",
    "        p['pvalue'] = results[1]\n",
    "        p['MDD_mean'] = means[1]\n",
    "        p['CTL_mean'] = means[0]\n",
    "        d[param] = p\n",
    "    df = pd.DataFrame.from_dict(d, orient='index')\n",
    "    return df"
   ]
  },
  {
   "cell_type": "code",
   "execution_count": 7,
   "metadata": {
    "collapsed": false
   },
   "outputs": [
    {
     "data": {
      "text/html": [
       "<div>\n",
       "<table border=\"1\" class=\"dataframe\">\n",
       "  <thead>\n",
       "    <tr style=\"text-align: right;\">\n",
       "      <th></th>\n",
       "      <th>ProjectSpecificID</th>\n",
       "      <th>t</th>\n",
       "      <th>a</th>\n",
       "      <th>v_pro</th>\n",
       "      <th>v_stop</th>\n",
       "      <th>v_anti</th>\n",
       "      <th>t_anti</th>\n",
       "      <th>sample</th>\n",
       "      <th>feasibility</th>\n",
       "      <th>trainingset</th>\n",
       "      <th>...</th>\n",
       "      <th>hamd_28</th>\n",
       "      <th>hamd_29</th>\n",
       "      <th>hamd_30</th>\n",
       "      <th>hamd_31</th>\n",
       "      <th>hamd_32</th>\n",
       "      <th>hamd_33</th>\n",
       "      <th>hamd_34</th>\n",
       "      <th>hamd_35</th>\n",
       "      <th>hamd_36</th>\n",
       "      <th>hamd_score_24</th>\n",
       "    </tr>\n",
       "  </thead>\n",
       "  <tbody>\n",
       "    <tr>\n",
       "      <th>0</th>\n",
       "      <td>CU0009</td>\n",
       "      <td>0.243810</td>\n",
       "      <td>0.830434</td>\n",
       "      <td>5.513486</td>\n",
       "      <td>8.782450</td>\n",
       "      <td>13.633526</td>\n",
       "      <td>0.158691</td>\n",
       "      <td>2.0</td>\n",
       "      <td>CTL</td>\n",
       "      <td>NaN</td>\n",
       "      <td>...</td>\n",
       "      <td>NaN</td>\n",
       "      <td>NaN</td>\n",
       "      <td>NaN</td>\n",
       "      <td>NaN</td>\n",
       "      <td>NaN</td>\n",
       "      <td>NaN</td>\n",
       "      <td>NaN</td>\n",
       "      <td>NaN</td>\n",
       "      <td>NaN</td>\n",
       "      <td>NaN</td>\n",
       "    </tr>\n",
       "    <tr>\n",
       "      <th>1</th>\n",
       "      <td>CU0013</td>\n",
       "      <td>0.202924</td>\n",
       "      <td>1.198627</td>\n",
       "      <td>8.063158</td>\n",
       "      <td>10.480167</td>\n",
       "      <td>9.406476</td>\n",
       "      <td>0.135845</td>\n",
       "      <td>2.0</td>\n",
       "      <td>CTL</td>\n",
       "      <td>NaN</td>\n",
       "      <td>...</td>\n",
       "      <td>0.0</td>\n",
       "      <td>1.0</td>\n",
       "      <td>0.0</td>\n",
       "      <td>0.0</td>\n",
       "      <td>0.0</td>\n",
       "      <td>0.0</td>\n",
       "      <td>0.0</td>\n",
       "      <td>0.0</td>\n",
       "      <td>3.0</td>\n",
       "      <td>3.0</td>\n",
       "    </tr>\n",
       "    <tr>\n",
       "      <th>2</th>\n",
       "      <td>CU0018</td>\n",
       "      <td>0.200259</td>\n",
       "      <td>1.065285</td>\n",
       "      <td>7.587852</td>\n",
       "      <td>11.839664</td>\n",
       "      <td>13.889670</td>\n",
       "      <td>0.165924</td>\n",
       "      <td>2.0</td>\n",
       "      <td>CTL</td>\n",
       "      <td>NaN</td>\n",
       "      <td>...</td>\n",
       "      <td>0.0</td>\n",
       "      <td>0.0</td>\n",
       "      <td>0.0</td>\n",
       "      <td>0.0</td>\n",
       "      <td>0.0</td>\n",
       "      <td>0.0</td>\n",
       "      <td>0.0</td>\n",
       "      <td>0.0</td>\n",
       "      <td>0.0</td>\n",
       "      <td>0.0</td>\n",
       "    </tr>\n",
       "    <tr>\n",
       "      <th>3</th>\n",
       "      <td>CU0019</td>\n",
       "      <td>0.216602</td>\n",
       "      <td>1.159251</td>\n",
       "      <td>8.023814</td>\n",
       "      <td>9.065725</td>\n",
       "      <td>12.875585</td>\n",
       "      <td>0.156281</td>\n",
       "      <td>2.0</td>\n",
       "      <td>CTL</td>\n",
       "      <td>NaN</td>\n",
       "      <td>...</td>\n",
       "      <td>0.0</td>\n",
       "      <td>0.0</td>\n",
       "      <td>0.0</td>\n",
       "      <td>0.0</td>\n",
       "      <td>0.0</td>\n",
       "      <td>0.0</td>\n",
       "      <td>0.0</td>\n",
       "      <td>0.0</td>\n",
       "      <td>0.0</td>\n",
       "      <td>0.0</td>\n",
       "    </tr>\n",
       "    <tr>\n",
       "      <th>4</th>\n",
       "      <td>CU0020</td>\n",
       "      <td>0.248653</td>\n",
       "      <td>1.024131</td>\n",
       "      <td>6.568923</td>\n",
       "      <td>9.108332</td>\n",
       "      <td>8.583525</td>\n",
       "      <td>0.110399</td>\n",
       "      <td>2.0</td>\n",
       "      <td>CTL</td>\n",
       "      <td>NaN</td>\n",
       "      <td>...</td>\n",
       "      <td>0.0</td>\n",
       "      <td>0.0</td>\n",
       "      <td>0.0</td>\n",
       "      <td>0.0</td>\n",
       "      <td>0.0</td>\n",
       "      <td>0.0</td>\n",
       "      <td>0.0</td>\n",
       "      <td>0.0</td>\n",
       "      <td>0.0</td>\n",
       "      <td>0.0</td>\n",
       "    </tr>\n",
       "  </tbody>\n",
       "</table>\n",
       "<p>5 rows × 1023 columns</p>\n",
       "</div>"
      ],
      "text/plain": [
       "  ProjectSpecificID         t         a     v_pro     v_stop     v_anti  \\\n",
       "0            CU0009  0.243810  0.830434  5.513486   8.782450  13.633526   \n",
       "1            CU0013  0.202924  1.198627  8.063158  10.480167   9.406476   \n",
       "2            CU0018  0.200259  1.065285  7.587852  11.839664  13.889670   \n",
       "3            CU0019  0.216602  1.159251  8.023814   9.065725  12.875585   \n",
       "4            CU0020  0.248653  1.024131  6.568923   9.108332   8.583525   \n",
       "\n",
       "     t_anti  sample feasibility  trainingset      ...        hamd_28  hamd_29  \\\n",
       "0  0.158691     2.0         CTL          NaN      ...            NaN      NaN   \n",
       "1  0.135845     2.0         CTL          NaN      ...            0.0      1.0   \n",
       "2  0.165924     2.0         CTL          NaN      ...            0.0      0.0   \n",
       "3  0.156281     2.0         CTL          NaN      ...            0.0      0.0   \n",
       "4  0.110399     2.0         CTL          NaN      ...            0.0      0.0   \n",
       "\n",
       "   hamd_30  hamd_31  hamd_32  hamd_33  hamd_34  hamd_35  hamd_36  \\\n",
       "0      NaN      NaN      NaN      NaN      NaN      NaN      NaN   \n",
       "1      0.0      0.0      0.0      0.0      0.0      0.0      3.0   \n",
       "2      0.0      0.0      0.0      0.0      0.0      0.0      0.0   \n",
       "3      0.0      0.0      0.0      0.0      0.0      0.0      0.0   \n",
       "4      0.0      0.0      0.0      0.0      0.0      0.0      0.0   \n",
       "\n",
       "   hamd_score_24  \n",
       "0            NaN  \n",
       "1            3.0  \n",
       "2            0.0  \n",
       "3            0.0  \n",
       "4            0.0  \n",
       "\n",
       "[5 rows x 1023 columns]"
      ]
     },
     "execution_count": 7,
     "metadata": {},
     "output_type": "execute_result"
    }
   ],
   "source": [
    "# cleaning and merging with groups\n",
    "just_2017 = pd.read_csv('fits_flanker_just_new_2017.csv') # read in the full parameter file\n",
    "\n",
    "just_2017.rename(columns={'Unnamed: 0': 'ProjectSpecificID'}, inplace=True)\n",
    "groups = pd.read_csv('/Users/mlm2/Work/Expts/EMBARC/Data/groups.csv') # merge with the clinical data\n",
    "just_2017 = just_2017.merge(groups, on='ProjectSpecificID')\n",
    "just_2017['feasibility'].replace(to_replace = 1.0,value = 'MDD', inplace = True) \n",
    "just_2017['feasibility'].replace(to_replace = 3.0,value = 'MDD', inplace = True) \n",
    "just_2017['feasibility'].replace(to_replace = 5.0,value = 'MDD', inplace = True) \n",
    "just_2017['feasibility'].replace(to_replace = 4.0,value = 'CTL', inplace = True) \n",
    "just_2017.head() # checking that it looks okay"
   ]
  },
  {
   "cell_type": "code",
   "execution_count": 8,
   "metadata": {
    "collapsed": false
   },
   "outputs": [
    {
     "data": {
      "text/plain": [
       "feasibility\n",
       "CTL     37\n",
       "MDD    174\n",
       "Name: ProjectSpecificID, dtype: int64"
      ]
     },
     "execution_count": 8,
     "metadata": {},
     "output_type": "execute_result"
    }
   ],
   "source": [
    "# double check that it looks okay\n",
    "just_2017.groupby('feasibility').ProjectSpecificID.count()"
   ]
  },
  {
   "cell_type": "code",
   "execution_count": 9,
   "metadata": {
    "collapsed": false
   },
   "outputs": [
    {
     "data": {
      "text/html": [
       "<div>\n",
       "<table border=\"1\" class=\"dataframe\">\n",
       "  <thead>\n",
       "    <tr style=\"text-align: right;\">\n",
       "      <th></th>\n",
       "      <th>CTL_mean</th>\n",
       "      <th>MDD_mean</th>\n",
       "      <th>pvalue</th>\n",
       "      <th>statistic</th>\n",
       "    </tr>\n",
       "  </thead>\n",
       "  <tbody>\n",
       "    <tr>\n",
       "      <th>a</th>\n",
       "      <td>1.060702</td>\n",
       "      <td>1.121040</td>\n",
       "      <td>0.424685</td>\n",
       "      <td>0.799885</td>\n",
       "    </tr>\n",
       "    <tr>\n",
       "      <th>t</th>\n",
       "      <td>0.211846</td>\n",
       "      <td>0.204589</td>\n",
       "      <td>0.398523</td>\n",
       "      <td>-0.845996</td>\n",
       "    </tr>\n",
       "    <tr>\n",
       "      <th>t_anti</th>\n",
       "      <td>0.129620</td>\n",
       "      <td>0.139484</td>\n",
       "      <td>0.070124</td>\n",
       "      <td>1.820426</td>\n",
       "    </tr>\n",
       "    <tr>\n",
       "      <th>v_anti</th>\n",
       "      <td>10.228221</td>\n",
       "      <td>10.019276</td>\n",
       "      <td>0.690170</td>\n",
       "      <td>-0.399177</td>\n",
       "    </tr>\n",
       "    <tr>\n",
       "      <th>v_pro</th>\n",
       "      <td>7.011262</td>\n",
       "      <td>6.651739</td>\n",
       "      <td>0.197713</td>\n",
       "      <td>-1.292206</td>\n",
       "    </tr>\n",
       "    <tr>\n",
       "      <th>v_stop</th>\n",
       "      <td>9.793378</td>\n",
       "      <td>9.756365</td>\n",
       "      <td>0.923516</td>\n",
       "      <td>-0.096121</td>\n",
       "    </tr>\n",
       "  </tbody>\n",
       "</table>\n",
       "</div>"
      ],
      "text/plain": [
       "         CTL_mean   MDD_mean    pvalue  statistic\n",
       "a        1.060702   1.121040  0.424685   0.799885\n",
       "t        0.211846   0.204589  0.398523  -0.845996\n",
       "t_anti   0.129620   0.139484  0.070124   1.820426\n",
       "v_anti  10.228221  10.019276  0.690170  -0.399177\n",
       "v_pro    7.011262   6.651739  0.197713  -1.292206\n",
       "v_stop   9.793378   9.756365  0.923516  -0.096121"
      ]
     },
     "execution_count": 9,
     "metadata": {},
     "output_type": "execute_result"
    }
   ],
   "source": [
    "# Nothing significant. The control means here are very close to the ones in the paper, which is good. \n",
    "get_param_means(just_2017)"
   ]
  },
  {
   "cell_type": "code",
   "execution_count": 10,
   "metadata": {
    "collapsed": false,
    "scrolled": false
   },
   "outputs": [
    {
     "data": {
      "image/png": "[encoded data removed]",
      "text/plain": [
       "<matplotlib.figure.Figure at 0x120098350>"
      ]
     },
     "metadata": {},
     "output_type": "display_data"
    }
   ],
   "source": [
    "# Does the correlation w/ shaps + v_anti found in the first paper look generally the same?\n",
    "# NO, this is the opposite of what we see in the 2015 paper\n",
    "\n",
    "executive_shaps = sns.lmplot(y = 'v_anti', x = 'shaps_total_continuous', data = just_2017[just_2017['feasibility'] == 'MDD'], ci=68)"
   ]
  },
  {
   "cell_type": "code",
   "execution_count": 11,
   "metadata": {
    "collapsed": false
   },
   "outputs": [
    {
     "data": {
      "image/png": "[encoded data removed]",
      "text/plain": [
       "<matplotlib.figure.Figure at 0x120730290>"
      ]
     },
     "metadata": {},
     "output_type": "display_data"
    }
   ],
   "source": [
    "# What about v_pro?\n",
    "# No, again it's kind of the opposite\n",
    "\n",
    "prepotent_shaps = sns.lmplot(y = 'v_pro', x = 'shaps_total_continuous', data = just_2017[just_2017['feasibility'] == 'MDD'], ci=68)"
   ]
  },
  {
   "cell_type": "markdown",
   "metadata": {},
   "source": [
    "## Below doesn't matter, keep for reference"
   ]
  },
  {
   "cell_type": "code",
   "execution_count": 8,
   "metadata": {
    "collapsed": true
   },
   "outputs": [],
   "source": [
    "res_dep = view.map_sync(lambda x: accumodel.models.estimate_subj(x, depends_on={'a': 'conf'}), \n",
    "                         data.groupby('ProjectSpecificID'))\n",
    "#res_dep = view.map_sync(lambda x: accumodel.models.estimate_subj(x), \n",
    "#                        data.groupby('subj_idx'))\n",
    "res_dep_df = pd.concat([pd.DataFrame(r).T for r in res_dep])\n",
    "#res_dep_df = res_dep_df.join(data_dep[['subj_idx', 'session']].groupby(['subj_idx', 'session']).first())\n",
    "res_dep_df.to_csv('fits_flanker_attempt2.csv', index=True)"
   ]
  },
  {
   "cell_type": "markdown",
   "metadata": {},
   "source": [
    "Did it work?"
   ]
  },
  {
   "cell_type": "code",
   "execution_count": null,
   "metadata": {
    "collapsed": true
   },
   "outputs": [],
   "source": [
    "# cleaning and merging with groups\n",
    "attempt2 = pd.read_csv('fits_flanker_attempt2.csv')\n",
    "attempt2.rename(columns={'Unnamed: 0': 'ProjectSpecificID'}, inplace=True)\n",
    "groups = pd.read_csv('/Users/mlm2/Work/Expts/EMBARC/Data/groups.csv') # merge with the clinical data\n",
    "attempt2 = attempt2.merge(groups, on='ProjectSpecificID')\n",
    "attempt2['feasibility'].replace(to_replace = 1.0,value = 'MDD', inplace = True) \n",
    "attempt2['feasibility'].replace(to_replace = 3.0,value = 'MDD', inplace = True) \n",
    "attempt2['feasibility'].replace(to_replace = 5.0,value = 'MDD', inplace = True) \n",
    "attempt2['feasibility'].replace(to_replace = 4.0,value = 'CTL', inplace = True) \n",
    "attempt2.head() # checking that it looks okay"
   ]
  },
  {
   "cell_type": "code",
   "execution_count": null,
   "metadata": {
    "collapsed": true
   },
   "outputs": [],
   "source": [
    "# double check that it looks okay\n",
    "attempt2.groupby('feasibility').ProjectSpecificID.count()"
   ]
  },
  {
   "cell_type": "code",
   "execution_count": null,
   "metadata": {
    "collapsed": true
   },
   "outputs": [],
   "source": [
    "get_param_means(attempt2)"
   ]
  },
  {
   "cell_type": "code",
   "execution_count": 9,
   "metadata": {
    "collapsed": false
   },
   "outputs": [],
   "source": [
    "# this goes through each subject in the csv and creates a new csv with the parameters for each of the subjects\n",
    "for sub in data.ProjectSpecificID.unique():\n",
    "    sub_data = data.loc[data.ProjectSpecificID == sub]\n",
    "    res_dep = view.map_sync(lambda x: accumodel.models.estimate_subj(x),\n",
    "                            sub_data.groupby('subj_idx'))\n",
    "    res_dep_df = pd.concat([pd.DataFrame(r).T for r in res_dep])\n",
    "    res_dep_df.to_csv('fits_flanker_' + sub + '.csv', index=True)"
   ]
  },
  {
   "cell_type": "code",
   "execution_count": 2,
   "metadata": {
    "collapsed": false
   },
   "outputs": [],
   "source": [
    "# go through all of these individual csvs and make one large df\n",
    "\n",
    "file_list = !ls TW_components/*csv\n",
    "tw_df = pd.DataFrame()\n",
    "for file in file_list:\n",
    "    tw_df = tw_df.append(pd.read_csv(file))\n",
    "tw_df.rename(columns={'Unnamed: 0': 'ProjectSpecificID'}, inplace=True)"
   ]
  },
  {
   "cell_type": "code",
   "execution_count": 3,
   "metadata": {
    "collapsed": false
   },
   "outputs": [
    {
     "data": {
      "text/html": [
       "<div>\n",
       "<table border=\"1\" class=\"dataframe\">\n",
       "  <thead>\n",
       "    <tr style=\"text-align: right;\">\n",
       "      <th></th>\n",
       "      <th>ProjectSpecificID</th>\n",
       "      <th>t</th>\n",
       "      <th>a</th>\n",
       "      <th>v_pro</th>\n",
       "      <th>v_stop</th>\n",
       "      <th>v_anti</th>\n",
       "      <th>t_anti</th>\n",
       "    </tr>\n",
       "  </thead>\n",
       "  <tbody>\n",
       "    <tr>\n",
       "      <th>0</th>\n",
       "      <td>CU0009</td>\n",
       "      <td>0.243810</td>\n",
       "      <td>0.830434</td>\n",
       "      <td>5.513486</td>\n",
       "      <td>8.782450</td>\n",
       "      <td>13.633526</td>\n",
       "      <td>0.158691</td>\n",
       "    </tr>\n",
       "    <tr>\n",
       "      <th>0</th>\n",
       "      <td>CU0011</td>\n",
       "      <td>0.240681</td>\n",
       "      <td>1.410445</td>\n",
       "      <td>7.384086</td>\n",
       "      <td>11.147636</td>\n",
       "      <td>7.677219</td>\n",
       "      <td>0.085399</td>\n",
       "    </tr>\n",
       "    <tr>\n",
       "      <th>0</th>\n",
       "      <td>CU0013</td>\n",
       "      <td>0.202924</td>\n",
       "      <td>1.198627</td>\n",
       "      <td>8.063158</td>\n",
       "      <td>10.480167</td>\n",
       "      <td>9.406476</td>\n",
       "      <td>0.135845</td>\n",
       "    </tr>\n",
       "    <tr>\n",
       "      <th>0</th>\n",
       "      <td>CU0014</td>\n",
       "      <td>0.254951</td>\n",
       "      <td>0.475997</td>\n",
       "      <td>4.209409</td>\n",
       "      <td>5.397583</td>\n",
       "      <td>5.978123</td>\n",
       "      <td>0.135637</td>\n",
       "    </tr>\n",
       "    <tr>\n",
       "      <th>0</th>\n",
       "      <td>CU0016</td>\n",
       "      <td>0.237211</td>\n",
       "      <td>1.357512</td>\n",
       "      <td>6.812568</td>\n",
       "      <td>10.929441</td>\n",
       "      <td>7.290664</td>\n",
       "      <td>0.106280</td>\n",
       "    </tr>\n",
       "  </tbody>\n",
       "</table>\n",
       "</div>"
      ],
      "text/plain": [
       "  ProjectSpecificID         t         a     v_pro     v_stop     v_anti  \\\n",
       "0            CU0009  0.243810  0.830434  5.513486   8.782450  13.633526   \n",
       "0            CU0011  0.240681  1.410445  7.384086  11.147636   7.677219   \n",
       "0            CU0013  0.202924  1.198627  8.063158  10.480167   9.406476   \n",
       "0            CU0014  0.254951  0.475997  4.209409   5.397583   5.978123   \n",
       "0            CU0016  0.237211  1.357512  6.812568  10.929441   7.290664   \n",
       "\n",
       "     t_anti  \n",
       "0  0.158691  \n",
       "0  0.085399  \n",
       "0  0.135845  \n",
       "0  0.135637  \n",
       "0  0.106280  "
      ]
     },
     "execution_count": 3,
     "metadata": {},
     "output_type": "execute_result"
    }
   ],
   "source": [
    "tw_df.head()"
   ]
  },
  {
   "cell_type": "code",
   "execution_count": 4,
   "metadata": {
    "collapsed": false
   },
   "outputs": [
    {
     "name": "stderr",
     "output_type": "stream",
     "text": [
      "/Users/mlm2/anaconda/envs/pythontwo/lib/python2.7/site-packages/IPython/core/interactiveshell.py:2717: DtypeWarning: Columns (3,104,109,113,117,118,119,122,123,127,133,134,135,136,138,141,142,219,221,227,229,231,232,233,234,235,236,237,238,239,240,241,242,243,244,250,251,252,253,258,260,262,264,266,268,276,280,283,285,287,290,293,307,308,309,310,311,312,313,314,315,316,317,318,319,320,321,322,323,324,325,326,327,328,329,330,331,332,333,334,336,338,369,370,371,372,373,374,375,376,377,378,379,380,381,382,383,384,385,386,392,396,408,410,411,417,418,419,421,422,423,460,462,464,466,468,470,472,474,476,478,480,573,574,575,576,577,578,579,580,581,582,583,584,585,586,587,590,800,801,812,813,814,823,861) have mixed types. Specify dtype option on import or set low_memory=False.\n",
      "  interactivity=interactivity, compiler=compiler, result=result)\n"
     ]
    }
   ],
   "source": [
    "# merge with the clinical data\n",
    "clin_df = pd.read_csv('/Users/mlm2/Work/Expts/EMBARC/Data/groups.csv')\n",
    "tw_merged = tw_df.merge(clin_df, on='ProjectSpecificID')"
   ]
  },
  {
   "cell_type": "code",
   "execution_count": 5,
   "metadata": {
    "collapsed": false
   },
   "outputs": [
    {
     "data": {
      "text/html": [
       "<div>\n",
       "<table border=\"1\" class=\"dataframe\">\n",
       "  <thead>\n",
       "    <tr style=\"text-align: right;\">\n",
       "      <th></th>\n",
       "      <th>ProjectSpecificID</th>\n",
       "      <th>t</th>\n",
       "      <th>a</th>\n",
       "      <th>v_pro</th>\n",
       "      <th>v_stop</th>\n",
       "      <th>v_anti</th>\n",
       "      <th>t_anti</th>\n",
       "      <th>sample</th>\n",
       "      <th>feasibility</th>\n",
       "      <th>trainingset</th>\n",
       "      <th>...</th>\n",
       "      <th>hamd_28</th>\n",
       "      <th>hamd_29</th>\n",
       "      <th>hamd_30</th>\n",
       "      <th>hamd_31</th>\n",
       "      <th>hamd_32</th>\n",
       "      <th>hamd_33</th>\n",
       "      <th>hamd_34</th>\n",
       "      <th>hamd_35</th>\n",
       "      <th>hamd_36</th>\n",
       "      <th>hamd_score_24</th>\n",
       "    </tr>\n",
       "  </thead>\n",
       "  <tbody>\n",
       "    <tr>\n",
       "      <th>0</th>\n",
       "      <td>CU0009</td>\n",
       "      <td>0.243810</td>\n",
       "      <td>0.830434</td>\n",
       "      <td>5.513486</td>\n",
       "      <td>8.782450</td>\n",
       "      <td>13.633526</td>\n",
       "      <td>0.158691</td>\n",
       "      <td>2.0</td>\n",
       "      <td>4.0</td>\n",
       "      <td>NaN</td>\n",
       "      <td>...</td>\n",
       "      <td>NaN</td>\n",
       "      <td>NaN</td>\n",
       "      <td>NaN</td>\n",
       "      <td>NaN</td>\n",
       "      <td>NaN</td>\n",
       "      <td>NaN</td>\n",
       "      <td>NaN</td>\n",
       "      <td>NaN</td>\n",
       "      <td>NaN</td>\n",
       "      <td>NaN</td>\n",
       "    </tr>\n",
       "    <tr>\n",
       "      <th>1</th>\n",
       "      <td>CU0011</td>\n",
       "      <td>0.240681</td>\n",
       "      <td>1.410445</td>\n",
       "      <td>7.384086</td>\n",
       "      <td>11.147636</td>\n",
       "      <td>7.677219</td>\n",
       "      <td>0.085399</td>\n",
       "      <td>1.0</td>\n",
       "      <td>3.0</td>\n",
       "      <td>1.0</td>\n",
       "      <td>...</td>\n",
       "      <td>0.0</td>\n",
       "      <td>0.0</td>\n",
       "      <td>1.0</td>\n",
       "      <td>0.0</td>\n",
       "      <td>0.0</td>\n",
       "      <td>0.0</td>\n",
       "      <td>0.0</td>\n",
       "      <td>0.0</td>\n",
       "      <td>11.0</td>\n",
       "      <td>12.0</td>\n",
       "    </tr>\n",
       "    <tr>\n",
       "      <th>2</th>\n",
       "      <td>CU0013</td>\n",
       "      <td>0.202924</td>\n",
       "      <td>1.198627</td>\n",
       "      <td>8.063158</td>\n",
       "      <td>10.480167</td>\n",
       "      <td>9.406476</td>\n",
       "      <td>0.135845</td>\n",
       "      <td>2.0</td>\n",
       "      <td>4.0</td>\n",
       "      <td>NaN</td>\n",
       "      <td>...</td>\n",
       "      <td>0.0</td>\n",
       "      <td>1.0</td>\n",
       "      <td>0.0</td>\n",
       "      <td>0.0</td>\n",
       "      <td>0.0</td>\n",
       "      <td>0.0</td>\n",
       "      <td>0.0</td>\n",
       "      <td>0.0</td>\n",
       "      <td>3.0</td>\n",
       "      <td>3.0</td>\n",
       "    </tr>\n",
       "    <tr>\n",
       "      <th>3</th>\n",
       "      <td>CU0014</td>\n",
       "      <td>0.254951</td>\n",
       "      <td>0.475997</td>\n",
       "      <td>4.209409</td>\n",
       "      <td>5.397583</td>\n",
       "      <td>5.978123</td>\n",
       "      <td>0.135637</td>\n",
       "      <td>1.0</td>\n",
       "      <td>3.0</td>\n",
       "      <td>1.0</td>\n",
       "      <td>...</td>\n",
       "      <td>0.0</td>\n",
       "      <td>0.0</td>\n",
       "      <td>0.0</td>\n",
       "      <td>0.0</td>\n",
       "      <td>0.0</td>\n",
       "      <td>0.0</td>\n",
       "      <td>0.0</td>\n",
       "      <td>0.0</td>\n",
       "      <td>13.0</td>\n",
       "      <td>21.0</td>\n",
       "    </tr>\n",
       "    <tr>\n",
       "      <th>4</th>\n",
       "      <td>CU0016</td>\n",
       "      <td>0.237211</td>\n",
       "      <td>1.357512</td>\n",
       "      <td>6.812568</td>\n",
       "      <td>10.929441</td>\n",
       "      <td>7.290664</td>\n",
       "      <td>0.106280</td>\n",
       "      <td>1.0</td>\n",
       "      <td>3.0</td>\n",
       "      <td>1.0</td>\n",
       "      <td>...</td>\n",
       "      <td>0.0</td>\n",
       "      <td>1.0</td>\n",
       "      <td>0.0</td>\n",
       "      <td>0.0</td>\n",
       "      <td>0.0</td>\n",
       "      <td>2.0</td>\n",
       "      <td>0.0</td>\n",
       "      <td>0.0</td>\n",
       "      <td>23.0</td>\n",
       "      <td>34.0</td>\n",
       "    </tr>\n",
       "  </tbody>\n",
       "</table>\n",
       "<p>5 rows × 1023 columns</p>\n",
       "</div>"
      ],
      "text/plain": [
       "  ProjectSpecificID         t         a     v_pro     v_stop     v_anti  \\\n",
       "0            CU0009  0.243810  0.830434  5.513486   8.782450  13.633526   \n",
       "1            CU0011  0.240681  1.410445  7.384086  11.147636   7.677219   \n",
       "2            CU0013  0.202924  1.198627  8.063158  10.480167   9.406476   \n",
       "3            CU0014  0.254951  0.475997  4.209409   5.397583   5.978123   \n",
       "4            CU0016  0.237211  1.357512  6.812568  10.929441   7.290664   \n",
       "\n",
       "     t_anti  sample  feasibility  trainingset      ...        hamd_28  \\\n",
       "0  0.158691     2.0          4.0          NaN      ...            NaN   \n",
       "1  0.085399     1.0          3.0          1.0      ...            0.0   \n",
       "2  0.135845     2.0          4.0          NaN      ...            0.0   \n",
       "3  0.135637     1.0          3.0          1.0      ...            0.0   \n",
       "4  0.106280     1.0          3.0          1.0      ...            0.0   \n",
       "\n",
       "   hamd_29  hamd_30  hamd_31  hamd_32  hamd_33  hamd_34  hamd_35  hamd_36  \\\n",
       "0      NaN      NaN      NaN      NaN      NaN      NaN      NaN      NaN   \n",
       "1      0.0      1.0      0.0      0.0      0.0      0.0      0.0     11.0   \n",
       "2      1.0      0.0      0.0      0.0      0.0      0.0      0.0      3.0   \n",
       "3      0.0      0.0      0.0      0.0      0.0      0.0      0.0     13.0   \n",
       "4      1.0      0.0      0.0      0.0      2.0      0.0      0.0     23.0   \n",
       "\n",
       "   hamd_score_24  \n",
       "0            NaN  \n",
       "1           12.0  \n",
       "2            3.0  \n",
       "3           21.0  \n",
       "4           34.0  \n",
       "\n",
       "[5 rows x 1023 columns]"
      ]
     },
     "execution_count": 5,
     "metadata": {},
     "output_type": "execute_result"
    }
   ],
   "source": [
    "tw_merged.head()"
   ]
  },
  {
   "cell_type": "code",
   "execution_count": 13,
   "metadata": {
    "collapsed": false
   },
   "outputs": [
    {
     "data": {
      "text/html": [
       "<div>\n",
       "<table border=\"1\" class=\"dataframe\">\n",
       "  <thead>\n",
       "    <tr style=\"text-align: right;\">\n",
       "      <th></th>\n",
       "      <th>Unnamed: 0</th>\n",
       "      <th>subj_idx</th>\n",
       "      <th>site</th>\n",
       "      <th>subject</th>\n",
       "      <th>session</th>\n",
       "      <th>group</th>\n",
       "      <th>block</th>\n",
       "      <th>trial</th>\n",
       "      <th>stimulus</th>\n",
       "      <th>response</th>\n",
       "      <th>accuracy</th>\n",
       "      <th>rt</th>\n",
       "      <th>feedback</th>\n",
       "      <th>response_side</th>\n",
       "      <th>cond</th>\n",
       "    </tr>\n",
       "  </thead>\n",
       "  <tbody>\n",
       "    <tr>\n",
       "      <th>0</th>\n",
       "      <td>0</td>\n",
       "      <td>CU0009</td>\n",
       "      <td>CU</td>\n",
       "      <td>9</td>\n",
       "      <td>1</td>\n",
       "      <td>0</td>\n",
       "      <td>1</td>\n",
       "      <td>1</td>\n",
       "      <td>INC</td>\n",
       "      <td>1.0</td>\n",
       "      <td>1.0</td>\n",
       "      <td>0.541</td>\n",
       "      <td>Blank</td>\n",
       "      <td>right</td>\n",
       "      <td>incong</td>\n",
       "    </tr>\n",
       "    <tr>\n",
       "      <th>1</th>\n",
       "      <td>1</td>\n",
       "      <td>CU0009</td>\n",
       "      <td>CU</td>\n",
       "      <td>9</td>\n",
       "      <td>1</td>\n",
       "      <td>0</td>\n",
       "      <td>1</td>\n",
       "      <td>2</td>\n",
       "      <td>CON</td>\n",
       "      <td>1.0</td>\n",
       "      <td>1.0</td>\n",
       "      <td>0.502</td>\n",
       "      <td>Blank</td>\n",
       "      <td>left</td>\n",
       "      <td>cong</td>\n",
       "    </tr>\n",
       "    <tr>\n",
       "      <th>2</th>\n",
       "      <td>2</td>\n",
       "      <td>CU0009</td>\n",
       "      <td>CU</td>\n",
       "      <td>9</td>\n",
       "      <td>1</td>\n",
       "      <td>0</td>\n",
       "      <td>1</td>\n",
       "      <td>3</td>\n",
       "      <td>INC</td>\n",
       "      <td>0.0</td>\n",
       "      <td>0.0</td>\n",
       "      <td>0.379</td>\n",
       "      <td>Blank</td>\n",
       "      <td>right</td>\n",
       "      <td>incong</td>\n",
       "    </tr>\n",
       "    <tr>\n",
       "      <th>3</th>\n",
       "      <td>3</td>\n",
       "      <td>CU0009</td>\n",
       "      <td>CU</td>\n",
       "      <td>9</td>\n",
       "      <td>1</td>\n",
       "      <td>0</td>\n",
       "      <td>1</td>\n",
       "      <td>4</td>\n",
       "      <td>CON</td>\n",
       "      <td>1.0</td>\n",
       "      <td>1.0</td>\n",
       "      <td>0.379</td>\n",
       "      <td>Blank</td>\n",
       "      <td>right</td>\n",
       "      <td>cong</td>\n",
       "    </tr>\n",
       "    <tr>\n",
       "      <th>4</th>\n",
       "      <td>4</td>\n",
       "      <td>CU0009</td>\n",
       "      <td>CU</td>\n",
       "      <td>9</td>\n",
       "      <td>1</td>\n",
       "      <td>0</td>\n",
       "      <td>1</td>\n",
       "      <td>5</td>\n",
       "      <td>INC</td>\n",
       "      <td>1.0</td>\n",
       "      <td>1.0</td>\n",
       "      <td>0.491</td>\n",
       "      <td>Blank</td>\n",
       "      <td>left</td>\n",
       "      <td>incong</td>\n",
       "    </tr>\n",
       "  </tbody>\n",
       "</table>\n",
       "</div>"
      ],
      "text/plain": [
       "   Unnamed: 0 subj_idx site  subject  session  group  block  trial stimulus  \\\n",
       "0           0   CU0009   CU        9        1      0      1      1      INC   \n",
       "1           1   CU0009   CU        9        1      0      1      2      CON   \n",
       "2           2   CU0009   CU        9        1      0      1      3      INC   \n",
       "3           3   CU0009   CU        9        1      0      1      4      CON   \n",
       "4           4   CU0009   CU        9        1      0      1      5      INC   \n",
       "\n",
       "   response  accuracy     rt feedback response_side    cond  \n",
       "0       1.0       1.0  0.541    Blank         right  incong  \n",
       "1       1.0       1.0  0.502    Blank          left    cong  \n",
       "2       0.0       0.0  0.379    Blank         right  incong  \n",
       "3       1.0       1.0  0.379    Blank         right    cong  \n",
       "4       1.0       1.0  0.491    Blank          left  incong  "
      ]
     },
     "execution_count": 13,
     "metadata": {},
     "output_type": "execute_result"
    }
   ],
   "source": [
    "old_ppl = pd.read_csv('/Users/mlm2/Work/Expts/EMBARC/depressed_flanker_tw.csv')\n",
    "old_ppl.head()"
   ]
  },
  {
   "cell_type": "code",
   "execution_count": 7,
   "metadata": {
    "collapsed": true
   },
   "outputs": [],
   "source": [
    "tw_merged['feasibility'].replace(to_replace = 1.0,value = 'MDD', inplace = True) \n",
    "tw_merged['feasibility'].replace(to_replace = 3.0,value = 'MDD', inplace = True) \n",
    "tw_merged['feasibility'].replace(to_replace = 5.0,value = 'MDD', inplace = True) \n",
    "tw_merged['feasibility'].replace(to_replace = 4.0,value = 'CTL', inplace = True) "
   ]
  },
  {
   "cell_type": "markdown",
   "metadata": {},
   "source": [
    "Before looking at the results with everyone, I want to look at just the people that were included in the 2015 paper, to make sure the parameters are the same. "
   ]
  },
  {
   "cell_type": "code",
   "execution_count": 39,
   "metadata": {
    "collapsed": false
   },
   "outputs": [
    {
     "data": {
      "text/plain": [
       "feasibility\n",
       "CTL    37\n",
       "MDD    92\n",
       "Name: ProjectSpecificID, dtype: int64"
      ]
     },
     "execution_count": 39,
     "metadata": {},
     "output_type": "execute_result"
    }
   ],
   "source": [
    "# get the subject IDs for the people that were included in the first paper from the csv that tw sent\n",
    "data_tw_peeps = tw_merged[tw_merged.ProjectSpecificID.isin(old_ppl.subj_idx.unique())]\n",
    "\n",
    "# Do we have 37 controls and 92 MDDs as reported in the paper?\n",
    "# YES\n",
    "data_tw_peeps.groupby('feasibility').ProjectSpecificID.nunique()"
   ]
  },
  {
   "cell_type": "code",
   "execution_count": 40,
   "metadata": {
    "collapsed": false
   },
   "outputs": [
    {
     "data": {
      "text/html": [
       "<div>\n",
       "<table border=\"1\" class=\"dataframe\">\n",
       "  <thead>\n",
       "    <tr style=\"text-align: right;\">\n",
       "      <th></th>\n",
       "      <th>CTL_mean</th>\n",
       "      <th>MDD_mean</th>\n",
       "      <th>pvalue</th>\n",
       "      <th>statistic</th>\n",
       "    </tr>\n",
       "  </thead>\n",
       "  <tbody>\n",
       "    <tr>\n",
       "      <th>a</th>\n",
       "      <td>1.028934</td>\n",
       "      <td>1.160762</td>\n",
       "      <td>0.097857</td>\n",
       "      <td>1.667611</td>\n",
       "    </tr>\n",
       "    <tr>\n",
       "      <th>t</th>\n",
       "      <td>0.213950</td>\n",
       "      <td>0.205497</td>\n",
       "      <td>0.415732</td>\n",
       "      <td>-0.816520</td>\n",
       "    </tr>\n",
       "    <tr>\n",
       "      <th>t_anti</th>\n",
       "      <td>0.128966</td>\n",
       "      <td>0.138768</td>\n",
       "      <td>0.141640</td>\n",
       "      <td>1.478911</td>\n",
       "    </tr>\n",
       "    <tr>\n",
       "      <th>v_anti</th>\n",
       "      <td>10.148298</td>\n",
       "      <td>9.322486</td>\n",
       "      <td>0.106415</td>\n",
       "      <td>-1.626062</td>\n",
       "    </tr>\n",
       "    <tr>\n",
       "      <th>v_pro</th>\n",
       "      <td>6.984221</td>\n",
       "      <td>6.414638</td>\n",
       "      <td>0.022839</td>\n",
       "      <td>-2.304145</td>\n",
       "    </tr>\n",
       "    <tr>\n",
       "      <th>v_stop</th>\n",
       "      <td>9.760866</td>\n",
       "      <td>9.685562</td>\n",
       "      <td>0.850732</td>\n",
       "      <td>-0.188569</td>\n",
       "    </tr>\n",
       "  </tbody>\n",
       "</table>\n",
       "</div>"
      ],
      "text/plain": [
       "         CTL_mean  MDD_mean    pvalue  statistic\n",
       "a        1.028934  1.160762  0.097857   1.667611\n",
       "t        0.213950  0.205497  0.415732  -0.816520\n",
       "t_anti   0.128966  0.138768  0.141640   1.478911\n",
       "v_anti  10.148298  9.322486  0.106415  -1.626062\n",
       "v_pro    6.984221  6.414638  0.022839  -2.304145\n",
       "v_stop   9.760866  9.685562  0.850732  -0.188569"
      ]
     },
     "execution_count": 40,
     "metadata": {},
     "output_type": "execute_result"
    }
   ],
   "source": [
    "list_of_params = ['t', 'v_pro', 'v_stop', 'v_anti', 't_anti', 'a']\n",
    "d = {}\n",
    "for param in list_of_params:\n",
    "    results = sp.stats.ttest_ind(data_tw_peeps[(data_tw_peeps.feasibility == 'MDD')][param],\n",
    "            data_tw_peeps[(data_tw_peeps.feasibility == 'CTL')][param])\n",
    "    means = data_tw_peeps.groupby('feasibility')[param].mean()\n",
    "    p = {}\n",
    "    p['statistic'] = results[0]\n",
    "    p['pvalue'] = results[1]\n",
    "    p['MDD_mean'] = means[1]\n",
    "    p['CTL_mean'] = means[0]\n",
    "    d[param] = p\n",
    "df = pd.DataFrame.from_dict(d, orient='index')\n",
    "df"
   ]
  },
  {
   "cell_type": "code",
   "execution_count": null,
   "metadata": {
    "collapsed": true
   },
   "outputs": [],
   "source": [
    "def get_param_means(data):\n",
    "    list_of_params = ['t', 'v_pro', 'v_stop', 'v_anti', 't_anti', 'a']\n",
    "    d = {}\n",
    "    for param in list_of_params:\n",
    "        results = sp.stats.ttest_ind(data[(data.feasibility == 'MDD')][param],\n",
    "                data[(data.feasibility == 'CTL')][param])\n",
    "        means = data.groupby('feasibility')[param].mean()\n",
    "        p = {}\n",
    "        p['statistic'] = results[0]\n",
    "        p['pvalue'] = results[1]\n",
    "        p['MDD_mean'] = means[1]\n",
    "        p['CTL_mean'] = means[0]\n",
    "        d[param] = p\n",
    "    df = pd.DataFrame.from_dict(d, orient='index')\n",
    "    return df"
   ]
  },
  {
   "cell_type": "markdown",
   "metadata": {},
   "source": [
    "The above df is slightly different from the table 1 in the 2015 paper. The v_pro difference is still significant here, but there's no v_anti group difference. There aren't any huge differences between the means here and the means in the paper, but they aren't exactly the same and I'm not really sure why. At first I thought it was because we included the outlier trials, but then I redid it removing those (see TW_components_new folder) and that didn't fix the problem. Accumodels removes the outliers on its own, so they shouldn't be removed beforehand anyway.  \n",
    "  \n",
    "What about the correlations that were found in the first paper?"
   ]
  },
  {
   "cell_type": "code",
   "execution_count": 35,
   "metadata": {
    "collapsed": false
   },
   "outputs": [
    {
     "data": {
      "text/html": [
       "<div>\n",
       "<table border=\"1\" class=\"dataframe\">\n",
       "  <thead>\n",
       "    <tr style=\"text-align: right;\">\n",
       "      <th></th>\n",
       "      <th>ProjectSpecificID</th>\n",
       "      <th>t</th>\n",
       "      <th>a</th>\n",
       "      <th>v_pro</th>\n",
       "      <th>v_stop</th>\n",
       "      <th>v_anti</th>\n",
       "      <th>t_anti</th>\n",
       "      <th>sample</th>\n",
       "      <th>feasibility</th>\n",
       "      <th>trainingset</th>\n",
       "      <th>...</th>\n",
       "      <th>hamd_28</th>\n",
       "      <th>hamd_29</th>\n",
       "      <th>hamd_30</th>\n",
       "      <th>hamd_31</th>\n",
       "      <th>hamd_32</th>\n",
       "      <th>hamd_33</th>\n",
       "      <th>hamd_34</th>\n",
       "      <th>hamd_35</th>\n",
       "      <th>hamd_36</th>\n",
       "      <th>hamd_score_24</th>\n",
       "    </tr>\n",
       "  </thead>\n",
       "  <tbody>\n",
       "    <tr>\n",
       "      <th>129</th>\n",
       "      <td>MG0228</td>\n",
       "      <td>0.169010</td>\n",
       "      <td>1.317666</td>\n",
       "      <td>8.681056</td>\n",
       "      <td>9.189137</td>\n",
       "      <td>11.079160</td>\n",
       "      <td>0.103579</td>\n",
       "      <td>1.0</td>\n",
       "      <td>1.0</td>\n",
       "      <td>0.0</td>\n",
       "      <td>...</td>\n",
       "      <td>0.0</td>\n",
       "      <td>1.0</td>\n",
       "      <td>0.0</td>\n",
       "      <td>2.0</td>\n",
       "      <td>1.0</td>\n",
       "      <td>1.0</td>\n",
       "      <td>1.0</td>\n",
       "      <td>0.0</td>\n",
       "      <td>27.0</td>\n",
       "      <td>40.0</td>\n",
       "    </tr>\n",
       "    <tr>\n",
       "      <th>182</th>\n",
       "      <td>TX0090</td>\n",
       "      <td>0.139077</td>\n",
       "      <td>1.436811</td>\n",
       "      <td>4.757651</td>\n",
       "      <td>8.164631</td>\n",
       "      <td>5.775166</td>\n",
       "      <td>0.147586</td>\n",
       "      <td>1.0</td>\n",
       "      <td>3.0</td>\n",
       "      <td>1.0</td>\n",
       "      <td>...</td>\n",
       "      <td>0.0</td>\n",
       "      <td>1.0</td>\n",
       "      <td>0.0</td>\n",
       "      <td>2.0</td>\n",
       "      <td>2.0</td>\n",
       "      <td>0.0</td>\n",
       "      <td>0.0</td>\n",
       "      <td>0.0</td>\n",
       "      <td>21.0</td>\n",
       "      <td>30.0</td>\n",
       "    </tr>\n",
       "    <tr>\n",
       "      <th>242</th>\n",
       "      <td>UM0008</td>\n",
       "      <td>0.000100</td>\n",
       "      <td>2.961426</td>\n",
       "      <td>6.312529</td>\n",
       "      <td>7.540382</td>\n",
       "      <td>5.773251</td>\n",
       "      <td>0.000100</td>\n",
       "      <td>1.0</td>\n",
       "      <td>3.0</td>\n",
       "      <td>1.0</td>\n",
       "      <td>...</td>\n",
       "      <td>0.0</td>\n",
       "      <td>0.0</td>\n",
       "      <td>1.0</td>\n",
       "      <td>0.0</td>\n",
       "      <td>0.0</td>\n",
       "      <td>0.0</td>\n",
       "      <td>0.0</td>\n",
       "      <td>0.0</td>\n",
       "      <td>15.0</td>\n",
       "      <td>21.0</td>\n",
       "    </tr>\n",
       "    <tr>\n",
       "      <th>257</th>\n",
       "      <td>UM0033</td>\n",
       "      <td>0.210042</td>\n",
       "      <td>1.196539</td>\n",
       "      <td>5.287062</td>\n",
       "      <td>10.250365</td>\n",
       "      <td>6.116461</td>\n",
       "      <td>0.094559</td>\n",
       "      <td>1.0</td>\n",
       "      <td>3.0</td>\n",
       "      <td>1.0</td>\n",
       "      <td>...</td>\n",
       "      <td>0.0</td>\n",
       "      <td>0.0</td>\n",
       "      <td>1.0</td>\n",
       "      <td>1.0</td>\n",
       "      <td>2.0</td>\n",
       "      <td>0.0</td>\n",
       "      <td>0.0</td>\n",
       "      <td>0.0</td>\n",
       "      <td>23.0</td>\n",
       "      <td>33.0</td>\n",
       "    </tr>\n",
       "    <tr>\n",
       "      <th>273</th>\n",
       "      <td>UM0065</td>\n",
       "      <td>0.199337</td>\n",
       "      <td>1.130418</td>\n",
       "      <td>9.950146</td>\n",
       "      <td>14.354643</td>\n",
       "      <td>10.344117</td>\n",
       "      <td>0.097524</td>\n",
       "      <td>1.0</td>\n",
       "      <td>5.0</td>\n",
       "      <td>1.0</td>\n",
       "      <td>...</td>\n",
       "      <td>0.0</td>\n",
       "      <td>1.0</td>\n",
       "      <td>1.0</td>\n",
       "      <td>2.0</td>\n",
       "      <td>1.0</td>\n",
       "      <td>0.0</td>\n",
       "      <td>0.0</td>\n",
       "      <td>0.0</td>\n",
       "      <td>24.0</td>\n",
       "      <td>32.0</td>\n",
       "    </tr>\n",
       "    <tr>\n",
       "      <th>286</th>\n",
       "      <td>UM0092</td>\n",
       "      <td>0.175546</td>\n",
       "      <td>1.116450</td>\n",
       "      <td>6.780294</td>\n",
       "      <td>9.417060</td>\n",
       "      <td>9.422445</td>\n",
       "      <td>0.146869</td>\n",
       "      <td>1.0</td>\n",
       "      <td>5.0</td>\n",
       "      <td>0.0</td>\n",
       "      <td>...</td>\n",
       "      <td>0.0</td>\n",
       "      <td>4.0</td>\n",
       "      <td>0.0</td>\n",
       "      <td>1.0</td>\n",
       "      <td>2.0</td>\n",
       "      <td>1.0</td>\n",
       "      <td>0.0</td>\n",
       "      <td>0.0</td>\n",
       "      <td>28.0</td>\n",
       "      <td>37.0</td>\n",
       "    </tr>\n",
       "  </tbody>\n",
       "</table>\n",
       "<p>6 rows × 1023 columns</p>\n",
       "</div>"
      ],
      "text/plain": [
       "    ProjectSpecificID         t         a     v_pro     v_stop     v_anti  \\\n",
       "129            MG0228  0.169010  1.317666  8.681056   9.189137  11.079160   \n",
       "182            TX0090  0.139077  1.436811  4.757651   8.164631   5.775166   \n",
       "242            UM0008  0.000100  2.961426  6.312529   7.540382   5.773251   \n",
       "257            UM0033  0.210042  1.196539  5.287062  10.250365   6.116461   \n",
       "273            UM0065  0.199337  1.130418  9.950146  14.354643  10.344117   \n",
       "286            UM0092  0.175546  1.116450  6.780294   9.417060   9.422445   \n",
       "\n",
       "       t_anti  sample  feasibility  trainingset      ...        hamd_28  \\\n",
       "129  0.103579     1.0          1.0          0.0      ...            0.0   \n",
       "182  0.147586     1.0          3.0          1.0      ...            0.0   \n",
       "242  0.000100     1.0          3.0          1.0      ...            0.0   \n",
       "257  0.094559     1.0          3.0          1.0      ...            0.0   \n",
       "273  0.097524     1.0          5.0          1.0      ...            0.0   \n",
       "286  0.146869     1.0          5.0          0.0      ...            0.0   \n",
       "\n",
       "     hamd_29  hamd_30  hamd_31  hamd_32  hamd_33  hamd_34  hamd_35  hamd_36  \\\n",
       "129      1.0      0.0      2.0      1.0      1.0      1.0      0.0     27.0   \n",
       "182      1.0      0.0      2.0      2.0      0.0      0.0      0.0     21.0   \n",
       "242      0.0      1.0      0.0      0.0      0.0      0.0      0.0     15.0   \n",
       "257      0.0      1.0      1.0      2.0      0.0      0.0      0.0     23.0   \n",
       "273      1.0      1.0      2.0      1.0      0.0      0.0      0.0     24.0   \n",
       "286      4.0      0.0      1.0      2.0      1.0      0.0      0.0     28.0   \n",
       "\n",
       "     hamd_score_24  \n",
       "129           40.0  \n",
       "182           30.0  \n",
       "242           21.0  \n",
       "257           33.0  \n",
       "273           32.0  \n",
       "286           37.0  \n",
       "\n",
       "[6 rows x 1023 columns]"
      ]
     },
     "execution_count": 35,
     "metadata": {},
     "output_type": "execute_result"
    }
   ],
   "source": [
    "tw_merged[tw_merged['shaps_total_continuous'] > 45]"
   ]
  },
  {
   "cell_type": "code",
   "execution_count": 41,
   "metadata": {
    "collapsed": false,
    "scrolled": false
   },
   "outputs": [
    {
     "data": {
      "image/png": "[encoded data removed]",
      "text/plain": [
       "<matplotlib.figure.Figure at 0x1117b1e90>"
      ]
     },
     "metadata": {},
     "output_type": "display_data"
    }
   ],
   "source": [
    "# Does the correlation w/ shaps + v_anti found in the first paper look generally the same?\n",
    "# Yes, though note that the v_anti scores are not exactly the same. That low shaps is TX0096, who had a v_anti\n",
    "# of 8 in the paper\n",
    "\n",
    "executive_shaps = sns.lmplot(y = 'v_anti', x = 'shaps_total_continuous', data = data_tw_peeps[data_tw_peeps['feasibility'] == 'MDD'], ci=68)"
   ]
  },
  {
   "cell_type": "code",
   "execution_count": 42,
   "metadata": {
    "collapsed": false
   },
   "outputs": [
    {
     "data": {
      "image/png": "[encoded data removed]",
      "text/plain": [
       "<matplotlib.figure.Figure at 0x11e692550>"
      ]
     },
     "metadata": {},
     "output_type": "display_data"
    }
   ],
   "source": [
    "# What about the lack of correlation with v_pro?\n",
    "# Yes, generally, except for that one really high point, which is UM0027. Nothing looks particularly weird about their data.\n",
    "\n",
    "prepotent_shaps = sns.lmplot(y = 'v_pro', x = 'shaps_total_continuous', data = data_tw_peeps[data_tw_peeps['feasibility'] == 'MDD'], ci=68)"
   ]
  },
  {
   "cell_type": "markdown",
   "metadata": {},
   "source": [
    "Is this because our data is different from the first point of analysis?"
   ]
  },
  {
   "cell_type": "code",
   "execution_count": 21,
   "metadata": {
    "collapsed": false
   },
   "outputs": [],
   "source": [
    "ours_to_compare = pd.read_csv('/Users/mlm2/Work/Expts/EMBARC/Data/Flanker/to_compare/ours_to_compare.csv')\n",
    "tw_to_compare = pd.read_csv('/Users/mlm2/Work/Expts/EMBARC/Data/Flanker/to_compare/tw_to_compare.csv')"
   ]
  },
  {
   "cell_type": "code",
   "execution_count": 22,
   "metadata": {
    "collapsed": false
   },
   "outputs": [],
   "source": [
    "ours_to_compare = ours_to_compare[ours_to_compare.ProjectSpecificID.isin(old_ppl.subj_idx.unique())]"
   ]
  },
  {
   "cell_type": "code",
   "execution_count": 23,
   "metadata": {
    "collapsed": false
   },
   "outputs": [
    {
     "data": {
      "text/html": [
       "<div>\n",
       "<table border=\"1\" class=\"dataframe\">\n",
       "  <thead>\n",
       "    <tr style=\"text-align: right;\">\n",
       "      <th></th>\n",
       "      <th>ProjectSpecificID</th>\n",
       "      <th>site</th>\n",
       "      <th>subject</th>\n",
       "      <th>session</th>\n",
       "      <th>group</th>\n",
       "      <th>block</th>\n",
       "      <th>trial</th>\n",
       "      <th>stimulus</th>\n",
       "      <th>response</th>\n",
       "      <th>accuracy</th>\n",
       "      <th>rt</th>\n",
       "      <th>feedback</th>\n",
       "    </tr>\n",
       "  </thead>\n",
       "  <tbody>\n",
       "    <tr>\n",
       "      <th>0</th>\n",
       "      <td>CU0009</td>\n",
       "      <td>CU</td>\n",
       "      <td>9</td>\n",
       "      <td>1</td>\n",
       "      <td>CTL</td>\n",
       "      <td>1</td>\n",
       "      <td>1</td>\n",
       "      <td>INC</td>\n",
       "      <td>1.0</td>\n",
       "      <td>1.0</td>\n",
       "      <td>0.541</td>\n",
       "      <td>Blank</td>\n",
       "    </tr>\n",
       "    <tr>\n",
       "      <th>1</th>\n",
       "      <td>CU0009</td>\n",
       "      <td>CU</td>\n",
       "      <td>9</td>\n",
       "      <td>1</td>\n",
       "      <td>CTL</td>\n",
       "      <td>1</td>\n",
       "      <td>2</td>\n",
       "      <td>CON</td>\n",
       "      <td>1.0</td>\n",
       "      <td>1.0</td>\n",
       "      <td>0.502</td>\n",
       "      <td>Blank</td>\n",
       "    </tr>\n",
       "    <tr>\n",
       "      <th>2</th>\n",
       "      <td>CU0009</td>\n",
       "      <td>CU</td>\n",
       "      <td>9</td>\n",
       "      <td>1</td>\n",
       "      <td>CTL</td>\n",
       "      <td>1</td>\n",
       "      <td>3</td>\n",
       "      <td>INC</td>\n",
       "      <td>0.0</td>\n",
       "      <td>0.0</td>\n",
       "      <td>0.379</td>\n",
       "      <td>Blank</td>\n",
       "    </tr>\n",
       "    <tr>\n",
       "      <th>3</th>\n",
       "      <td>CU0009</td>\n",
       "      <td>CU</td>\n",
       "      <td>9</td>\n",
       "      <td>1</td>\n",
       "      <td>CTL</td>\n",
       "      <td>1</td>\n",
       "      <td>4</td>\n",
       "      <td>CON</td>\n",
       "      <td>1.0</td>\n",
       "      <td>1.0</td>\n",
       "      <td>0.379</td>\n",
       "      <td>Blank</td>\n",
       "    </tr>\n",
       "    <tr>\n",
       "      <th>4</th>\n",
       "      <td>CU0009</td>\n",
       "      <td>CU</td>\n",
       "      <td>9</td>\n",
       "      <td>1</td>\n",
       "      <td>CTL</td>\n",
       "      <td>1</td>\n",
       "      <td>5</td>\n",
       "      <td>INC</td>\n",
       "      <td>1.0</td>\n",
       "      <td>1.0</td>\n",
       "      <td>0.491</td>\n",
       "      <td>Blank</td>\n",
       "    </tr>\n",
       "  </tbody>\n",
       "</table>\n",
       "</div>"
      ],
      "text/plain": [
       "  ProjectSpecificID site  subject  session group  block  trial stimulus  \\\n",
       "0            CU0009   CU        9        1   CTL      1      1      INC   \n",
       "1            CU0009   CU        9        1   CTL      1      2      CON   \n",
       "2            CU0009   CU        9        1   CTL      1      3      INC   \n",
       "3            CU0009   CU        9        1   CTL      1      4      CON   \n",
       "4            CU0009   CU        9        1   CTL      1      5      INC   \n",
       "\n",
       "   response  accuracy     rt feedback  \n",
       "0       1.0       1.0  0.541    Blank  \n",
       "1       1.0       1.0  0.502    Blank  \n",
       "2       0.0       0.0  0.379    Blank  \n",
       "3       1.0       1.0  0.379    Blank  \n",
       "4       1.0       1.0  0.491    Blank  "
      ]
     },
     "execution_count": 23,
     "metadata": {},
     "output_type": "execute_result"
    }
   ],
   "source": [
    "ours_to_compare.head()"
   ]
  },
  {
   "cell_type": "code",
   "execution_count": 24,
   "metadata": {
    "collapsed": false
   },
   "outputs": [
    {
     "data": {
      "text/html": [
       "<div>\n",
       "<table border=\"1\" class=\"dataframe\">\n",
       "  <thead>\n",
       "    <tr style=\"text-align: right;\">\n",
       "      <th></th>\n",
       "      <th>ProjectSpecificID</th>\n",
       "      <th>site</th>\n",
       "      <th>subject</th>\n",
       "      <th>session</th>\n",
       "      <th>group</th>\n",
       "      <th>block</th>\n",
       "      <th>trial</th>\n",
       "      <th>stimulus</th>\n",
       "      <th>response</th>\n",
       "      <th>accuracy</th>\n",
       "      <th>rt</th>\n",
       "      <th>feedback</th>\n",
       "    </tr>\n",
       "  </thead>\n",
       "  <tbody>\n",
       "    <tr>\n",
       "      <th>0</th>\n",
       "      <td>CU0009</td>\n",
       "      <td>CU</td>\n",
       "      <td>9</td>\n",
       "      <td>1</td>\n",
       "      <td>CTL</td>\n",
       "      <td>1</td>\n",
       "      <td>1</td>\n",
       "      <td>INC</td>\n",
       "      <td>1.0</td>\n",
       "      <td>1.0</td>\n",
       "      <td>0.541</td>\n",
       "      <td>Blank</td>\n",
       "    </tr>\n",
       "    <tr>\n",
       "      <th>1</th>\n",
       "      <td>CU0009</td>\n",
       "      <td>CU</td>\n",
       "      <td>9</td>\n",
       "      <td>1</td>\n",
       "      <td>CTL</td>\n",
       "      <td>1</td>\n",
       "      <td>2</td>\n",
       "      <td>CON</td>\n",
       "      <td>1.0</td>\n",
       "      <td>1.0</td>\n",
       "      <td>0.502</td>\n",
       "      <td>Blank</td>\n",
       "    </tr>\n",
       "    <tr>\n",
       "      <th>2</th>\n",
       "      <td>CU0009</td>\n",
       "      <td>CU</td>\n",
       "      <td>9</td>\n",
       "      <td>1</td>\n",
       "      <td>CTL</td>\n",
       "      <td>1</td>\n",
       "      <td>3</td>\n",
       "      <td>INC</td>\n",
       "      <td>0.0</td>\n",
       "      <td>0.0</td>\n",
       "      <td>0.379</td>\n",
       "      <td>Blank</td>\n",
       "    </tr>\n",
       "    <tr>\n",
       "      <th>3</th>\n",
       "      <td>CU0009</td>\n",
       "      <td>CU</td>\n",
       "      <td>9</td>\n",
       "      <td>1</td>\n",
       "      <td>CTL</td>\n",
       "      <td>1</td>\n",
       "      <td>4</td>\n",
       "      <td>CON</td>\n",
       "      <td>1.0</td>\n",
       "      <td>1.0</td>\n",
       "      <td>0.379</td>\n",
       "      <td>Blank</td>\n",
       "    </tr>\n",
       "    <tr>\n",
       "      <th>4</th>\n",
       "      <td>CU0009</td>\n",
       "      <td>CU</td>\n",
       "      <td>9</td>\n",
       "      <td>1</td>\n",
       "      <td>CTL</td>\n",
       "      <td>1</td>\n",
       "      <td>5</td>\n",
       "      <td>INC</td>\n",
       "      <td>1.0</td>\n",
       "      <td>1.0</td>\n",
       "      <td>0.491</td>\n",
       "      <td>Blank</td>\n",
       "    </tr>\n",
       "  </tbody>\n",
       "</table>\n",
       "</div>"
      ],
      "text/plain": [
       "  ProjectSpecificID site  subject  session group  block  trial stimulus  \\\n",
       "0            CU0009   CU        9        1   CTL      1      1      INC   \n",
       "1            CU0009   CU        9        1   CTL      1      2      CON   \n",
       "2            CU0009   CU        9        1   CTL      1      3      INC   \n",
       "3            CU0009   CU        9        1   CTL      1      4      CON   \n",
       "4            CU0009   CU        9        1   CTL      1      5      INC   \n",
       "\n",
       "   response  accuracy     rt feedback  \n",
       "0       1.0       1.0  0.541    Blank  \n",
       "1       1.0       1.0  0.502    Blank  \n",
       "2       0.0       0.0  0.379    Blank  \n",
       "3       1.0       1.0  0.379    Blank  \n",
       "4       1.0       1.0  0.491    Blank  "
      ]
     },
     "execution_count": 24,
     "metadata": {},
     "output_type": "execute_result"
    }
   ],
   "source": [
    "tw_to_compare.head()"
   ]
  },
  {
   "cell_type": "code",
   "execution_count": 25,
   "metadata": {
    "collapsed": true
   },
   "outputs": [],
   "source": [
    "tw_to_compare['group'].replace(to_replace = '1',value = 'MDD', inplace = True) \n",
    "tw_to_compare['group'].replace(to_replace = '0',value = 'CTL', inplace = True) "
   ]
  },
  {
   "cell_type": "code",
   "execution_count": 26,
   "metadata": {
    "collapsed": false
   },
   "outputs": [
    {
     "data": {
      "text/plain": [
       "True"
      ]
     },
     "execution_count": 26,
     "metadata": {},
     "output_type": "execute_result"
    }
   ],
   "source": [
    "# Returns whether or not the two dataframes are the same. It was returning false before b/c the groups are were named \n",
    "# differently in the two files (0/1 vs CTL/MDD), and one file had an index. Now that that's removed, it's saying that \n",
    "# the two dfs are the same. Also confirmed with sdiff. \n",
    "ours_to_compare.equals(tw_to_compare)"
   ]
  },
  {
   "cell_type": "markdown",
   "metadata": {},
   "source": [
    "Even though we'll have to redo once we figure out why the parameters are off, lets look at the parameters with all of the subjects."
   ]
  },
  {
   "cell_type": "code",
   "execution_count": 8,
   "metadata": {
    "collapsed": false
   },
   "outputs": [
    {
     "data": {
      "text/plain": [
       "feasibility\n",
       "CTL     37\n",
       "MDD    266\n",
       "Name: ProjectSpecificID, dtype: int64"
      ]
     },
     "execution_count": 8,
     "metadata": {},
     "output_type": "execute_result"
    }
   ],
   "source": [
    "tw_merged.groupby('feasibility').ProjectSpecificID.nunique()"
   ]
  },
  {
   "cell_type": "code",
   "execution_count": 9,
   "metadata": {
    "collapsed": false
   },
   "outputs": [
    {
     "data": {
      "text/html": [
       "<div>\n",
       "<table border=\"1\" class=\"dataframe\">\n",
       "  <thead>\n",
       "    <tr style=\"text-align: right;\">\n",
       "      <th></th>\n",
       "      <th>CTL_mean</th>\n",
       "      <th>MDD_mean</th>\n",
       "      <th>pvalue</th>\n",
       "      <th>statistic</th>\n",
       "    </tr>\n",
       "  </thead>\n",
       "  <tbody>\n",
       "    <tr>\n",
       "      <th>a</th>\n",
       "      <td>1.028934</td>\n",
       "      <td>1.142742</td>\n",
       "      <td>0.091527</td>\n",
       "      <td>1.692806</td>\n",
       "    </tr>\n",
       "    <tr>\n",
       "      <th>t</th>\n",
       "      <td>0.213950</td>\n",
       "      <td>0.204295</td>\n",
       "      <td>0.253294</td>\n",
       "      <td>-1.144577</td>\n",
       "    </tr>\n",
       "    <tr>\n",
       "      <th>t_anti</th>\n",
       "      <td>0.128966</td>\n",
       "      <td>0.139217</td>\n",
       "      <td>0.067958</td>\n",
       "      <td>1.831875</td>\n",
       "    </tr>\n",
       "    <tr>\n",
       "      <th>v_anti</th>\n",
       "      <td>10.148298</td>\n",
       "      <td>9.839170</td>\n",
       "      <td>0.532731</td>\n",
       "      <td>-0.624563</td>\n",
       "    </tr>\n",
       "    <tr>\n",
       "      <th>v_pro</th>\n",
       "      <td>6.984221</td>\n",
       "      <td>6.634299</td>\n",
       "      <td>0.155520</td>\n",
       "      <td>-1.423868</td>\n",
       "    </tr>\n",
       "    <tr>\n",
       "      <th>v_stop</th>\n",
       "      <td>9.760866</td>\n",
       "      <td>9.769030</td>\n",
       "      <td>0.982231</td>\n",
       "      <td>0.022290</td>\n",
       "    </tr>\n",
       "  </tbody>\n",
       "</table>\n",
       "</div>"
      ],
      "text/plain": [
       "         CTL_mean  MDD_mean    pvalue  statistic\n",
       "a        1.028934  1.142742  0.091527   1.692806\n",
       "t        0.213950  0.204295  0.253294  -1.144577\n",
       "t_anti   0.128966  0.139217  0.067958   1.831875\n",
       "v_anti  10.148298  9.839170  0.532731  -0.624563\n",
       "v_pro    6.984221  6.634299  0.155520  -1.423868\n",
       "v_stop   9.760866  9.769030  0.982231   0.022290"
      ]
     },
     "execution_count": 9,
     "metadata": {},
     "output_type": "execute_result"
    }
   ],
   "source": [
    "list_of_params = ['t', 'v_pro', 'v_stop', 'v_anti', 't_anti', 'a']\n",
    "d = {}\n",
    "for param in list_of_params:\n",
    "    results = sp.stats.ttest_ind(tw_merged[(tw_merged.feasibility == 'MDD')][param],\n",
    "            tw_merged[(tw_merged.feasibility == 'CTL')][param])\n",
    "    means = tw_merged.groupby('feasibility')[param].mean()\n",
    "    p = {}\n",
    "    p['statistic'] = results[0]\n",
    "    p['pvalue'] = results[1]\n",
    "    p['MDD_mean'] = means[1]\n",
    "    p['CTL_mean'] = means[0]\n",
    "    d[param] = p\n",
    "df = pd.DataFrame.from_dict(d, orient='index')\n",
    "df"
   ]
  },
  {
   "cell_type": "markdown",
   "metadata": {},
   "source": [
    "What about the correlations?"
   ]
  },
  {
   "cell_type": "code",
   "execution_count": 10,
   "metadata": {
    "collapsed": false
   },
   "outputs": [
    {
     "data": {
      "image/png": "[encoded data removed]",
      "text/plain": [
       "<matplotlib.figure.Figure at 0x11274ff10>"
      ]
     },
     "metadata": {},
     "output_type": "display_data"
    }
   ],
   "source": [
    "# Does the v_anti correlation remain? \n",
    "# No\n",
    "\n",
    "executive_shaps = sns.lmplot(y = 'v_anti', x = 'shaps_total_continuous', data = tw_merged[tw_merged['feasibility'] == 'MDD'], ci=68)"
   ]
  },
  {
   "cell_type": "code",
   "execution_count": 12,
   "metadata": {
    "collapsed": false
   },
   "outputs": [
    {
     "data": {
      "image/png": "[encoded data removed]",
      "text/plain": [
       "<matplotlib.figure.Figure at 0x11c7b20d0>"
      ]
     },
     "metadata": {},
     "output_type": "display_data"
    }
   ],
   "source": [
    "# Does the v_anti correlation remain? \n",
    "# No\n",
    "\n",
    "executive_shaps = sns.lmplot(y = 'shaps_total_continuous', x = 'a', data = tw_merged[tw_merged['feasibility'] == 'MDD'], ci=68)"
   ]
  },
  {
   "cell_type": "code",
   "execution_count": 14,
   "metadata": {
    "collapsed": false
   },
   "outputs": [
    {
     "data": {
      "image/png": "[encoded data removed]",
      "text/plain": [
       "<matplotlib.figure.Figure at 0x11caeaa50>"
      ]
     },
     "metadata": {},
     "output_type": "display_data"
    }
   ],
   "source": [
    "# Does it look like thomas' in depressed_flanker.ipynb if we use just the first session people?\n",
    "# No it looks like the opposite\n",
    "\n",
    "just_time_one = tw_merged[tw_merged.ProjectSpecificID.isin(old_ppl.subj_idx.unique())]\n",
    "executive_shaps = sns.lmplot(y = 'shaps_total_continuous', x = 'a', data = just_time_one[just_time_one['feasibility'] == 'MDD'], ci=68)"
   ]
  },
  {
   "cell_type": "code",
   "execution_count": 22,
   "metadata": {
    "collapsed": false
   },
   "outputs": [
    {
     "data": {
      "image/png": "[encoded data removed]",
      "text/plain": [
       "<matplotlib.figure.Figure at 0x112f75910>"
      ]
     },
     "metadata": {},
     "output_type": "display_data"
    }
   ],
   "source": [
    "# And v_pro?\n",
    "\n",
    "prepotent_shaps = sns.lmplot(y = 'v_pro', x = 'shaps_total_continuous', data = tw_merged[tw_merged['feasibility'] == 'MDD'], ci=68)"
   ]
  }
 ],
 "metadata": {
  "kernelspec": {
   "display_name": "Python (2.7)",
   "language": "python",
   "name": "pythontwo"
  },
  "language_info": {
   "codemirror_mode": {
    "name": "ipython",
    "version": 2
   },
   "file_extension": ".py",
   "mimetype": "text/x-python",
   "name": "python",
   "nbconvert_exporter": "python",
   "pygments_lexer": "ipython2",
   "version": "2.7.13"
  }
 },
 "nbformat": 4,
 "nbformat_minor": 0
}
