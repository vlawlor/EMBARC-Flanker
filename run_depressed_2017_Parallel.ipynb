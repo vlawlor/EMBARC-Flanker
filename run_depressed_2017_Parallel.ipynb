{
 "cells": [
  {
   "cell_type": "markdown",
   "metadata": {},
   "source": [
    "To get the parallel stuff to work, you need to go into the terminal in whichever environment you are in and type 'ipcluster start --n=60' where n is the number of engines. Need to have ipyparallel and ipcluster installed. "
   ]
  },
  {
   "cell_type": "code",
   "execution_count": 1,
   "metadata": {
    "collapsed": false,
    "scrolled": true
   },
   "outputs": [
    {
     "name": "stderr",
     "output_type": "stream",
     "text": [
      "/Users/mlm2/anaconda/envs/pythontwo/lib/python2.7/site-packages/IPython/parallel.py:13: ShimWarning: The `IPython.parallel` package has been deprecated since IPython 4.0. You should import from ipyparallel instead.\n",
      "  \"You should import from ipyparallel instead.\", ShimWarning)\n",
      "/Users/mlm2/anaconda/envs/pythontwo/lib/python2.7/site-packages/IPython/html.py:14: ShimWarning: The `IPython.html` package has been deprecated since IPython 4.0. You should import from `notebook` instead. `IPython.html.widgets` has moved to `ipywidgets`.\n",
      "  \"`IPython.html.widgets` has moved to `ipywidgets`.\", ShimWarning)\n",
      "/Users/mlm2/anaconda/envs/pythontwo/lib/python2.7/site-packages/rpy2/rinterface/__init__.py:186: RRuntimeWarning: Loading required package: estimability\n",
      "\n",
      "  warnings.warn(x, RRuntimeWarning)\n",
      "/Users/mlm2/anaconda/envs/pythontwo/lib/python2.7/site-packages/rpy2/rinterface/__init__.py:186: RRuntimeWarning: Loading required package: lme4\n",
      "\n",
      "  warnings.warn(x, RRuntimeWarning)\n",
      "/Users/mlm2/anaconda/envs/pythontwo/lib/python2.7/site-packages/rpy2/rinterface/__init__.py:186: RRuntimeWarning: Loading required package: Matrix\n",
      "\n",
      "  warnings.warn(x, RRuntimeWarning)\n",
      "/Users/mlm2/anaconda/envs/pythontwo/lib/python2.7/site-packages/rpy2/rinterface/__init__.py:186: RRuntimeWarning: Loading required package: reshape2\n",
      "\n",
      "  warnings.warn(x, RRuntimeWarning)\n",
      "/Users/mlm2/anaconda/envs/pythontwo/lib/python2.7/site-packages/rpy2/rinterface/__init__.py:186: RRuntimeWarning: ************\n",
      "Welcome to afex. Important changes in the current version:\n",
      "\n",
      "  warnings.warn(x, RRuntimeWarning)\n",
      "/Users/mlm2/anaconda/envs/pythontwo/lib/python2.7/site-packages/rpy2/rinterface/__init__.py:186: RRuntimeWarning: - Functions for ANOVAs have been renamed to: aov_car(), aov_ez(), and aov_4().\n",
      "- ANOVA functions return an object of class 'afex_aov' as default, see: ?aov_car\n",
      "- 'afex_aov' objects can be passed to lsmeans for contrasts and follow-up tests.\n",
      "- Reset previous (faster) behavior via: afex_options(return_aov='nice')\n",
      "- Many more arguments can now be set globally via options, see: afex_options()\n",
      "************\n",
      "\n",
      "  warnings.warn(x, RRuntimeWarning)\n",
      "/Users/mlm2/anaconda/envs/pythontwo/lib/python2.7/site-packages/rpy2/rinterface/__init__.py:186: RRuntimeWarning: Loading required package: MASS\n",
      "\n",
      "  warnings.warn(x, RRuntimeWarning)\n"
     ]
    },
    {
     "data": {
      "text/plain": [
       "array(['ppcor', 'MASS', 'afex', 'reshape2', 'lme4', 'Matrix', 'lsmeans',\n",
       "       'estimability', 'tools', 'stats', 'graphics', 'grDevices', 'utils',\n",
       "       'datasets', 'methods', 'base'], \n",
       "      dtype='|S12')"
      ]
     },
     "execution_count": 1,
     "metadata": {},
     "output_type": "execute_result"
    }
   ],
   "source": [
    "import pandas as pd\n",
    "import hddm\n",
    "import scipy as sp\n",
    "import seaborn as sns\n",
    "import os\n",
    "os.environ['R_HOME'] = '/Users/mlm2/anaconda/envs/pythonthreefive/lib/R' # couldn't find R in this environment for some reason\n",
    "% matplotlib inline \n",
    "% load_ext rpy2.ipython\n",
    "%R library(lsmeans)\n",
    "%R library(afex)\n",
    "%R library(ppcor)"
   ]
  },
  {
   "cell_type": "code",
   "execution_count": 2,
   "metadata": {
    "collapsed": false
   },
   "outputs": [],
   "source": [
    "import ipyparallel as ipp\n",
    "from ipyparallel import Client\n",
    "\n",
    "c = ipp.Client(timeout=100)\n",
    "view = c.load_balanced_view()"
   ]
  },
  {
   "cell_type": "code",
   "execution_count": 3,
   "metadata": {
    "collapsed": false
   },
   "outputs": [
    {
     "name": "stdout",
     "output_type": "stream",
     "text": [
      "Initializing random numbers as (10000, 3)\n",
      "[stdout:0] Initializing random numbers as (10000, 3)\n",
      "[stdout:1] Initializing random numbers as (10000, 3)\n",
      "[stdout:2] Initializing random numbers as (10000, 3)\n",
      "[stdout:3] Initializing random numbers as (10000, 3)\n",
      "[stdout:4] Initializing random numbers as (10000, 3)\n",
      "[stdout:5] Initializing random numbers as (10000, 3)\n",
      "[stdout:6] Initializing random numbers as (10000, 3)\n",
      "[stdout:7] Initializing random numbers as (10000, 3)\n",
      "[stdout:8] Initializing random numbers as (10000, 3)\n",
      "[stdout:9] Initializing random numbers as (10000, 3)\n",
      "[stdout:10] Initializing random numbers as (10000, 3)\n",
      "[stdout:11] Initializing random numbers as (10000, 3)\n",
      "[stdout:12] Initializing random numbers as (10000, 3)\n",
      "[stdout:13] Initializing random numbers as (10000, 3)\n",
      "[stdout:14] Initializing random numbers as (10000, 3)\n",
      "[stdout:15] Initializing random numbers as (10000, 3)\n",
      "[stdout:16] Initializing random numbers as (10000, 3)\n",
      "[stdout:17] Initializing random numbers as (10000, 3)\n",
      "[stdout:18] Initializing random numbers as (10000, 3)\n",
      "[stdout:19] Initializing random numbers as (10000, 3)\n",
      "[stdout:20] Initializing random numbers as (10000, 3)\n",
      "[stdout:21] Initializing random numbers as (10000, 3)\n",
      "[stdout:22] Initializing random numbers as (10000, 3)\n",
      "[stdout:23] Initializing random numbers as (10000, 3)\n",
      "[stdout:24] Initializing random numbers as (10000, 3)\n",
      "[stdout:25] Initializing random numbers as (10000, 3)\n",
      "[stdout:26] Initializing random numbers as (10000, 3)\n",
      "[stdout:27] Initializing random numbers as (10000, 3)\n",
      "[stdout:28] Initializing random numbers as (10000, 3)\n",
      "[stdout:29] Initializing random numbers as (10000, 3)\n",
      "[stdout:30] Initializing random numbers as (10000, 3)\n",
      "[stdout:31] Initializing random numbers as (10000, 3)\n",
      "[stdout:32] Initializing random numbers as (10000, 3)\n",
      "[stdout:33] Initializing random numbers as (10000, 3)\n",
      "[stdout:34] Initializing random numbers as (10000, 3)\n",
      "[stdout:35] Initializing random numbers as (10000, 3)\n",
      "[stdout:36] Initializing random numbers as (10000, 3)\n",
      "[stdout:37] Initializing random numbers as (10000, 3)\n",
      "[stdout:38] Initializing random numbers as (10000, 3)\n",
      "[stdout:39] Initializing random numbers as (10000, 3)\n",
      "[stdout:40] Initializing random numbers as (10000, 3)\n",
      "[stdout:41] Initializing random numbers as (10000, 3)\n",
      "[stdout:42] Initializing random numbers as (10000, 3)\n",
      "[stdout:43] Initializing random numbers as (10000, 3)\n",
      "[stdout:44] Initializing random numbers as (10000, 3)\n",
      "[stdout:45] Initializing random numbers as (10000, 3)\n",
      "[stdout:46] Initializing random numbers as (10000, 3)\n",
      "[stdout:47] Initializing random numbers as (10000, 3)\n",
      "[stdout:48] Initializing random numbers as (10000, 3)\n",
      "[stdout:49] Initializing random numbers as (10000, 3)\n"
     ]
    },
    {
     "name": "stderr",
     "output_type": "stream",
     "text": [
      "[stderr:0] \n",
      "/Users/mlm2/anaconda/envs/pythontwo/lib/python2.7/site-packages/IPython/parallel.py:13: ShimWarning: The `IPython.parallel` package has been deprecated since IPython 4.0. You should import from ipyparallel instead.\n",
      "  \"You should import from ipyparallel instead.\", ShimWarning)\n",
      "[stderr:1] \n",
      "/Users/mlm2/anaconda/envs/pythontwo/lib/python2.7/site-packages/IPython/parallel.py:13: ShimWarning: The `IPython.parallel` package has been deprecated since IPython 4.0. You should import from ipyparallel instead.\n",
      "  \"You should import from ipyparallel instead.\", ShimWarning)\n",
      "[stderr:2] \n",
      "/Users/mlm2/anaconda/envs/pythontwo/lib/python2.7/site-packages/IPython/parallel.py:13: ShimWarning: The `IPython.parallel` package has been deprecated since IPython 4.0. You should import from ipyparallel instead.\n",
      "  \"You should import from ipyparallel instead.\", ShimWarning)\n",
      "[stderr:3] \n",
      "/Users/mlm2/anaconda/envs/pythontwo/lib/python2.7/site-packages/IPython/parallel.py:13: ShimWarning: The `IPython.parallel` package has been deprecated since IPython 4.0. You should import from ipyparallel instead.\n",
      "  \"You should import from ipyparallel instead.\", ShimWarning)\n",
      "[stderr:4] \n",
      "/Users/mlm2/anaconda/envs/pythontwo/lib/python2.7/site-packages/IPython/parallel.py:13: ShimWarning: The `IPython.parallel` package has been deprecated since IPython 4.0. You should import from ipyparallel instead.\n",
      "  \"You should import from ipyparallel instead.\", ShimWarning)\n",
      "[stderr:5] \n",
      "/Users/mlm2/anaconda/envs/pythontwo/lib/python2.7/site-packages/IPython/parallel.py:13: ShimWarning: The `IPython.parallel` package has been deprecated since IPython 4.0. You should import from ipyparallel instead.\n",
      "  \"You should import from ipyparallel instead.\", ShimWarning)\n",
      "[stderr:6] \n",
      "/Users/mlm2/anaconda/envs/pythontwo/lib/python2.7/site-packages/IPython/parallel.py:13: ShimWarning: The `IPython.parallel` package has been deprecated since IPython 4.0. You should import from ipyparallel instead.\n",
      "  \"You should import from ipyparallel instead.\", ShimWarning)\n",
      "[stderr:7] \n",
      "/Users/mlm2/anaconda/envs/pythontwo/lib/python2.7/site-packages/IPython/parallel.py:13: ShimWarning: The `IPython.parallel` package has been deprecated since IPython 4.0. You should import from ipyparallel instead.\n",
      "  \"You should import from ipyparallel instead.\", ShimWarning)\n",
      "[stderr:8] \n",
      "/Users/mlm2/anaconda/envs/pythontwo/lib/python2.7/site-packages/IPython/parallel.py:13: ShimWarning: The `IPython.parallel` package has been deprecated since IPython 4.0. You should import from ipyparallel instead.\n",
      "  \"You should import from ipyparallel instead.\", ShimWarning)\n",
      "[stderr:9] \n",
      "/Users/mlm2/anaconda/envs/pythontwo/lib/python2.7/site-packages/IPython/parallel.py:13: ShimWarning: The `IPython.parallel` package has been deprecated since IPython 4.0. You should import from ipyparallel instead.\n",
      "  \"You should import from ipyparallel instead.\", ShimWarning)\n",
      "[stderr:10] \n",
      "/Users/mlm2/anaconda/envs/pythontwo/lib/python2.7/site-packages/IPython/parallel.py:13: ShimWarning: The `IPython.parallel` package has been deprecated since IPython 4.0. You should import from ipyparallel instead.\n",
      "  \"You should import from ipyparallel instead.\", ShimWarning)\n",
      "[stderr:11] \n",
      "/Users/mlm2/anaconda/envs/pythontwo/lib/python2.7/site-packages/IPython/parallel.py:13: ShimWarning: The `IPython.parallel` package has been deprecated since IPython 4.0. You should import from ipyparallel instead.\n",
      "  \"You should import from ipyparallel instead.\", ShimWarning)\n",
      "[stderr:12] \n",
      "/Users/mlm2/anaconda/envs/pythontwo/lib/python2.7/site-packages/IPython/parallel.py:13: ShimWarning: The `IPython.parallel` package has been deprecated since IPython 4.0. You should import from ipyparallel instead.\n",
      "  \"You should import from ipyparallel instead.\", ShimWarning)\n",
      "[stderr:13] \n",
      "/Users/mlm2/anaconda/envs/pythontwo/lib/python2.7/site-packages/IPython/parallel.py:13: ShimWarning: The `IPython.parallel` package has been deprecated since IPython 4.0. You should import from ipyparallel instead.\n",
      "  \"You should import from ipyparallel instead.\", ShimWarning)\n",
      "[stderr:14] \n",
      "/Users/mlm2/anaconda/envs/pythontwo/lib/python2.7/site-packages/IPython/parallel.py:13: ShimWarning: The `IPython.parallel` package has been deprecated since IPython 4.0. You should import from ipyparallel instead.\n",
      "  \"You should import from ipyparallel instead.\", ShimWarning)\n",
      "[stderr:15] \n",
      "/Users/mlm2/anaconda/envs/pythontwo/lib/python2.7/site-packages/IPython/parallel.py:13: ShimWarning: The `IPython.parallel` package has been deprecated since IPython 4.0. You should import from ipyparallel instead.\n",
      "  \"You should import from ipyparallel instead.\", ShimWarning)\n",
      "[stderr:16] \n",
      "/Users/mlm2/anaconda/envs/pythontwo/lib/python2.7/site-packages/IPython/parallel.py:13: ShimWarning: The `IPython.parallel` package has been deprecated since IPython 4.0. You should import from ipyparallel instead.\n",
      "  \"You should import from ipyparallel instead.\", ShimWarning)\n",
      "[stderr:17] \n",
      "/Users/mlm2/anaconda/envs/pythontwo/lib/python2.7/site-packages/IPython/parallel.py:13: ShimWarning: The `IPython.parallel` package has been deprecated since IPython 4.0. You should import from ipyparallel instead.\n",
      "  \"You should import from ipyparallel instead.\", ShimWarning)\n",
      "[stderr:18] \n",
      "/Users/mlm2/anaconda/envs/pythontwo/lib/python2.7/site-packages/IPython/parallel.py:13: ShimWarning: The `IPython.parallel` package has been deprecated since IPython 4.0. You should import from ipyparallel instead.\n",
      "  \"You should import from ipyparallel instead.\", ShimWarning)\n",
      "[stderr:19] \n",
      "/Users/mlm2/anaconda/envs/pythontwo/lib/python2.7/site-packages/IPython/parallel.py:13: ShimWarning: The `IPython.parallel` package has been deprecated since IPython 4.0. You should import from ipyparallel instead.\n",
      "  \"You should import from ipyparallel instead.\", ShimWarning)\n",
      "[stderr:20] \n",
      "/Users/mlm2/anaconda/envs/pythontwo/lib/python2.7/site-packages/IPython/parallel.py:13: ShimWarning: The `IPython.parallel` package has been deprecated since IPython 4.0. You should import from ipyparallel instead.\n",
      "  \"You should import from ipyparallel instead.\", ShimWarning)\n",
      "[stderr:21] \n",
      "/Users/mlm2/anaconda/envs/pythontwo/lib/python2.7/site-packages/IPython/parallel.py:13: ShimWarning: The `IPython.parallel` package has been deprecated since IPython 4.0. You should import from ipyparallel instead.\n",
      "  \"You should import from ipyparallel instead.\", ShimWarning)\n",
      "[stderr:22] \n",
      "/Users/mlm2/anaconda/envs/pythontwo/lib/python2.7/site-packages/IPython/parallel.py:13: ShimWarning: The `IPython.parallel` package has been deprecated since IPython 4.0. You should import from ipyparallel instead.\n",
      "  \"You should import from ipyparallel instead.\", ShimWarning)\n",
      "[stderr:23] \n",
      "/Users/mlm2/anaconda/envs/pythontwo/lib/python2.7/site-packages/IPython/parallel.py:13: ShimWarning: The `IPython.parallel` package has been deprecated since IPython 4.0. You should import from ipyparallel instead.\n",
      "  \"You should import from ipyparallel instead.\", ShimWarning)\n",
      "[stderr:24] \n",
      "/Users/mlm2/anaconda/envs/pythontwo/lib/python2.7/site-packages/IPython/parallel.py:13: ShimWarning: The `IPython.parallel` package has been deprecated since IPython 4.0. You should import from ipyparallel instead.\n",
      "  \"You should import from ipyparallel instead.\", ShimWarning)\n",
      "[stderr:25] \n",
      "/Users/mlm2/anaconda/envs/pythontwo/lib/python2.7/site-packages/IPython/parallel.py:13: ShimWarning: The `IPython.parallel` package has been deprecated since IPython 4.0. You should import from ipyparallel instead.\n",
      "  \"You should import from ipyparallel instead.\", ShimWarning)\n",
      "[stderr:26] \n",
      "/Users/mlm2/anaconda/envs/pythontwo/lib/python2.7/site-packages/IPython/parallel.py:13: ShimWarning: The `IPython.parallel` package has been deprecated since IPython 4.0. You should import from ipyparallel instead.\n",
      "  \"You should import from ipyparallel instead.\", ShimWarning)\n",
      "[stderr:27] \n",
      "/Users/mlm2/anaconda/envs/pythontwo/lib/python2.7/site-packages/IPython/parallel.py:13: ShimWarning: The `IPython.parallel` package has been deprecated since IPython 4.0. You should import from ipyparallel instead.\n",
      "  \"You should import from ipyparallel instead.\", ShimWarning)\n",
      "[stderr:28] \n",
      "/Users/mlm2/anaconda/envs/pythontwo/lib/python2.7/site-packages/IPython/parallel.py:13: ShimWarning: The `IPython.parallel` package has been deprecated since IPython 4.0. You should import from ipyparallel instead.\n",
      "  \"You should import from ipyparallel instead.\", ShimWarning)\n",
      "[stderr:29] \n",
      "/Users/mlm2/anaconda/envs/pythontwo/lib/python2.7/site-packages/IPython/parallel.py:13: ShimWarning: The `IPython.parallel` package has been deprecated since IPython 4.0. You should import from ipyparallel instead.\n",
      "  \"You should import from ipyparallel instead.\", ShimWarning)\n",
      "[stderr:30] \n",
      "/Users/mlm2/anaconda/envs/pythontwo/lib/python2.7/site-packages/IPython/parallel.py:13: ShimWarning: The `IPython.parallel` package has been deprecated since IPython 4.0. You should import from ipyparallel instead.\n",
      "  \"You should import from ipyparallel instead.\", ShimWarning)\n",
      "[stderr:31] \n",
      "/Users/mlm2/anaconda/envs/pythontwo/lib/python2.7/site-packages/IPython/parallel.py:13: ShimWarning: The `IPython.parallel` package has been deprecated since IPython 4.0. You should import from ipyparallel instead.\n",
      "  \"You should import from ipyparallel instead.\", ShimWarning)\n",
      "[stderr:32] \n",
      "/Users/mlm2/anaconda/envs/pythontwo/lib/python2.7/site-packages/IPython/parallel.py:13: ShimWarning: The `IPython.parallel` package has been deprecated since IPython 4.0. You should import from ipyparallel instead.\n",
      "  \"You should import from ipyparallel instead.\", ShimWarning)\n",
      "[stderr:33] \n",
      "/Users/mlm2/anaconda/envs/pythontwo/lib/python2.7/site-packages/IPython/parallel.py:13: ShimWarning: The `IPython.parallel` package has been deprecated since IPython 4.0. You should import from ipyparallel instead.\n",
      "  \"You should import from ipyparallel instead.\", ShimWarning)\n",
      "[stderr:34] \n",
      "/Users/mlm2/anaconda/envs/pythontwo/lib/python2.7/site-packages/IPython/parallel.py:13: ShimWarning: The `IPython.parallel` package has been deprecated since IPython 4.0. You should import from ipyparallel instead.\n",
      "  \"You should import from ipyparallel instead.\", ShimWarning)\n",
      "[stderr:35] \n",
      "/Users/mlm2/anaconda/envs/pythontwo/lib/python2.7/site-packages/IPython/parallel.py:13: ShimWarning: The `IPython.parallel` package has been deprecated since IPython 4.0. You should import from ipyparallel instead.\n",
      "  \"You should import from ipyparallel instead.\", ShimWarning)\n",
      "[stderr:36] \n",
      "/Users/mlm2/anaconda/envs/pythontwo/lib/python2.7/site-packages/IPython/parallel.py:13: ShimWarning: The `IPython.parallel` package has been deprecated since IPython 4.0. You should import from ipyparallel instead.\n",
      "  \"You should import from ipyparallel instead.\", ShimWarning)\n",
      "[stderr:37] \n",
      "/Users/mlm2/anaconda/envs/pythontwo/lib/python2.7/site-packages/IPython/parallel.py:13: ShimWarning: The `IPython.parallel` package has been deprecated since IPython 4.0. You should import from ipyparallel instead.\n",
      "  \"You should import from ipyparallel instead.\", ShimWarning)\n",
      "[stderr:38] \n",
      "/Users/mlm2/anaconda/envs/pythontwo/lib/python2.7/site-packages/IPython/parallel.py:13: ShimWarning: The `IPython.parallel` package has been deprecated since IPython 4.0. You should import from ipyparallel instead.\n",
      "  \"You should import from ipyparallel instead.\", ShimWarning)\n",
      "[stderr:39] \n",
      "/Users/mlm2/anaconda/envs/pythontwo/lib/python2.7/site-packages/IPython/parallel.py:13: ShimWarning: The `IPython.parallel` package has been deprecated since IPython 4.0. You should import from ipyparallel instead.\n",
      "  \"You should import from ipyparallel instead.\", ShimWarning)\n",
      "[stderr:40] \n",
      "/Users/mlm2/anaconda/envs/pythontwo/lib/python2.7/site-packages/IPython/parallel.py:13: ShimWarning: The `IPython.parallel` package has been deprecated since IPython 4.0. You should import from ipyparallel instead.\n",
      "  \"You should import from ipyparallel instead.\", ShimWarning)\n",
      "[stderr:41] \n",
      "/Users/mlm2/anaconda/envs/pythontwo/lib/python2.7/site-packages/IPython/parallel.py:13: ShimWarning: The `IPython.parallel` package has been deprecated since IPython 4.0. You should import from ipyparallel instead.\n",
      "  \"You should import from ipyparallel instead.\", ShimWarning)\n",
      "[stderr:42] \n",
      "/Users/mlm2/anaconda/envs/pythontwo/lib/python2.7/site-packages/IPython/parallel.py:13: ShimWarning: The `IPython.parallel` package has been deprecated since IPython 4.0. You should import from ipyparallel instead.\n",
      "  \"You should import from ipyparallel instead.\", ShimWarning)\n",
      "[stderr:43] \n",
      "/Users/mlm2/anaconda/envs/pythontwo/lib/python2.7/site-packages/IPython/parallel.py:13: ShimWarning: The `IPython.parallel` package has been deprecated since IPython 4.0. You should import from ipyparallel instead.\n",
      "  \"You should import from ipyparallel instead.\", ShimWarning)\n",
      "[stderr:44] \n",
      "/Users/mlm2/anaconda/envs/pythontwo/lib/python2.7/site-packages/IPython/parallel.py:13: ShimWarning: The `IPython.parallel` package has been deprecated since IPython 4.0. You should import from ipyparallel instead.\n",
      "  \"You should import from ipyparallel instead.\", ShimWarning)\n",
      "[stderr:45] \n",
      "/Users/mlm2/anaconda/envs/pythontwo/lib/python2.7/site-packages/IPython/parallel.py:13: ShimWarning: The `IPython.parallel` package has been deprecated since IPython 4.0. You should import from ipyparallel instead.\n",
      "  \"You should import from ipyparallel instead.\", ShimWarning)\n",
      "[stderr:46] \n",
      "/Users/mlm2/anaconda/envs/pythontwo/lib/python2.7/site-packages/IPython/parallel.py:13: ShimWarning: The `IPython.parallel` package has been deprecated since IPython 4.0. You should import from ipyparallel instead.\n",
      "  \"You should import from ipyparallel instead.\", ShimWarning)\n",
      "[stderr:47] \n",
      "/Users/mlm2/anaconda/envs/pythontwo/lib/python2.7/site-packages/IPython/parallel.py:13: ShimWarning: The `IPython.parallel` package has been deprecated since IPython 4.0. You should import from ipyparallel instead.\n",
      "  \"You should import from ipyparallel instead.\", ShimWarning)\n",
      "[stderr:48] \n",
      "/Users/mlm2/anaconda/envs/pythontwo/lib/python2.7/site-packages/IPython/parallel.py:13: ShimWarning: The `IPython.parallel` package has been deprecated since IPython 4.0. You should import from ipyparallel instead.\n",
      "  \"You should import from ipyparallel instead.\", ShimWarning)\n",
      "[stderr:49] \n",
      "/Users/mlm2/anaconda/envs/pythontwo/lib/python2.7/site-packages/IPython/parallel.py:13: ShimWarning: The `IPython.parallel` package has been deprecated since IPython 4.0. You should import from ipyparallel instead.\n",
      "  \"You should import from ipyparallel instead.\", ShimWarning)\n"
     ]
    }
   ],
   "source": [
    "%%px --local\n",
    "# if you don't do this then the 60 nodes can't find accumodel\n",
    "import accumodel\n",
    "#accumodel.set_estimator(accumodel.estimators.OptimizeEstimator(accumodel.models.WaldAntiStopFixedThres))\n",
    "accumodel.set_estimator(accumodel.estimators.OptimizeEstimator(accumodel.models.WaldAntiStop))"
   ]
  },
  {
   "cell_type": "markdown",
   "metadata": {},
   "source": [
    "# Flanker Depressed"
   ]
  },
  {
   "cell_type": "code",
   "execution_count": 4,
   "metadata": {
    "collapsed": false
   },
   "outputs": [],
   "source": [
    "clin_data = pd.read_csv('/Users/mlm2/Work/Expts/EMBARC/Data/Flanker/Processed/EMBARC_Flk_Clin_s1_Mar-16-1002AM-2017.csv')\n",
    "use = clin_data[clin_data.flanker_qc == 1] # only use these people\n",
    "subs_to_use = use.ProjectSpecificID.unique()"
   ]
  },
  {
   "cell_type": "code",
   "execution_count": 5,
   "metadata": {
    "collapsed": false
   },
   "outputs": [],
   "source": [
    "# load in the data and put it in the correct format for ddm\n",
    "data = pd.read_csv('/Users/mlm2/Work/Expts/EMBARC/Data/Flanker/Processed/EMBARC_Flk_DDM_Clin_s1_Mar-16-1002AM-2017.csv')\n",
    "data['rt'] /= 1000.\n",
    "data['response'] = data.accuracy\n",
    "data['subj_idx'] = data.ProjectSpecificID\n",
    "data['conf'] = False\n",
    "data['cond'] = 'incong'\n",
    "data.loc[data.stimulus == 'CON', 'cond'] = 'cong'\n",
    "data.loc[data.cond == 'incong', 'conf'] = True\n",
    "\n",
    "#data = data[data.outlier == 0] # accumodel has it built in to take out the outliers\n",
    "\n",
    "data = hddm.utils.flip_errors(data)\n",
    "data.ix[data.conf, 'rt'] *= -1\n",
    "\n",
    "#data = data.loc[data.ProjectSpecificID == 'CU0009'] # remove the people who should be excluded based on qc fails\n",
    "data = data.loc[data.ProjectSpecificID.isin(subs_to_use)] # remove the people who should be excluded based on qc fails"
   ]
  },
  {
   "cell_type": "code",
   "execution_count": 6,
   "metadata": {
    "collapsed": false
   },
   "outputs": [
    {
     "data": {
      "image/png": "[encoded data removed]",
      "text/plain": [
       "<matplotlib.figure.Figure at 0x1194db190>"
      ]
     },
     "metadata": {},
     "output_type": "display_data"
    }
   ],
   "source": [
    "import seaborn as sns\n",
    "% matplotlib inline \n",
    "ax = sns.plt.subplot(1, 1, 1, xlabel='RT', ylabel='accuracy', title=c)\n",
    "data.ix[data.cond == 'cong', 'rt'].hist(bins=200, histtype='step', range=(-1, 1), normed=True, lw=2, ax=ax);\n",
    "(data.ix[data.cond == 'incong', 'rt']).hist(bins=200, histtype='step', range=(-1, 1), normed=True, lw=2, ax=ax);"
   ]
  },
  {
   "cell_type": "code",
   "execution_count": 4,
   "metadata": {
    "collapsed": false,
    "scrolled": true
   },
   "outputs": [
    {
     "name": "stdout",
     "output_type": "stream",
     "text": [
      "[stdout:0] mlms-imac.mclean.harvard.edu\n",
      "[stdout:1] mlms-imac.mclean.harvard.edu\n",
      "[stdout:2] mlms-imac.mclean.harvard.edu\n",
      "[stdout:3] mlms-imac.mclean.harvard.edu\n",
      "[stdout:4] mlms-imac.mclean.harvard.edu\n",
      "[stdout:5] mlms-imac.mclean.harvard.edu\n",
      "[stdout:6] mlms-imac.mclean.harvard.edu\n",
      "[stdout:7] mlms-imac.mclean.harvard.edu\n",
      "[stdout:8] mlms-imac.mclean.harvard.edu\n",
      "[stdout:9] mlms-imac.mclean.harvard.edu\n",
      "[stdout:10] mlms-imac.mclean.harvard.edu\n",
      "[stdout:11] mlms-imac.mclean.harvard.edu\n",
      "[stdout:12] mlms-imac.mclean.harvard.edu\n",
      "[stdout:13] mlms-imac.mclean.harvard.edu\n",
      "[stdout:14] mlms-imac.mclean.harvard.edu\n",
      "[stdout:15] mlms-imac.mclean.harvard.edu\n",
      "[stdout:16] mlms-imac.mclean.harvard.edu\n",
      "[stdout:17] mlms-imac.mclean.harvard.edu\n",
      "[stdout:18] mlms-imac.mclean.harvard.edu\n",
      "[stdout:19] mlms-imac.mclean.harvard.edu\n",
      "[stdout:20] mlms-imac.mclean.harvard.edu\n",
      "[stdout:21] mlms-imac.mclean.harvard.edu\n",
      "[stdout:22] mlms-imac.mclean.harvard.edu\n",
      "[stdout:23] mlms-imac.mclean.harvard.edu\n",
      "[stdout:24] mlms-imac.mclean.harvard.edu\n",
      "[stdout:25] mlms-imac.mclean.harvard.edu\n",
      "[stdout:26] mlms-imac.mclean.harvard.edu\n",
      "[stdout:27] mlms-imac.mclean.harvard.edu\n",
      "[stdout:28] mlms-imac.mclean.harvard.edu\n",
      "[stdout:29] mlms-imac.mclean.harvard.edu\n",
      "[stdout:30] mlms-imac.mclean.harvard.edu\n",
      "[stdout:31] mlms-imac.mclean.harvard.edu\n",
      "[stdout:32] mlms-imac.mclean.harvard.edu\n",
      "[stdout:33] mlms-imac.mclean.harvard.edu\n",
      "[stdout:34] mlms-imac.mclean.harvard.edu\n",
      "[stdout:35] mlms-imac.mclean.harvard.edu\n",
      "[stdout:36] mlms-imac.mclean.harvard.edu\n",
      "[stdout:37] mlms-imac.mclean.harvard.edu\n",
      "[stdout:38] mlms-imac.mclean.harvard.edu\n",
      "[stdout:39] mlms-imac.mclean.harvard.edu\n",
      "[stdout:40] mlms-imac.mclean.harvard.edu\n",
      "[stdout:41] mlms-imac.mclean.harvard.edu\n",
      "[stdout:42] mlms-imac.mclean.harvard.edu\n",
      "[stdout:43] mlms-imac.mclean.harvard.edu\n",
      "[stdout:44] mlms-imac.mclean.harvard.edu\n",
      "[stdout:45] mlms-imac.mclean.harvard.edu\n",
      "[stdout:46] mlms-imac.mclean.harvard.edu\n",
      "[stdout:47] mlms-imac.mclean.harvard.edu\n",
      "[stdout:48] mlms-imac.mclean.harvard.edu\n",
      "[stdout:49] mlms-imac.mclean.harvard.edu\n"
     ]
    }
   ],
   "source": [
    "%px import socket; print(socket.gethostname())"
   ]
  },
  {
   "cell_type": "code",
   "execution_count": 7,
   "metadata": {
    "collapsed": false
   },
   "outputs": [],
   "source": [
    "# this goes through each subject in the csv and creates a new csv with the parameters for each of the subjects\n",
    "\n",
    "for sub in data.ProjectSpecificID.unique():\n",
    "    sub_data = data.loc[data.ProjectSpecificID == sub]\n",
    "    res_dep = view.map_sync(lambda x: accumodel.models.estimate_subj(x),\n",
    "                            sub_data.groupby('subj_idx'))\n",
    "    res_dep_df = pd.concat([pd.DataFrame(r).T for r in res_dep])\n",
    "    res_dep_df.to_csv('fits_flanker_' + sub + '.csv', index=True)"
   ]
  },
  {
   "cell_type": "code",
   "execution_count": 33,
   "metadata": {
    "collapsed": false
   },
   "outputs": [],
   "source": [
    "# go through all of these individual csvs and make one large df\n",
    "\n",
    "file_list = !ls TW_components/*csv\n",
    "tw_df = pd.DataFrame()\n",
    "for file in file_list:\n",
    "    tw_df = tw_df.append(pd.read_csv(file))\n",
    "tw_df.rename(columns={'Unnamed: 0': 'ProjectSpecificID'}, inplace=True)"
   ]
  },
  {
   "cell_type": "code",
   "execution_count": 34,
   "metadata": {
    "collapsed": false
   },
   "outputs": [
    {
     "data": {
      "text/html": [
       "<div>\n",
       "<table border=\"1\" class=\"dataframe\">\n",
       "  <thead>\n",
       "    <tr style=\"text-align: right;\">\n",
       "      <th></th>\n",
       "      <th>ProjectSpecificID</th>\n",
       "      <th>t</th>\n",
       "      <th>a</th>\n",
       "      <th>v_pro</th>\n",
       "      <th>v_stop</th>\n",
       "      <th>v_anti</th>\n",
       "      <th>t_anti</th>\n",
       "    </tr>\n",
       "  </thead>\n",
       "  <tbody>\n",
       "    <tr>\n",
       "      <th>0</th>\n",
       "      <td>CU0009</td>\n",
       "      <td>0.243810</td>\n",
       "      <td>0.830434</td>\n",
       "      <td>5.513486</td>\n",
       "      <td>8.782450</td>\n",
       "      <td>13.633526</td>\n",
       "      <td>0.158691</td>\n",
       "    </tr>\n",
       "    <tr>\n",
       "      <th>0</th>\n",
       "      <td>CU0011</td>\n",
       "      <td>0.240681</td>\n",
       "      <td>1.410445</td>\n",
       "      <td>7.384086</td>\n",
       "      <td>11.147636</td>\n",
       "      <td>7.677219</td>\n",
       "      <td>0.085399</td>\n",
       "    </tr>\n",
       "    <tr>\n",
       "      <th>0</th>\n",
       "      <td>CU0013</td>\n",
       "      <td>0.202924</td>\n",
       "      <td>1.198627</td>\n",
       "      <td>8.063158</td>\n",
       "      <td>10.480167</td>\n",
       "      <td>9.406476</td>\n",
       "      <td>0.135845</td>\n",
       "    </tr>\n",
       "    <tr>\n",
       "      <th>0</th>\n",
       "      <td>CU0014</td>\n",
       "      <td>0.254951</td>\n",
       "      <td>0.475997</td>\n",
       "      <td>4.209409</td>\n",
       "      <td>5.397583</td>\n",
       "      <td>5.978123</td>\n",
       "      <td>0.135637</td>\n",
       "    </tr>\n",
       "    <tr>\n",
       "      <th>0</th>\n",
       "      <td>CU0016</td>\n",
       "      <td>0.237211</td>\n",
       "      <td>1.357512</td>\n",
       "      <td>6.812568</td>\n",
       "      <td>10.929441</td>\n",
       "      <td>7.290664</td>\n",
       "      <td>0.106280</td>\n",
       "    </tr>\n",
       "  </tbody>\n",
       "</table>\n",
       "</div>"
      ],
      "text/plain": [
       "  ProjectSpecificID         t         a     v_pro     v_stop     v_anti  \\\n",
       "0            CU0009  0.243810  0.830434  5.513486   8.782450  13.633526   \n",
       "0            CU0011  0.240681  1.410445  7.384086  11.147636   7.677219   \n",
       "0            CU0013  0.202924  1.198627  8.063158  10.480167   9.406476   \n",
       "0            CU0014  0.254951  0.475997  4.209409   5.397583   5.978123   \n",
       "0            CU0016  0.237211  1.357512  6.812568  10.929441   7.290664   \n",
       "\n",
       "     t_anti  \n",
       "0  0.158691  \n",
       "0  0.085399  \n",
       "0  0.135845  \n",
       "0  0.135637  \n",
       "0  0.106280  "
      ]
     },
     "execution_count": 34,
     "metadata": {},
     "output_type": "execute_result"
    }
   ],
   "source": [
    "tw_df.head()"
   ]
  },
  {
   "cell_type": "code",
   "execution_count": 35,
   "metadata": {
    "collapsed": false
   },
   "outputs": [],
   "source": [
    "# merge with the clinical data\n",
    "clin_df = pd.read_csv('/Users/mlm2/Work/Expts/EMBARC/Data/groups.csv')\n",
    "tw_merged = tw_df.merge(clin_df, on='ProjectSpecificID')"
   ]
  },
  {
   "cell_type": "code",
   "execution_count": 36,
   "metadata": {
    "collapsed": false
   },
   "outputs": [
    {
     "data": {
      "text/html": [
       "<div>\n",
       "<table border=\"1\" class=\"dataframe\">\n",
       "  <thead>\n",
       "    <tr style=\"text-align: right;\">\n",
       "      <th></th>\n",
       "      <th>ProjectSpecificID</th>\n",
       "      <th>t</th>\n",
       "      <th>a</th>\n",
       "      <th>v_pro</th>\n",
       "      <th>v_stop</th>\n",
       "      <th>v_anti</th>\n",
       "      <th>t_anti</th>\n",
       "      <th>sample</th>\n",
       "      <th>feasibility</th>\n",
       "      <th>trainingset</th>\n",
       "      <th>...</th>\n",
       "      <th>hamd_28</th>\n",
       "      <th>hamd_29</th>\n",
       "      <th>hamd_30</th>\n",
       "      <th>hamd_31</th>\n",
       "      <th>hamd_32</th>\n",
       "      <th>hamd_33</th>\n",
       "      <th>hamd_34</th>\n",
       "      <th>hamd_35</th>\n",
       "      <th>hamd_36</th>\n",
       "      <th>hamd_score_24</th>\n",
       "    </tr>\n",
       "  </thead>\n",
       "  <tbody>\n",
       "    <tr>\n",
       "      <th>0</th>\n",
       "      <td>CU0009</td>\n",
       "      <td>0.243810</td>\n",
       "      <td>0.830434</td>\n",
       "      <td>5.513486</td>\n",
       "      <td>8.782450</td>\n",
       "      <td>13.633526</td>\n",
       "      <td>0.158691</td>\n",
       "      <td>2.0</td>\n",
       "      <td>4.0</td>\n",
       "      <td>NaN</td>\n",
       "      <td>...</td>\n",
       "      <td>NaN</td>\n",
       "      <td>NaN</td>\n",
       "      <td>NaN</td>\n",
       "      <td>NaN</td>\n",
       "      <td>NaN</td>\n",
       "      <td>NaN</td>\n",
       "      <td>NaN</td>\n",
       "      <td>NaN</td>\n",
       "      <td>NaN</td>\n",
       "      <td>NaN</td>\n",
       "    </tr>\n",
       "    <tr>\n",
       "      <th>1</th>\n",
       "      <td>CU0011</td>\n",
       "      <td>0.240681</td>\n",
       "      <td>1.410445</td>\n",
       "      <td>7.384086</td>\n",
       "      <td>11.147636</td>\n",
       "      <td>7.677219</td>\n",
       "      <td>0.085399</td>\n",
       "      <td>1.0</td>\n",
       "      <td>3.0</td>\n",
       "      <td>1.0</td>\n",
       "      <td>...</td>\n",
       "      <td>0.0</td>\n",
       "      <td>0.0</td>\n",
       "      <td>1.0</td>\n",
       "      <td>0.0</td>\n",
       "      <td>0.0</td>\n",
       "      <td>0.0</td>\n",
       "      <td>0.0</td>\n",
       "      <td>0.0</td>\n",
       "      <td>11.0</td>\n",
       "      <td>12.0</td>\n",
       "    </tr>\n",
       "    <tr>\n",
       "      <th>2</th>\n",
       "      <td>CU0013</td>\n",
       "      <td>0.202924</td>\n",
       "      <td>1.198627</td>\n",
       "      <td>8.063158</td>\n",
       "      <td>10.480167</td>\n",
       "      <td>9.406476</td>\n",
       "      <td>0.135845</td>\n",
       "      <td>2.0</td>\n",
       "      <td>4.0</td>\n",
       "      <td>NaN</td>\n",
       "      <td>...</td>\n",
       "      <td>0.0</td>\n",
       "      <td>1.0</td>\n",
       "      <td>0.0</td>\n",
       "      <td>0.0</td>\n",
       "      <td>0.0</td>\n",
       "      <td>0.0</td>\n",
       "      <td>0.0</td>\n",
       "      <td>0.0</td>\n",
       "      <td>3.0</td>\n",
       "      <td>3.0</td>\n",
       "    </tr>\n",
       "    <tr>\n",
       "      <th>3</th>\n",
       "      <td>CU0014</td>\n",
       "      <td>0.254951</td>\n",
       "      <td>0.475997</td>\n",
       "      <td>4.209409</td>\n",
       "      <td>5.397583</td>\n",
       "      <td>5.978123</td>\n",
       "      <td>0.135637</td>\n",
       "      <td>1.0</td>\n",
       "      <td>3.0</td>\n",
       "      <td>1.0</td>\n",
       "      <td>...</td>\n",
       "      <td>0.0</td>\n",
       "      <td>0.0</td>\n",
       "      <td>0.0</td>\n",
       "      <td>0.0</td>\n",
       "      <td>0.0</td>\n",
       "      <td>0.0</td>\n",
       "      <td>0.0</td>\n",
       "      <td>0.0</td>\n",
       "      <td>13.0</td>\n",
       "      <td>21.0</td>\n",
       "    </tr>\n",
       "    <tr>\n",
       "      <th>4</th>\n",
       "      <td>CU0016</td>\n",
       "      <td>0.237211</td>\n",
       "      <td>1.357512</td>\n",
       "      <td>6.812568</td>\n",
       "      <td>10.929441</td>\n",
       "      <td>7.290664</td>\n",
       "      <td>0.106280</td>\n",
       "      <td>1.0</td>\n",
       "      <td>3.0</td>\n",
       "      <td>1.0</td>\n",
       "      <td>...</td>\n",
       "      <td>0.0</td>\n",
       "      <td>1.0</td>\n",
       "      <td>0.0</td>\n",
       "      <td>0.0</td>\n",
       "      <td>0.0</td>\n",
       "      <td>2.0</td>\n",
       "      <td>0.0</td>\n",
       "      <td>0.0</td>\n",
       "      <td>23.0</td>\n",
       "      <td>34.0</td>\n",
       "    </tr>\n",
       "  </tbody>\n",
       "</table>\n",
       "<p>5 rows × 1023 columns</p>\n",
       "</div>"
      ],
      "text/plain": [
       "  ProjectSpecificID         t         a     v_pro     v_stop     v_anti  \\\n",
       "0            CU0009  0.243810  0.830434  5.513486   8.782450  13.633526   \n",
       "1            CU0011  0.240681  1.410445  7.384086  11.147636   7.677219   \n",
       "2            CU0013  0.202924  1.198627  8.063158  10.480167   9.406476   \n",
       "3            CU0014  0.254951  0.475997  4.209409   5.397583   5.978123   \n",
       "4            CU0016  0.237211  1.357512  6.812568  10.929441   7.290664   \n",
       "\n",
       "     t_anti  sample  feasibility  trainingset      ...        hamd_28  \\\n",
       "0  0.158691     2.0          4.0          NaN      ...            NaN   \n",
       "1  0.085399     1.0          3.0          1.0      ...            0.0   \n",
       "2  0.135845     2.0          4.0          NaN      ...            0.0   \n",
       "3  0.135637     1.0          3.0          1.0      ...            0.0   \n",
       "4  0.106280     1.0          3.0          1.0      ...            0.0   \n",
       "\n",
       "   hamd_29  hamd_30  hamd_31  hamd_32  hamd_33  hamd_34  hamd_35  hamd_36  \\\n",
       "0      NaN      NaN      NaN      NaN      NaN      NaN      NaN      NaN   \n",
       "1      0.0      1.0      0.0      0.0      0.0      0.0      0.0     11.0   \n",
       "2      1.0      0.0      0.0      0.0      0.0      0.0      0.0      3.0   \n",
       "3      0.0      0.0      0.0      0.0      0.0      0.0      0.0     13.0   \n",
       "4      1.0      0.0      0.0      0.0      2.0      0.0      0.0     23.0   \n",
       "\n",
       "   hamd_score_24  \n",
       "0            NaN  \n",
       "1           12.0  \n",
       "2            3.0  \n",
       "3           21.0  \n",
       "4           34.0  \n",
       "\n",
       "[5 rows x 1023 columns]"
      ]
     },
     "execution_count": 36,
     "metadata": {},
     "output_type": "execute_result"
    }
   ],
   "source": [
    "tw_merged.head()"
   ]
  },
  {
   "cell_type": "code",
   "execution_count": 13,
   "metadata": {
    "collapsed": false
   },
   "outputs": [
    {
     "data": {
      "text/html": [
       "<div>\n",
       "<table border=\"1\" class=\"dataframe\">\n",
       "  <thead>\n",
       "    <tr style=\"text-align: right;\">\n",
       "      <th></th>\n",
       "      <th>Unnamed: 0</th>\n",
       "      <th>subj_idx</th>\n",
       "      <th>site</th>\n",
       "      <th>subject</th>\n",
       "      <th>session</th>\n",
       "      <th>group</th>\n",
       "      <th>block</th>\n",
       "      <th>trial</th>\n",
       "      <th>stimulus</th>\n",
       "      <th>response</th>\n",
       "      <th>accuracy</th>\n",
       "      <th>rt</th>\n",
       "      <th>feedback</th>\n",
       "      <th>response_side</th>\n",
       "      <th>cond</th>\n",
       "    </tr>\n",
       "  </thead>\n",
       "  <tbody>\n",
       "    <tr>\n",
       "      <th>0</th>\n",
       "      <td>0</td>\n",
       "      <td>CU0009</td>\n",
       "      <td>CU</td>\n",
       "      <td>9</td>\n",
       "      <td>1</td>\n",
       "      <td>0</td>\n",
       "      <td>1</td>\n",
       "      <td>1</td>\n",
       "      <td>INC</td>\n",
       "      <td>1.0</td>\n",
       "      <td>1.0</td>\n",
       "      <td>0.541</td>\n",
       "      <td>Blank</td>\n",
       "      <td>right</td>\n",
       "      <td>incong</td>\n",
       "    </tr>\n",
       "    <tr>\n",
       "      <th>1</th>\n",
       "      <td>1</td>\n",
       "      <td>CU0009</td>\n",
       "      <td>CU</td>\n",
       "      <td>9</td>\n",
       "      <td>1</td>\n",
       "      <td>0</td>\n",
       "      <td>1</td>\n",
       "      <td>2</td>\n",
       "      <td>CON</td>\n",
       "      <td>1.0</td>\n",
       "      <td>1.0</td>\n",
       "      <td>0.502</td>\n",
       "      <td>Blank</td>\n",
       "      <td>left</td>\n",
       "      <td>cong</td>\n",
       "    </tr>\n",
       "    <tr>\n",
       "      <th>2</th>\n",
       "      <td>2</td>\n",
       "      <td>CU0009</td>\n",
       "      <td>CU</td>\n",
       "      <td>9</td>\n",
       "      <td>1</td>\n",
       "      <td>0</td>\n",
       "      <td>1</td>\n",
       "      <td>3</td>\n",
       "      <td>INC</td>\n",
       "      <td>0.0</td>\n",
       "      <td>0.0</td>\n",
       "      <td>0.379</td>\n",
       "      <td>Blank</td>\n",
       "      <td>right</td>\n",
       "      <td>incong</td>\n",
       "    </tr>\n",
       "    <tr>\n",
       "      <th>3</th>\n",
       "      <td>3</td>\n",
       "      <td>CU0009</td>\n",
       "      <td>CU</td>\n",
       "      <td>9</td>\n",
       "      <td>1</td>\n",
       "      <td>0</td>\n",
       "      <td>1</td>\n",
       "      <td>4</td>\n",
       "      <td>CON</td>\n",
       "      <td>1.0</td>\n",
       "      <td>1.0</td>\n",
       "      <td>0.379</td>\n",
       "      <td>Blank</td>\n",
       "      <td>right</td>\n",
       "      <td>cong</td>\n",
       "    </tr>\n",
       "    <tr>\n",
       "      <th>4</th>\n",
       "      <td>4</td>\n",
       "      <td>CU0009</td>\n",
       "      <td>CU</td>\n",
       "      <td>9</td>\n",
       "      <td>1</td>\n",
       "      <td>0</td>\n",
       "      <td>1</td>\n",
       "      <td>5</td>\n",
       "      <td>INC</td>\n",
       "      <td>1.0</td>\n",
       "      <td>1.0</td>\n",
       "      <td>0.491</td>\n",
       "      <td>Blank</td>\n",
       "      <td>left</td>\n",
       "      <td>incong</td>\n",
       "    </tr>\n",
       "  </tbody>\n",
       "</table>\n",
       "</div>"
      ],
      "text/plain": [
       "   Unnamed: 0 subj_idx site  subject  session  group  block  trial stimulus  \\\n",
       "0           0   CU0009   CU        9        1      0      1      1      INC   \n",
       "1           1   CU0009   CU        9        1      0      1      2      CON   \n",
       "2           2   CU0009   CU        9        1      0      1      3      INC   \n",
       "3           3   CU0009   CU        9        1      0      1      4      CON   \n",
       "4           4   CU0009   CU        9        1      0      1      5      INC   \n",
       "\n",
       "   response  accuracy     rt feedback response_side    cond  \n",
       "0       1.0       1.0  0.541    Blank         right  incong  \n",
       "1       1.0       1.0  0.502    Blank          left    cong  \n",
       "2       0.0       0.0  0.379    Blank         right  incong  \n",
       "3       1.0       1.0  0.379    Blank         right    cong  \n",
       "4       1.0       1.0  0.491    Blank          left  incong  "
      ]
     },
     "execution_count": 13,
     "metadata": {},
     "output_type": "execute_result"
    }
   ],
   "source": [
    "old_ppl = pd.read_csv('/Users/mlm2/Work/Expts/EMBARC/depressed_flanker_tw.csv')\n",
    "old_ppl.head()"
   ]
  },
  {
   "cell_type": "code",
   "execution_count": 38,
   "metadata": {
    "collapsed": true
   },
   "outputs": [],
   "source": [
    "tw_merged['feasibility'].replace(to_replace = 1.0,value = 'MDD', inplace = True) \n",
    "tw_merged['feasibility'].replace(to_replace = 3.0,value = 'MDD', inplace = True) \n",
    "tw_merged['feasibility'].replace(to_replace = 5.0,value = 'MDD', inplace = True) \n",
    "tw_merged['feasibility'].replace(to_replace = 4.0,value = 'CTL', inplace = True) "
   ]
  },
  {
   "cell_type": "markdown",
   "metadata": {},
   "source": [
    "Before looking at the results with everyone, I want to look at just the people that were included in the 2015 paper, to make sure the parameters are the same. "
   ]
  },
  {
   "cell_type": "code",
   "execution_count": 39,
   "metadata": {
    "collapsed": false
   },
   "outputs": [
    {
     "data": {
      "text/plain": [
       "feasibility\n",
       "CTL    37\n",
       "MDD    92\n",
       "Name: ProjectSpecificID, dtype: int64"
      ]
     },
     "execution_count": 39,
     "metadata": {},
     "output_type": "execute_result"
    }
   ],
   "source": [
    "# get the subject IDs for the people that were included in the first paper from the csv that tw sent\n",
    "data_tw_peeps = tw_merged[tw_merged.ProjectSpecificID.isin(old_ppl.subj_idx.unique())]\n",
    "\n",
    "# Do we have 37 controls and 92 MDDs as reported in the paper?\n",
    "# YES\n",
    "data_tw_peeps.groupby('feasibility').ProjectSpecificID.nunique()"
   ]
  },
  {
   "cell_type": "code",
   "execution_count": 40,
   "metadata": {
    "collapsed": false
   },
   "outputs": [
    {
     "data": {
      "text/html": [
       "<div>\n",
       "<table border=\"1\" class=\"dataframe\">\n",
       "  <thead>\n",
       "    <tr style=\"text-align: right;\">\n",
       "      <th></th>\n",
       "      <th>CTL_mean</th>\n",
       "      <th>MDD_mean</th>\n",
       "      <th>pvalue</th>\n",
       "      <th>statistic</th>\n",
       "    </tr>\n",
       "  </thead>\n",
       "  <tbody>\n",
       "    <tr>\n",
       "      <th>a</th>\n",
       "      <td>1.028934</td>\n",
       "      <td>1.160762</td>\n",
       "      <td>0.097857</td>\n",
       "      <td>1.667611</td>\n",
       "    </tr>\n",
       "    <tr>\n",
       "      <th>t</th>\n",
       "      <td>0.213950</td>\n",
       "      <td>0.205497</td>\n",
       "      <td>0.415732</td>\n",
       "      <td>-0.816520</td>\n",
       "    </tr>\n",
       "    <tr>\n",
       "      <th>t_anti</th>\n",
       "      <td>0.128966</td>\n",
       "      <td>0.138768</td>\n",
       "      <td>0.141640</td>\n",
       "      <td>1.478911</td>\n",
       "    </tr>\n",
       "    <tr>\n",
       "      <th>v_anti</th>\n",
       "      <td>10.148298</td>\n",
       "      <td>9.322486</td>\n",
       "      <td>0.106415</td>\n",
       "      <td>-1.626062</td>\n",
       "    </tr>\n",
       "    <tr>\n",
       "      <th>v_pro</th>\n",
       "      <td>6.984221</td>\n",
       "      <td>6.414638</td>\n",
       "      <td>0.022839</td>\n",
       "      <td>-2.304145</td>\n",
       "    </tr>\n",
       "    <tr>\n",
       "      <th>v_stop</th>\n",
       "      <td>9.760866</td>\n",
       "      <td>9.685562</td>\n",
       "      <td>0.850732</td>\n",
       "      <td>-0.188569</td>\n",
       "    </tr>\n",
       "  </tbody>\n",
       "</table>\n",
       "</div>"
      ],
      "text/plain": [
       "         CTL_mean  MDD_mean    pvalue  statistic\n",
       "a        1.028934  1.160762  0.097857   1.667611\n",
       "t        0.213950  0.205497  0.415732  -0.816520\n",
       "t_anti   0.128966  0.138768  0.141640   1.478911\n",
       "v_anti  10.148298  9.322486  0.106415  -1.626062\n",
       "v_pro    6.984221  6.414638  0.022839  -2.304145\n",
       "v_stop   9.760866  9.685562  0.850732  -0.188569"
      ]
     },
     "execution_count": 40,
     "metadata": {},
     "output_type": "execute_result"
    }
   ],
   "source": [
    "list_of_params = ['t', 'v_pro', 'v_stop', 'v_anti', 't_anti', 'a']\n",
    "d = {}\n",
    "for param in list_of_params:\n",
    "    results = sp.stats.ttest_ind(data_tw_peeps[(data_tw_peeps.feasibility == 'MDD')][param],\n",
    "            data_tw_peeps[(data_tw_peeps.feasibility == 'CTL')][param])\n",
    "    means = data_tw_peeps.groupby('feasibility')[param].mean()\n",
    "    p = {}\n",
    "    p['statistic'] = results[0]\n",
    "    p['pvalue'] = results[1]\n",
    "    p['MDD_mean'] = means[1]\n",
    "    p['CTL_mean'] = means[0]\n",
    "    d[param] = p\n",
    "df = pd.DataFrame.from_dict(d, orient='index')\n",
    "df"
   ]
  },
  {
   "cell_type": "markdown",
   "metadata": {},
   "source": [
    "The above df is slightly different from the table 1 in the 2015 paper. The v_pro difference is still significant here, but there's no v_anti group difference. There aren't any huge differences between the means here and the means in the paper, but they aren't exactly the same and I'm not really sure why. At first I thought it was because we included the outlier trials, but then I redid it removing those (see TW_components_new folder) and that didn't fix the problem. Accumodels removes the outliers on its own, so they shouldn't be removed beforehand anyway.  \n",
    "  \n",
    "What about the correlations that were found in the first paper?"
   ]
  },
  {
   "cell_type": "code",
   "execution_count": 41,
   "metadata": {
    "collapsed": false,
    "scrolled": false
   },
   "outputs": [
    {
     "data": {
      "image/png": "[encoded data removed]",
      "text/plain": [
       "<matplotlib.figure.Figure at 0x1117b1e90>"
      ]
     },
     "metadata": {},
     "output_type": "display_data"
    }
   ],
   "source": [
    "# Does the correlation w/ shaps + v_anti found in the first paper look generally the same?\n",
    "# Yes, though note that the v_anti scores are not exactly the same. That low shaps is TX0096, who had a v_anti\n",
    "# of 8 in the paper\n",
    "\n",
    "executive_shaps = sns.lmplot(y = 'v_anti', x = 'shaps_total_continuous', data = data_tw_peeps[data_tw_peeps['feasibility'] == 'MDD'], ci=68)"
   ]
  },
  {
   "cell_type": "code",
   "execution_count": 42,
   "metadata": {
    "collapsed": false
   },
   "outputs": [
    {
     "data": {
      "image/png": "[encoded data removed]",
      "text/plain": [
       "<matplotlib.figure.Figure at 0x11e692550>"
      ]
     },
     "metadata": {},
     "output_type": "display_data"
    }
   ],
   "source": [
    "# What about the lack of correlation with v_pro?\n",
    "# Yes, generally, except for that one really high point, which is UM0027. Nothing looks particularly weird about their data.\n",
    "\n",
    "prepotent_shaps = sns.lmplot(y = 'v_pro', x = 'shaps_total_continuous', data = data_tw_peeps[data_tw_peeps['feasibility'] == 'MDD'], ci=68)"
   ]
  },
  {
   "cell_type": "markdown",
   "metadata": {},
   "source": [
    "Is this because our data is different from the first point of analysis?"
   ]
  },
  {
   "cell_type": "code",
   "execution_count": 21,
   "metadata": {
    "collapsed": false
   },
   "outputs": [],
   "source": [
    "ours_to_compare = pd.read_csv('/Users/mlm2/Work/Expts/EMBARC/Data/Flanker/to_compare/ours_to_compare.csv')\n",
    "tw_to_compare = pd.read_csv('/Users/mlm2/Work/Expts/EMBARC/Data/Flanker/to_compare/tw_to_compare.csv')"
   ]
  },
  {
   "cell_type": "code",
   "execution_count": 22,
   "metadata": {
    "collapsed": false
   },
   "outputs": [],
   "source": [
    "ours_to_compare = ours_to_compare[ours_to_compare.ProjectSpecificID.isin(old_ppl.subj_idx.unique())]"
   ]
  },
  {
   "cell_type": "code",
   "execution_count": 23,
   "metadata": {
    "collapsed": false
   },
   "outputs": [
    {
     "data": {
      "text/html": [
       "<div>\n",
       "<table border=\"1\" class=\"dataframe\">\n",
       "  <thead>\n",
       "    <tr style=\"text-align: right;\">\n",
       "      <th></th>\n",
       "      <th>ProjectSpecificID</th>\n",
       "      <th>site</th>\n",
       "      <th>subject</th>\n",
       "      <th>session</th>\n",
       "      <th>group</th>\n",
       "      <th>block</th>\n",
       "      <th>trial</th>\n",
       "      <th>stimulus</th>\n",
       "      <th>response</th>\n",
       "      <th>accuracy</th>\n",
       "      <th>rt</th>\n",
       "      <th>feedback</th>\n",
       "    </tr>\n",
       "  </thead>\n",
       "  <tbody>\n",
       "    <tr>\n",
       "      <th>0</th>\n",
       "      <td>CU0009</td>\n",
       "      <td>CU</td>\n",
       "      <td>9</td>\n",
       "      <td>1</td>\n",
       "      <td>CTL</td>\n",
       "      <td>1</td>\n",
       "      <td>1</td>\n",
       "      <td>INC</td>\n",
       "      <td>1.0</td>\n",
       "      <td>1.0</td>\n",
       "      <td>0.541</td>\n",
       "      <td>Blank</td>\n",
       "    </tr>\n",
       "    <tr>\n",
       "      <th>1</th>\n",
       "      <td>CU0009</td>\n",
       "      <td>CU</td>\n",
       "      <td>9</td>\n",
       "      <td>1</td>\n",
       "      <td>CTL</td>\n",
       "      <td>1</td>\n",
       "      <td>2</td>\n",
       "      <td>CON</td>\n",
       "      <td>1.0</td>\n",
       "      <td>1.0</td>\n",
       "      <td>0.502</td>\n",
       "      <td>Blank</td>\n",
       "    </tr>\n",
       "    <tr>\n",
       "      <th>2</th>\n",
       "      <td>CU0009</td>\n",
       "      <td>CU</td>\n",
       "      <td>9</td>\n",
       "      <td>1</td>\n",
       "      <td>CTL</td>\n",
       "      <td>1</td>\n",
       "      <td>3</td>\n",
       "      <td>INC</td>\n",
       "      <td>0.0</td>\n",
       "      <td>0.0</td>\n",
       "      <td>0.379</td>\n",
       "      <td>Blank</td>\n",
       "    </tr>\n",
       "    <tr>\n",
       "      <th>3</th>\n",
       "      <td>CU0009</td>\n",
       "      <td>CU</td>\n",
       "      <td>9</td>\n",
       "      <td>1</td>\n",
       "      <td>CTL</td>\n",
       "      <td>1</td>\n",
       "      <td>4</td>\n",
       "      <td>CON</td>\n",
       "      <td>1.0</td>\n",
       "      <td>1.0</td>\n",
       "      <td>0.379</td>\n",
       "      <td>Blank</td>\n",
       "    </tr>\n",
       "    <tr>\n",
       "      <th>4</th>\n",
       "      <td>CU0009</td>\n",
       "      <td>CU</td>\n",
       "      <td>9</td>\n",
       "      <td>1</td>\n",
       "      <td>CTL</td>\n",
       "      <td>1</td>\n",
       "      <td>5</td>\n",
       "      <td>INC</td>\n",
       "      <td>1.0</td>\n",
       "      <td>1.0</td>\n",
       "      <td>0.491</td>\n",
       "      <td>Blank</td>\n",
       "    </tr>\n",
       "  </tbody>\n",
       "</table>\n",
       "</div>"
      ],
      "text/plain": [
       "  ProjectSpecificID site  subject  session group  block  trial stimulus  \\\n",
       "0            CU0009   CU        9        1   CTL      1      1      INC   \n",
       "1            CU0009   CU        9        1   CTL      1      2      CON   \n",
       "2            CU0009   CU        9        1   CTL      1      3      INC   \n",
       "3            CU0009   CU        9        1   CTL      1      4      CON   \n",
       "4            CU0009   CU        9        1   CTL      1      5      INC   \n",
       "\n",
       "   response  accuracy     rt feedback  \n",
       "0       1.0       1.0  0.541    Blank  \n",
       "1       1.0       1.0  0.502    Blank  \n",
       "2       0.0       0.0  0.379    Blank  \n",
       "3       1.0       1.0  0.379    Blank  \n",
       "4       1.0       1.0  0.491    Blank  "
      ]
     },
     "execution_count": 23,
     "metadata": {},
     "output_type": "execute_result"
    }
   ],
   "source": [
    "ours_to_compare.head()"
   ]
  },
  {
   "cell_type": "code",
   "execution_count": 24,
   "metadata": {
    "collapsed": false
   },
   "outputs": [
    {
     "data": {
      "text/html": [
       "<div>\n",
       "<table border=\"1\" class=\"dataframe\">\n",
       "  <thead>\n",
       "    <tr style=\"text-align: right;\">\n",
       "      <th></th>\n",
       "      <th>ProjectSpecificID</th>\n",
       "      <th>site</th>\n",
       "      <th>subject</th>\n",
       "      <th>session</th>\n",
       "      <th>group</th>\n",
       "      <th>block</th>\n",
       "      <th>trial</th>\n",
       "      <th>stimulus</th>\n",
       "      <th>response</th>\n",
       "      <th>accuracy</th>\n",
       "      <th>rt</th>\n",
       "      <th>feedback</th>\n",
       "    </tr>\n",
       "  </thead>\n",
       "  <tbody>\n",
       "    <tr>\n",
       "      <th>0</th>\n",
       "      <td>CU0009</td>\n",
       "      <td>CU</td>\n",
       "      <td>9</td>\n",
       "      <td>1</td>\n",
       "      <td>CTL</td>\n",
       "      <td>1</td>\n",
       "      <td>1</td>\n",
       "      <td>INC</td>\n",
       "      <td>1.0</td>\n",
       "      <td>1.0</td>\n",
       "      <td>0.541</td>\n",
       "      <td>Blank</td>\n",
       "    </tr>\n",
       "    <tr>\n",
       "      <th>1</th>\n",
       "      <td>CU0009</td>\n",
       "      <td>CU</td>\n",
       "      <td>9</td>\n",
       "      <td>1</td>\n",
       "      <td>CTL</td>\n",
       "      <td>1</td>\n",
       "      <td>2</td>\n",
       "      <td>CON</td>\n",
       "      <td>1.0</td>\n",
       "      <td>1.0</td>\n",
       "      <td>0.502</td>\n",
       "      <td>Blank</td>\n",
       "    </tr>\n",
       "    <tr>\n",
       "      <th>2</th>\n",
       "      <td>CU0009</td>\n",
       "      <td>CU</td>\n",
       "      <td>9</td>\n",
       "      <td>1</td>\n",
       "      <td>CTL</td>\n",
       "      <td>1</td>\n",
       "      <td>3</td>\n",
       "      <td>INC</td>\n",
       "      <td>0.0</td>\n",
       "      <td>0.0</td>\n",
       "      <td>0.379</td>\n",
       "      <td>Blank</td>\n",
       "    </tr>\n",
       "    <tr>\n",
       "      <th>3</th>\n",
       "      <td>CU0009</td>\n",
       "      <td>CU</td>\n",
       "      <td>9</td>\n",
       "      <td>1</td>\n",
       "      <td>CTL</td>\n",
       "      <td>1</td>\n",
       "      <td>4</td>\n",
       "      <td>CON</td>\n",
       "      <td>1.0</td>\n",
       "      <td>1.0</td>\n",
       "      <td>0.379</td>\n",
       "      <td>Blank</td>\n",
       "    </tr>\n",
       "    <tr>\n",
       "      <th>4</th>\n",
       "      <td>CU0009</td>\n",
       "      <td>CU</td>\n",
       "      <td>9</td>\n",
       "      <td>1</td>\n",
       "      <td>CTL</td>\n",
       "      <td>1</td>\n",
       "      <td>5</td>\n",
       "      <td>INC</td>\n",
       "      <td>1.0</td>\n",
       "      <td>1.0</td>\n",
       "      <td>0.491</td>\n",
       "      <td>Blank</td>\n",
       "    </tr>\n",
       "  </tbody>\n",
       "</table>\n",
       "</div>"
      ],
      "text/plain": [
       "  ProjectSpecificID site  subject  session group  block  trial stimulus  \\\n",
       "0            CU0009   CU        9        1   CTL      1      1      INC   \n",
       "1            CU0009   CU        9        1   CTL      1      2      CON   \n",
       "2            CU0009   CU        9        1   CTL      1      3      INC   \n",
       "3            CU0009   CU        9        1   CTL      1      4      CON   \n",
       "4            CU0009   CU        9        1   CTL      1      5      INC   \n",
       "\n",
       "   response  accuracy     rt feedback  \n",
       "0       1.0       1.0  0.541    Blank  \n",
       "1       1.0       1.0  0.502    Blank  \n",
       "2       0.0       0.0  0.379    Blank  \n",
       "3       1.0       1.0  0.379    Blank  \n",
       "4       1.0       1.0  0.491    Blank  "
      ]
     },
     "execution_count": 24,
     "metadata": {},
     "output_type": "execute_result"
    }
   ],
   "source": [
    "tw_to_compare.head()"
   ]
  },
  {
   "cell_type": "code",
   "execution_count": 25,
   "metadata": {
    "collapsed": true
   },
   "outputs": [],
   "source": [
    "tw_to_compare['group'].replace(to_replace = '1',value = 'MDD', inplace = True) \n",
    "tw_to_compare['group'].replace(to_replace = '0',value = 'CTL', inplace = True) "
   ]
  },
  {
   "cell_type": "code",
   "execution_count": 26,
   "metadata": {
    "collapsed": false
   },
   "outputs": [
    {
     "data": {
      "text/plain": [
       "True"
      ]
     },
     "execution_count": 26,
     "metadata": {},
     "output_type": "execute_result"
    }
   ],
   "source": [
    "# Returns whether or not the two dataframes are the same. It was returning false before b/c the groups are were named \n",
    "# differently in the two files (0/1 vs CTL/MDD), and one file had an index. Now that that's removed, it's saying that \n",
    "# the two dfs are the same. Also confirmed with sdiff. \n",
    "ours_to_compare.equals(tw_to_compare)"
   ]
  },
  {
   "cell_type": "markdown",
   "metadata": {},
   "source": [
    "Even though we'll have to redo once we figure out why the parameters are off, lets look at the parameters with all of the subjects."
   ]
  },
  {
   "cell_type": "code",
   "execution_count": 44,
   "metadata": {
    "collapsed": false
   },
   "outputs": [
    {
     "data": {
      "text/plain": [
       "feasibility\n",
       "CTL     37\n",
       "MDD    266\n",
       "Name: ProjectSpecificID, dtype: int64"
      ]
     },
     "execution_count": 44,
     "metadata": {},
     "output_type": "execute_result"
    }
   ],
   "source": [
    "tw_merged.groupby('feasibility').ProjectSpecificID.nunique()"
   ]
  },
  {
   "cell_type": "code",
   "execution_count": 17,
   "metadata": {
    "collapsed": false
   },
   "outputs": [
    {
     "data": {
      "text/html": [
       "<div>\n",
       "<table border=\"1\" class=\"dataframe\">\n",
       "  <thead>\n",
       "    <tr style=\"text-align: right;\">\n",
       "      <th></th>\n",
       "      <th>CTL_mean</th>\n",
       "      <th>MDD_mean</th>\n",
       "      <th>pvalue</th>\n",
       "      <th>statistic</th>\n",
       "    </tr>\n",
       "  </thead>\n",
       "  <tbody>\n",
       "    <tr>\n",
       "      <th>a</th>\n",
       "      <td>1.028934</td>\n",
       "      <td>1.145665</td>\n",
       "      <td>0.088640</td>\n",
       "      <td>1.708149</td>\n",
       "    </tr>\n",
       "    <tr>\n",
       "      <th>t</th>\n",
       "      <td>0.213950</td>\n",
       "      <td>0.204129</td>\n",
       "      <td>0.248196</td>\n",
       "      <td>-1.156985</td>\n",
       "    </tr>\n",
       "    <tr>\n",
       "      <th>t_anti</th>\n",
       "      <td>0.128966</td>\n",
       "      <td>0.139264</td>\n",
       "      <td>0.066469</td>\n",
       "      <td>1.841928</td>\n",
       "    </tr>\n",
       "    <tr>\n",
       "      <th>v_anti</th>\n",
       "      <td>10.148298</td>\n",
       "      <td>9.847350</td>\n",
       "      <td>0.545006</td>\n",
       "      <td>-0.605948</td>\n",
       "    </tr>\n",
       "    <tr>\n",
       "      <th>v_pro</th>\n",
       "      <td>6.984221</td>\n",
       "      <td>6.640195</td>\n",
       "      <td>0.167130</td>\n",
       "      <td>-1.384830</td>\n",
       "    </tr>\n",
       "    <tr>\n",
       "      <th>v_stop</th>\n",
       "      <td>9.760866</td>\n",
       "      <td>9.773845</td>\n",
       "      <td>0.971852</td>\n",
       "      <td>0.035315</td>\n",
       "    </tr>\n",
       "  </tbody>\n",
       "</table>\n",
       "</div>"
      ],
      "text/plain": [
       "         CTL_mean  MDD_mean    pvalue  statistic\n",
       "a        1.028934  1.145665  0.088640   1.708149\n",
       "t        0.213950  0.204129  0.248196  -1.156985\n",
       "t_anti   0.128966  0.139264  0.066469   1.841928\n",
       "v_anti  10.148298  9.847350  0.545006  -0.605948\n",
       "v_pro    6.984221  6.640195  0.167130  -1.384830\n",
       "v_stop   9.760866  9.773845  0.971852   0.035315"
      ]
     },
     "execution_count": 17,
     "metadata": {},
     "output_type": "execute_result"
    }
   ],
   "source": [
    "list_of_params = ['t', 'v_pro', 'v_stop', 'v_anti', 't_anti', 'a']\n",
    "d = {}\n",
    "for param in list_of_params:\n",
    "    results = sp.stats.ttest_ind(tw_merged[(tw_merged.feasibility == 'MDD')][param],\n",
    "            tw_merged[(tw_merged.feasibility == 'CTL')][param])\n",
    "    means = tw_merged.groupby('feasibility')[param].mean()\n",
    "    p = {}\n",
    "    p['statistic'] = results[0]\n",
    "    p['pvalue'] = results[1]\n",
    "    p['MDD_mean'] = means[1]\n",
    "    p['CTL_mean'] = means[0]\n",
    "    d[param] = p\n",
    "df = pd.DataFrame.from_dict(d, orient='index')\n",
    "df"
   ]
  },
  {
   "cell_type": "markdown",
   "metadata": {},
   "source": [
    "What about the correlations?"
   ]
  },
  {
   "cell_type": "code",
   "execution_count": 21,
   "metadata": {
    "collapsed": false
   },
   "outputs": [
    {
     "data": {
      "image/png": "[encoded data removed]",
      "text/plain": [
       "<matplotlib.figure.Figure at 0x112ea4ed0>"
      ]
     },
     "metadata": {},
     "output_type": "display_data"
    }
   ],
   "source": [
    "# Does the v_anti correlation remain? \n",
    "# No\n",
    "\n",
    "executive_shaps = sns.lmplot(y = 'v_anti', x = 'shaps_total_continuous', data = tw_merged[tw_merged['feasibility'] == 'MDD'], ci=68)"
   ]
  },
  {
   "cell_type": "code",
   "execution_count": 22,
   "metadata": {
    "collapsed": false
   },
   "outputs": [
    {
     "data": {
      "image/png": "[encoded data removed]",
      "text/plain": [
       "<matplotlib.figure.Figure at 0x112f75910>"
      ]
     },
     "metadata": {},
     "output_type": "display_data"
    }
   ],
   "source": [
    "# And v_pro?\n",
    "\n",
    "prepotent_shaps = sns.lmplot(y = 'v_pro', x = 'shaps_total_continuous', data = tw_merged[tw_merged['feasibility'] == 'MDD'], ci=68)"
   ]
  }
 ],
 "metadata": {
  "kernelspec": {
   "display_name": "Python (2.7)",
   "language": "python",
   "name": "pythontwo"
  },
  "language_info": {
   "codemirror_mode": {
    "name": "ipython",
    "version": 2
   },
   "file_extension": ".py",
   "mimetype": "text/x-python",
   "name": "python",
   "nbconvert_exporter": "python",
   "pygments_lexer": "ipython2",
   "version": "2.7.13"
  }
 },
 "nbformat": 4,
 "nbformat_minor": 0
}
